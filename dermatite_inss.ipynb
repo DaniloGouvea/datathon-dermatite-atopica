{
  "nbformat": 4,
  "nbformat_minor": 0,
  "metadata": {
    "colab": {
      "name": "dermatite_inss.ipynb",
      "provenance": [],
      "collapsed_sections": [
        "ZCck6zEe1FsQ",
        "6JTXPVKz2tn2"
      ],
      "include_colab_link": true
    },
    "kernelspec": {
      "display_name": "Python 3",
      "name": "python3"
    },
    "language_info": {
      "name": "python"
    }
  },
  "cells": [
    {
      "cell_type": "markdown",
      "metadata": {
        "id": "view-in-github",
        "colab_type": "text"
      },
      "source": [
        "<a href=\"https://colab.research.google.com/github/DaniloGouvea/datathon-dermatite-atopica/blob/main/dermatite_inss.ipynb\" target=\"_parent\"><img src=\"https://colab.research.google.com/assets/colab-badge.svg\" alt=\"Open In Colab\"/></a>"
      ]
    },
    {
      "cell_type": "markdown",
      "metadata": {
        "id": "RPkj-ih5z5KT"
      },
      "source": [
        "#**DATATHON - DERMATITE ATÓPICA**#\n",
        "Eretz.bio / Hospital Albert Einstein / Apoio: Abbvie <br>\n",
        "\n",
        "**Grupo de trabalho:**<br>\n",
        "DataDES\n",
        "\n",
        "**Integrantes:** <br>\n",
        "Danilo Gouvea Silva<br>\n",
        "Eduardo R. Malaquias Chagas<br>\n",
        "Suelen Cristina Batista da Silva\n",
        "\n",
        "**Esse notebook responde a parte da PERGUNTA 3 referente aos benefícios do INSS**\n"
      ]
    },
    {
      "cell_type": "markdown",
      "metadata": {
        "id": "ZCck6zEe1FsQ"
      },
      "source": [
        "##**PREPARAÇÃO DO NOTEBOOK E IMPORTAÇÃO DOS DATASETS**##"
      ]
    },
    {
      "cell_type": "code",
      "metadata": {
        "id": "Ev_5pMMOmV1o"
      },
      "source": [
        "# Import libraries\n",
        "from google.colab import files\n",
        "from google.colab import drive\n",
        "from pathlib import Path\n",
        "import pandas as pd\n",
        "import numpy as np\n",
        "import matplotlib.pyplot as plt\n",
        "\n",
        "# Import graphing libraries\n",
        "import plotly.graph_objects as go\n",
        "import plotly.express as px"
      ],
      "execution_count": null,
      "outputs": []
    },
    {
      "cell_type": "code",
      "metadata": {
        "id": "GQSO55SEfa_p"
      },
      "source": [
        "# Import PyDrive and associated libraries\n",
        "# This only needs to be done once per notebook session\n",
        "from pydrive.auth import GoogleAuth\n",
        "from pydrive.drive import GoogleDrive\n",
        "from google.colab import auth\n",
        "from oauth2client.client import GoogleCredentials\n",
        "\n",
        "# Authenticate and create the PyDrive client.\n",
        "# This only needs to be done once per notebook.\n",
        "auth.authenticate_user()\n",
        "gauth = GoogleAuth()\n",
        "gauth.credentials = GoogleCredentials.get_application_default()\n",
        "drive = GoogleDrive(gauth)"
      ],
      "execution_count": null,
      "outputs": []
    },
    {
      "cell_type": "code",
      "metadata": {
        "colab": {
          "base_uri": "https://localhost:8080/"
        },
        "id": "t2NyEEwjyJWq",
        "outputId": "9eb9ba11-cfd0-4825-a55a-f858e54b2af9"
      },
      "source": [
        "# Import data sets from Google Drive\n",
        "# This only needs to be done once per notebook session\n",
        "\n",
        "# '/datathon-dermatite/data/' Google Drive folder id \n",
        "data_id = '1TNeTdeTIez7hZZwOc0WsewaD_n3vzoGx'\n",
        "\n",
        "# List folders under '/datathon-dermatite/data/'\n",
        "folders = drive.ListFile({'q': \"mimeType contains '.folder' and '{}' in parents\".format(data_id)}).GetList()\n",
        "for folder in folders:\n",
        "    if 'inss' in folder['title']:\n",
        "        Path.mkdir(Path() / 'data' / folder['title'], parents=True, exist_ok=True)\n",
        "        files = drive.ListFile({'q': \"title contains '.parquet' and '{}' in parents\".format(folder['id'])}).GetList()\n",
        "        for fn in files:\n",
        "            # Download file\n",
        "            fn_id = fn['id']\n",
        "            fn_title = fn['title']\n",
        "            downloaded = drive.CreateFile({'id': fn_id, 'title': fn_title})\n",
        "            downloaded.GetContentFile(fn_title)\n",
        "\n",
        "            # Move file to right folder\n",
        "            filepath = Path().cwd() / fn_title\n",
        "            Path(filepath).rename(Path().cwd() / 'data' / folder['title'] / fn_title)\n",
        "\n",
        "            # Success message\n",
        "            print(f'\"{fn_title}\" successfully imported to \"./data/{folder[\"title\"]}\"')\n",
        "  \n",
        "# Success message\n",
        "print('ALL FILES IMPORTED!')\n"
      ],
      "execution_count": null,
      "outputs": [
        {
          "output_type": "stream",
          "name": "stdout",
          "text": [
            "\"INSS_beneficios_indeferidos.parquet\" successfully imported to \"./data/inss_beneficios\"\n",
            "\"INSS_beneficios_concedidos.parquet\" successfully imported to \"./data/inss_beneficios\"\n",
            "ALL FILES IMPORTED!\n"
          ]
        }
      ]
    },
    {
      "cell_type": "markdown",
      "metadata": {
        "id": "nbhd8y9LzIAZ"
      },
      "source": [
        "##**PERGUNTA 3**##\n",
        "**Comparação com outros CIDs de doenças crônicas: L40 (psoríase) e L73.2 (hidradenite supurativa)**"
      ]
    },
    {
      "cell_type": "markdown",
      "metadata": {
        "id": "A5jG8pbd1lyR"
      },
      "source": [
        "###INSS - BENEFÍCIOS CONCEDIDOS###\n"
      ]
    },
    {
      "cell_type": "code",
      "metadata": {
        "id": "9Zf7ZhVQ1q8J"
      },
      "source": [
        "# Create dataframe\n",
        "file_path = Path('data/inss_beneficios/INSS_beneficios_concedidos.parquet')\n",
        "df_concedidos = pd.read_parquet(file_path, engine='pyarrow')"
      ],
      "execution_count": null,
      "outputs": []
    },
    {
      "cell_type": "code",
      "metadata": {
        "colab": {
          "base_uri": "https://localhost:8080/"
        },
        "id": "214pbIpT1_eK",
        "outputId": "53b50d5a-0658-4803-eda7-0e5145f41cc9"
      },
      "source": [
        "df_concedidos.info()"
      ],
      "execution_count": null,
      "outputs": [
        {
          "output_type": "stream",
          "name": "stdout",
          "text": [
            "<class 'pandas.core.frame.DataFrame'>\n",
            "Int64Index: 11631138 entries, 0 to 433675\n",
            "Data columns (total 14 columns):\n",
            " #   Column                 Dtype \n",
            "---  ------                 ----- \n",
            " 0   Competência concessão  int64 \n",
            " 1   Espécie                object\n",
            " 2   CID                    object\n",
            " 3   CID.1                  object\n",
            " 4   Despacho               object\n",
            " 5   Dt Nascimento          object\n",
            " 6   Sexo.                  object\n",
            " 7   Clientela              object\n",
            " 8   Mun Resid              object\n",
            " 9   Vínculo dependentes    object\n",
            " 10  Forma Filiação         object\n",
            " 11  UF                     object\n",
            " 12  Qt SM RMI              object\n",
            " 13  CID_1                  object\n",
            "dtypes: int64(1), object(13)\n",
            "memory usage: 1.3+ GB\n"
          ]
        }
      ]
    },
    {
      "cell_type": "code",
      "metadata": {
        "colab": {
          "base_uri": "https://localhost:8080/",
          "height": 182
        },
        "id": "8R22hbLQ2Dhn",
        "outputId": "774e4d47-61d6-4c9d-a17e-bd5dde514c05"
      },
      "source": [
        "df_concedidos.head(2)"
      ],
      "execution_count": null,
      "outputs": [
        {
          "output_type": "execute_result",
          "data": {
            "text/html": [
              "<div>\n",
              "<style scoped>\n",
              "    .dataframe tbody tr th:only-of-type {\n",
              "        vertical-align: middle;\n",
              "    }\n",
              "\n",
              "    .dataframe tbody tr th {\n",
              "        vertical-align: top;\n",
              "    }\n",
              "\n",
              "    .dataframe thead th {\n",
              "        text-align: right;\n",
              "    }\n",
              "</style>\n",
              "<table border=\"1\" class=\"dataframe\">\n",
              "  <thead>\n",
              "    <tr style=\"text-align: right;\">\n",
              "      <th></th>\n",
              "      <th>Competência concessão</th>\n",
              "      <th>Espécie</th>\n",
              "      <th>CID</th>\n",
              "      <th>CID.1</th>\n",
              "      <th>Despacho</th>\n",
              "      <th>Dt Nascimento</th>\n",
              "      <th>Sexo.</th>\n",
              "      <th>Clientela</th>\n",
              "      <th>Mun Resid</th>\n",
              "      <th>Vínculo dependentes</th>\n",
              "      <th>Forma Filiação</th>\n",
              "      <th>UF</th>\n",
              "      <th>Qt SM RMI</th>\n",
              "      <th>CID_1</th>\n",
              "    </tr>\n",
              "  </thead>\n",
              "  <tbody>\n",
              "    <tr>\n",
              "      <th>0</th>\n",
              "      <td>201901</td>\n",
              "      <td>Auxílio Doenca Previdenciário</td>\n",
              "      <td>I83</td>\n",
              "      <td>I83   Varizes dos Membros Infer</td>\n",
              "      <td>Concessao Normal</td>\n",
              "      <td>25/10/1967</td>\n",
              "      <td>Feminino</td>\n",
              "      <td>Urbano</td>\n",
              "      <td>02003-AL-Arapiraca</td>\n",
              "      <td>Filho</td>\n",
              "      <td>Empregado</td>\n",
              "      <td>Alagoas</td>\n",
              "      <td>1,068</td>\n",
              "      <td>None</td>\n",
              "    </tr>\n",
              "    <tr>\n",
              "      <th>1</th>\n",
              "      <td>201901</td>\n",
              "      <td>Auxílio Doenca Previdenciário</td>\n",
              "      <td>S525</td>\n",
              "      <td>S52.5 Frat da Extremidade Distal do Radio</td>\n",
              "      <td>Conc. Base Artigo 27 Inciso Ii do Rbps</td>\n",
              "      <td>16/05/1994</td>\n",
              "      <td>Masculino</td>\n",
              "      <td>Urbano</td>\n",
              "      <td>02003-AL-Arapiraca</td>\n",
              "      <td>Não Informado</td>\n",
              "      <td>Empregado</td>\n",
              "      <td>Alagoas</td>\n",
              "      <td>1,099</td>\n",
              "      <td>None</td>\n",
              "    </tr>\n",
              "  </tbody>\n",
              "</table>\n",
              "</div>"
            ],
            "text/plain": [
              "   Competência concessão                        Espécie  ... Qt SM RMI CID_1\n",
              "0                 201901  Auxílio Doenca Previdenciário  ...     1,068  None\n",
              "1                 201901  Auxílio Doenca Previdenciário  ...     1,099  None\n",
              "\n",
              "[2 rows x 14 columns]"
            ]
          },
          "metadata": {},
          "execution_count": 6
        }
      ]
    },
    {
      "cell_type": "code",
      "metadata": {
        "id": "khGvBFgK2IeU"
      },
      "source": [
        "df_concedidos['Dt Nascimento'] = pd.to_datetime(df_concedidos['Dt Nascimento'], infer_datetime_format=True, errors='coerce')\n",
        "df_concedidos['ANO'] = df_concedidos['Competência concessão'] // 100\n",
        "df_concedidos['MÊS'] = df_concedidos['Competência concessão'] % 100\n",
        "df_concedidos['IDADE'] = df_concedidos['ANO'] - df_concedidos['Dt Nascimento'].dt.year\n",
        "df_concedidos['CID_SHORT'] = df_concedidos.CID.str[:3]"
      ],
      "execution_count": null,
      "outputs": []
    },
    {
      "cell_type": "code",
      "metadata": {
        "id": "UtMR9qfBseNf"
      },
      "source": [
        "# Create column 'FAIXA_ETARIA'\n",
        "df_concedidos['FAIXA_ETARIA'] = np.nan\n",
        "df_concedidos.FAIXA_ETARIA = pd.cut(df_concedidos.IDADE, [0, 5, 11, 17, 29, 49, 150], labels=['0-6', '6-12', '12-18', '18-30', '30-50', '50+'], include_lowest=True)"
      ],
      "execution_count": null,
      "outputs": []
    },
    {
      "cell_type": "code",
      "metadata": {
        "id": "RHTCGkZPfSQc"
      },
      "source": [
        "# Filter dataframe for all L20 and L40 CIDs and L732 specifically\n",
        "df = df_concedidos[(df_concedidos.CID.str[:3].isin(['L20', 'L40'])) | (df_concedidos.CID == 'L732')]"
      ],
      "execution_count": null,
      "outputs": []
    },
    {
      "cell_type": "code",
      "metadata": {
        "colab": {
          "base_uri": "https://localhost:8080/",
          "height": 306
        },
        "id": "11WS52bFqz6k",
        "outputId": "cb373ca6-eedb-4b5a-aa32-8ae5d4b016ee"
      },
      "source": [
        "df.head(2)"
      ],
      "execution_count": null,
      "outputs": [
        {
          "output_type": "execute_result",
          "data": {
            "text/html": [
              "<div>\n",
              "<style scoped>\n",
              "    .dataframe tbody tr th:only-of-type {\n",
              "        vertical-align: middle;\n",
              "    }\n",
              "\n",
              "    .dataframe tbody tr th {\n",
              "        vertical-align: top;\n",
              "    }\n",
              "\n",
              "    .dataframe thead th {\n",
              "        text-align: right;\n",
              "    }\n",
              "</style>\n",
              "<table border=\"1\" class=\"dataframe\">\n",
              "  <thead>\n",
              "    <tr style=\"text-align: right;\">\n",
              "      <th></th>\n",
              "      <th>Competência concessão</th>\n",
              "      <th>Espécie</th>\n",
              "      <th>CID</th>\n",
              "      <th>CID.1</th>\n",
              "      <th>Despacho</th>\n",
              "      <th>Dt Nascimento</th>\n",
              "      <th>Sexo.</th>\n",
              "      <th>Clientela</th>\n",
              "      <th>Mun Resid</th>\n",
              "      <th>Vínculo dependentes</th>\n",
              "      <th>Forma Filiação</th>\n",
              "      <th>UF</th>\n",
              "      <th>Qt SM RMI</th>\n",
              "      <th>CID_1</th>\n",
              "      <th>ANO</th>\n",
              "      <th>MÊS</th>\n",
              "      <th>IDADE</th>\n",
              "      <th>CID_SHORT</th>\n",
              "      <th>FAIXA_ETARIA</th>\n",
              "    </tr>\n",
              "  </thead>\n",
              "  <tbody>\n",
              "    <tr>\n",
              "      <th>841</th>\n",
              "      <td>201901</td>\n",
              "      <td>Auxílio Doenca Previdenciário</td>\n",
              "      <td>L40</td>\n",
              "      <td>L40   Psoriase</td>\n",
              "      <td>Concessao Normal</td>\n",
              "      <td>1966-06-12</td>\n",
              "      <td>Masculino</td>\n",
              "      <td>Rural</td>\n",
              "      <td>04039-BA-Bom Jesus da Lapa</td>\n",
              "      <td>Não Informado</td>\n",
              "      <td>Segurado Especial</td>\n",
              "      <td>Bahia</td>\n",
              "      <td>1,000</td>\n",
              "      <td>None</td>\n",
              "      <td>2019</td>\n",
              "      <td>1</td>\n",
              "      <td>53.0</td>\n",
              "      <td>L40</td>\n",
              "      <td>50+</td>\n",
              "    </tr>\n",
              "    <tr>\n",
              "      <th>2195</th>\n",
              "      <td>201901</td>\n",
              "      <td>Amp. Social Pessoa Portadora Deficiencia</td>\n",
              "      <td>L209</td>\n",
              "      <td>L20.9 Dermatite Atopica Ne</td>\n",
              "      <td>Concessao Normal</td>\n",
              "      <td>2005-10-20</td>\n",
              "      <td>Masculino</td>\n",
              "      <td>Urbano</td>\n",
              "      <td>05043-CE-Crato</td>\n",
              "      <td>Não Informado</td>\n",
              "      <td>Desempregado</td>\n",
              "      <td>Ceará</td>\n",
              "      <td>1,000</td>\n",
              "      <td>None</td>\n",
              "      <td>2019</td>\n",
              "      <td>1</td>\n",
              "      <td>14.0</td>\n",
              "      <td>L20</td>\n",
              "      <td>12-18</td>\n",
              "    </tr>\n",
              "  </tbody>\n",
              "</table>\n",
              "</div>"
            ],
            "text/plain": [
              "      Competência concessão  ... FAIXA_ETARIA\n",
              "841                  201901  ...          50+\n",
              "2195                 201901  ...        12-18\n",
              "\n",
              "[2 rows x 19 columns]"
            ]
          },
          "metadata": {},
          "execution_count": 10
        }
      ]
    },
    {
      "cell_type": "markdown",
      "metadata": {
        "id": "aGj7gh4CzUta"
      },
      "source": [
        "**3.1 Quantos benefícios solicitados e concedidos comparativamente entre as doenças?**"
      ]
    },
    {
      "cell_type": "code",
      "metadata": {
        "colab": {
          "base_uri": "https://localhost:8080/",
          "height": 269
        },
        "id": "v94-SKDfq0G7",
        "outputId": "6052b907-ba02-4cd8-e4fe-f6d5ca27af6b"
      },
      "source": [
        "cids = df[df.ANO != 2021].groupby(['ANO', 'CID_SHORT']).agg(\n",
        "    CID=pd.NamedAgg('CID.1', 'first'),\n",
        "    NUM_BENEFICIOS=pd.NamedAgg('CID_SHORT', 'count')\n",
        ").sort_values(['ANO', 'NUM_BENEFICIOS'], ascending=[True, False])\n",
        "\n",
        "cids['PORCENTAGEM'] = np.NaN\n",
        "\n",
        "for year in cids.reset_index().ANO.unique():\n",
        "  total = cids.loc[year].NUM_BENEFICIOS.sum()\n",
        "  cids.loc[year, 'PORCENTAGEM'] = round(cids.NUM_BENEFICIOS / total * 100, 1)\n",
        "\n",
        "cids[['NUM_BENEFICIOS','PORCENTAGEM']]"
      ],
      "execution_count": null,
      "outputs": [
        {
          "output_type": "execute_result",
          "data": {
            "text/html": [
              "<div>\n",
              "<style scoped>\n",
              "    .dataframe tbody tr th:only-of-type {\n",
              "        vertical-align: middle;\n",
              "    }\n",
              "\n",
              "    .dataframe tbody tr th {\n",
              "        vertical-align: top;\n",
              "    }\n",
              "\n",
              "    .dataframe thead th {\n",
              "        text-align: right;\n",
              "    }\n",
              "</style>\n",
              "<table border=\"1\" class=\"dataframe\">\n",
              "  <thead>\n",
              "    <tr style=\"text-align: right;\">\n",
              "      <th></th>\n",
              "      <th></th>\n",
              "      <th>NUM_BENEFICIOS</th>\n",
              "      <th>PORCENTAGEM</th>\n",
              "    </tr>\n",
              "    <tr>\n",
              "      <th>ANO</th>\n",
              "      <th>CID_SHORT</th>\n",
              "      <th></th>\n",
              "      <th></th>\n",
              "    </tr>\n",
              "  </thead>\n",
              "  <tbody>\n",
              "    <tr>\n",
              "      <th rowspan=\"3\" valign=\"top\">2019</th>\n",
              "      <th>L40</th>\n",
              "      <td>1378</td>\n",
              "      <td>69.5</td>\n",
              "    </tr>\n",
              "    <tr>\n",
              "      <th>L20</th>\n",
              "      <td>303</td>\n",
              "      <td>15.3</td>\n",
              "    </tr>\n",
              "    <tr>\n",
              "      <th>L73</th>\n",
              "      <td>303</td>\n",
              "      <td>15.3</td>\n",
              "    </tr>\n",
              "    <tr>\n",
              "      <th rowspan=\"3\" valign=\"top\">2020</th>\n",
              "      <th>L40</th>\n",
              "      <td>466</td>\n",
              "      <td>69.2</td>\n",
              "    </tr>\n",
              "    <tr>\n",
              "      <th>L73</th>\n",
              "      <td>111</td>\n",
              "      <td>16.5</td>\n",
              "    </tr>\n",
              "    <tr>\n",
              "      <th>L20</th>\n",
              "      <td>96</td>\n",
              "      <td>14.3</td>\n",
              "    </tr>\n",
              "  </tbody>\n",
              "</table>\n",
              "</div>"
            ],
            "text/plain": [
              "                NUM_BENEFICIOS  PORCENTAGEM\n",
              "ANO  CID_SHORT                             \n",
              "2019 L40                  1378         69.5\n",
              "     L20                   303         15.3\n",
              "     L73                   303         15.3\n",
              "2020 L40                   466         69.2\n",
              "     L73                   111         16.5\n",
              "     L20                    96         14.3"
            ]
          },
          "metadata": {},
          "execution_count": 11
        }
      ]
    },
    {
      "cell_type": "code",
      "metadata": {
        "id": "nv6y0U0gM6vd"
      },
      "source": [
        "mask_cids=cids.reset_index().replace({'CID_SHORT' : { 'L20' : 'Dermatite atópica', 'L40' : 'Psoríase', 'L73' : 'Hidradenite Supurativa' }})"
      ],
      "execution_count": null,
      "outputs": []
    },
    {
      "cell_type": "code",
      "metadata": {
        "colab": {
          "base_uri": "https://localhost:8080/",
          "height": 542
        },
        "id": "fv4cim-ByFMB",
        "outputId": "ba8d079d-8b78-4bed-8dfb-10dc00191738"
      },
      "source": [
        "px.bar(mask_cids.reset_index(),x='ANO',y='NUM_BENEFICIOS',color='CID_SHORT',title= 'Quantos benefícios solicitados e concedidos comparativamente entre as doenças?',barmode='group')"
      ],
      "execution_count": null,
      "outputs": [
        {
          "output_type": "display_data",
          "data": {
            "text/html": [
              "<html>\n",
              "<head><meta charset=\"utf-8\" /></head>\n",
              "<body>\n",
              "    <div>\n",
              "            <script src=\"https://cdnjs.cloudflare.com/ajax/libs/mathjax/2.7.5/MathJax.js?config=TeX-AMS-MML_SVG\"></script><script type=\"text/javascript\">if (window.MathJax) {MathJax.Hub.Config({SVG: {font: \"STIX-Web\"}});}</script>\n",
              "                <script type=\"text/javascript\">window.PlotlyConfig = {MathJaxConfig: 'local'};</script>\n",
              "        <script src=\"https://cdn.plot.ly/plotly-latest.min.js\"></script>    \n",
              "            <div id=\"405cd492-8ff2-4843-b053-6389f6a9228f\" class=\"plotly-graph-div\" style=\"height:525px; width:100%;\"></div>\n",
              "            <script type=\"text/javascript\">\n",
              "                \n",
              "                    window.PLOTLYENV=window.PLOTLYENV || {};\n",
              "                    \n",
              "                if (document.getElementById(\"405cd492-8ff2-4843-b053-6389f6a9228f\")) {\n",
              "                    Plotly.newPlot(\n",
              "                        '405cd492-8ff2-4843-b053-6389f6a9228f',\n",
              "                        [{\"alignmentgroup\": \"True\", \"hoverlabel\": {\"namelength\": 0}, \"hovertemplate\": \"CID_SHORT=Psor\\u00edase<br>ANO=%{x}<br>NUM_BENEFICIOS=%{y}\", \"legendgroup\": \"CID_SHORT=Psor\\u00edase\", \"marker\": {\"color\": \"#636efa\"}, \"name\": \"CID_SHORT=Psor\\u00edase\", \"offsetgroup\": \"CID_SHORT=Psor\\u00edase\", \"orientation\": \"v\", \"showlegend\": true, \"textposition\": \"auto\", \"type\": \"bar\", \"x\": [2019, 2020], \"xaxis\": \"x\", \"y\": [1378, 466], \"yaxis\": \"y\"}, {\"alignmentgroup\": \"True\", \"hoverlabel\": {\"namelength\": 0}, \"hovertemplate\": \"CID_SHORT=Dermatite at\\u00f3pica<br>ANO=%{x}<br>NUM_BENEFICIOS=%{y}\", \"legendgroup\": \"CID_SHORT=Dermatite at\\u00f3pica\", \"marker\": {\"color\": \"#EF553B\"}, \"name\": \"CID_SHORT=Dermatite at\\u00f3pica\", \"offsetgroup\": \"CID_SHORT=Dermatite at\\u00f3pica\", \"orientation\": \"v\", \"showlegend\": true, \"textposition\": \"auto\", \"type\": \"bar\", \"x\": [2019, 2020], \"xaxis\": \"x\", \"y\": [303, 96], \"yaxis\": \"y\"}, {\"alignmentgroup\": \"True\", \"hoverlabel\": {\"namelength\": 0}, \"hovertemplate\": \"CID_SHORT=Hidradenite Supurativa<br>ANO=%{x}<br>NUM_BENEFICIOS=%{y}\", \"legendgroup\": \"CID_SHORT=Hidradenite Supurativa\", \"marker\": {\"color\": \"#00cc96\"}, \"name\": \"CID_SHORT=Hidradenite Supurativa\", \"offsetgroup\": \"CID_SHORT=Hidradenite Supurativa\", \"orientation\": \"v\", \"showlegend\": true, \"textposition\": \"auto\", \"type\": \"bar\", \"x\": [2019, 2020], \"xaxis\": \"x\", \"y\": [303, 111], \"yaxis\": \"y\"}],\n",
              "                        {\"barmode\": \"group\", \"legend\": {\"tracegroupgap\": 0}, \"template\": {\"data\": {\"bar\": [{\"error_x\": {\"color\": \"#2a3f5f\"}, \"error_y\": {\"color\": \"#2a3f5f\"}, \"marker\": {\"line\": {\"color\": \"#E5ECF6\", \"width\": 0.5}}, \"type\": \"bar\"}], \"barpolar\": [{\"marker\": {\"line\": {\"color\": \"#E5ECF6\", \"width\": 0.5}}, \"type\": \"barpolar\"}], \"carpet\": [{\"aaxis\": {\"endlinecolor\": \"#2a3f5f\", \"gridcolor\": \"white\", \"linecolor\": \"white\", \"minorgridcolor\": \"white\", \"startlinecolor\": \"#2a3f5f\"}, \"baxis\": {\"endlinecolor\": \"#2a3f5f\", \"gridcolor\": \"white\", \"linecolor\": \"white\", \"minorgridcolor\": \"white\", \"startlinecolor\": \"#2a3f5f\"}, \"type\": \"carpet\"}], \"choropleth\": [{\"colorbar\": {\"outlinewidth\": 0, \"ticks\": \"\"}, \"type\": \"choropleth\"}], \"contour\": [{\"colorbar\": {\"outlinewidth\": 0, \"ticks\": \"\"}, \"colorscale\": [[0.0, \"#0d0887\"], [0.1111111111111111, \"#46039f\"], [0.2222222222222222, \"#7201a8\"], [0.3333333333333333, \"#9c179e\"], [0.4444444444444444, \"#bd3786\"], [0.5555555555555556, \"#d8576b\"], [0.6666666666666666, \"#ed7953\"], [0.7777777777777778, \"#fb9f3a\"], [0.8888888888888888, \"#fdca26\"], [1.0, \"#f0f921\"]], \"type\": \"contour\"}], \"contourcarpet\": [{\"colorbar\": {\"outlinewidth\": 0, \"ticks\": \"\"}, \"type\": \"contourcarpet\"}], \"heatmap\": [{\"colorbar\": {\"outlinewidth\": 0, \"ticks\": \"\"}, \"colorscale\": [[0.0, \"#0d0887\"], [0.1111111111111111, \"#46039f\"], [0.2222222222222222, \"#7201a8\"], [0.3333333333333333, \"#9c179e\"], [0.4444444444444444, \"#bd3786\"], [0.5555555555555556, \"#d8576b\"], [0.6666666666666666, \"#ed7953\"], [0.7777777777777778, \"#fb9f3a\"], [0.8888888888888888, \"#fdca26\"], [1.0, \"#f0f921\"]], \"type\": \"heatmap\"}], \"heatmapgl\": [{\"colorbar\": {\"outlinewidth\": 0, \"ticks\": \"\"}, \"colorscale\": [[0.0, \"#0d0887\"], [0.1111111111111111, \"#46039f\"], [0.2222222222222222, \"#7201a8\"], [0.3333333333333333, \"#9c179e\"], [0.4444444444444444, \"#bd3786\"], [0.5555555555555556, \"#d8576b\"], [0.6666666666666666, \"#ed7953\"], [0.7777777777777778, \"#fb9f3a\"], [0.8888888888888888, \"#fdca26\"], [1.0, \"#f0f921\"]], \"type\": \"heatmapgl\"}], \"histogram\": [{\"marker\": {\"colorbar\": {\"outlinewidth\": 0, \"ticks\": \"\"}}, \"type\": \"histogram\"}], \"histogram2d\": [{\"colorbar\": {\"outlinewidth\": 0, \"ticks\": \"\"}, \"colorscale\": [[0.0, \"#0d0887\"], [0.1111111111111111, \"#46039f\"], [0.2222222222222222, \"#7201a8\"], [0.3333333333333333, \"#9c179e\"], [0.4444444444444444, \"#bd3786\"], [0.5555555555555556, \"#d8576b\"], [0.6666666666666666, \"#ed7953\"], [0.7777777777777778, \"#fb9f3a\"], [0.8888888888888888, \"#fdca26\"], [1.0, \"#f0f921\"]], \"type\": \"histogram2d\"}], \"histogram2dcontour\": [{\"colorbar\": {\"outlinewidth\": 0, \"ticks\": \"\"}, \"colorscale\": [[0.0, \"#0d0887\"], [0.1111111111111111, \"#46039f\"], [0.2222222222222222, \"#7201a8\"], [0.3333333333333333, \"#9c179e\"], [0.4444444444444444, \"#bd3786\"], [0.5555555555555556, \"#d8576b\"], [0.6666666666666666, \"#ed7953\"], [0.7777777777777778, \"#fb9f3a\"], [0.8888888888888888, \"#fdca26\"], [1.0, \"#f0f921\"]], \"type\": \"histogram2dcontour\"}], \"mesh3d\": [{\"colorbar\": {\"outlinewidth\": 0, \"ticks\": \"\"}, \"type\": \"mesh3d\"}], \"parcoords\": [{\"line\": {\"colorbar\": {\"outlinewidth\": 0, \"ticks\": \"\"}}, \"type\": \"parcoords\"}], \"pie\": [{\"automargin\": true, \"type\": \"pie\"}], \"scatter\": [{\"marker\": {\"colorbar\": {\"outlinewidth\": 0, \"ticks\": \"\"}}, \"type\": \"scatter\"}], \"scatter3d\": [{\"line\": {\"colorbar\": {\"outlinewidth\": 0, \"ticks\": \"\"}}, \"marker\": {\"colorbar\": {\"outlinewidth\": 0, \"ticks\": \"\"}}, \"type\": \"scatter3d\"}], \"scattercarpet\": [{\"marker\": {\"colorbar\": {\"outlinewidth\": 0, \"ticks\": \"\"}}, \"type\": \"scattercarpet\"}], \"scattergeo\": [{\"marker\": {\"colorbar\": {\"outlinewidth\": 0, \"ticks\": \"\"}}, \"type\": \"scattergeo\"}], \"scattergl\": [{\"marker\": {\"colorbar\": {\"outlinewidth\": 0, \"ticks\": \"\"}}, \"type\": \"scattergl\"}], \"scattermapbox\": [{\"marker\": {\"colorbar\": {\"outlinewidth\": 0, \"ticks\": \"\"}}, \"type\": \"scattermapbox\"}], \"scatterpolar\": [{\"marker\": {\"colorbar\": {\"outlinewidth\": 0, \"ticks\": \"\"}}, \"type\": \"scatterpolar\"}], \"scatterpolargl\": [{\"marker\": {\"colorbar\": {\"outlinewidth\": 0, \"ticks\": \"\"}}, \"type\": \"scatterpolargl\"}], \"scatterternary\": [{\"marker\": {\"colorbar\": {\"outlinewidth\": 0, \"ticks\": \"\"}}, \"type\": \"scatterternary\"}], \"surface\": [{\"colorbar\": {\"outlinewidth\": 0, \"ticks\": \"\"}, \"colorscale\": [[0.0, \"#0d0887\"], [0.1111111111111111, \"#46039f\"], [0.2222222222222222, \"#7201a8\"], [0.3333333333333333, \"#9c179e\"], [0.4444444444444444, \"#bd3786\"], [0.5555555555555556, \"#d8576b\"], [0.6666666666666666, \"#ed7953\"], [0.7777777777777778, \"#fb9f3a\"], [0.8888888888888888, \"#fdca26\"], [1.0, \"#f0f921\"]], \"type\": \"surface\"}], \"table\": [{\"cells\": {\"fill\": {\"color\": \"#EBF0F8\"}, \"line\": {\"color\": \"white\"}}, \"header\": {\"fill\": {\"color\": \"#C8D4E3\"}, \"line\": {\"color\": \"white\"}}, \"type\": \"table\"}]}, \"layout\": {\"annotationdefaults\": {\"arrowcolor\": \"#2a3f5f\", \"arrowhead\": 0, \"arrowwidth\": 1}, \"coloraxis\": {\"colorbar\": {\"outlinewidth\": 0, \"ticks\": \"\"}}, \"colorscale\": {\"diverging\": [[0, \"#8e0152\"], [0.1, \"#c51b7d\"], [0.2, \"#de77ae\"], [0.3, \"#f1b6da\"], [0.4, \"#fde0ef\"], [0.5, \"#f7f7f7\"], [0.6, \"#e6f5d0\"], [0.7, \"#b8e186\"], [0.8, \"#7fbc41\"], [0.9, \"#4d9221\"], [1, \"#276419\"]], \"sequential\": [[0.0, \"#0d0887\"], [0.1111111111111111, \"#46039f\"], [0.2222222222222222, \"#7201a8\"], [0.3333333333333333, \"#9c179e\"], [0.4444444444444444, \"#bd3786\"], [0.5555555555555556, \"#d8576b\"], [0.6666666666666666, \"#ed7953\"], [0.7777777777777778, \"#fb9f3a\"], [0.8888888888888888, \"#fdca26\"], [1.0, \"#f0f921\"]], \"sequentialminus\": [[0.0, \"#0d0887\"], [0.1111111111111111, \"#46039f\"], [0.2222222222222222, \"#7201a8\"], [0.3333333333333333, \"#9c179e\"], [0.4444444444444444, \"#bd3786\"], [0.5555555555555556, \"#d8576b\"], [0.6666666666666666, \"#ed7953\"], [0.7777777777777778, \"#fb9f3a\"], [0.8888888888888888, \"#fdca26\"], [1.0, \"#f0f921\"]]}, \"colorway\": [\"#636efa\", \"#EF553B\", \"#00cc96\", \"#ab63fa\", \"#FFA15A\", \"#19d3f3\", \"#FF6692\", \"#B6E880\", \"#FF97FF\", \"#FECB52\"], \"font\": {\"color\": \"#2a3f5f\"}, \"geo\": {\"bgcolor\": \"white\", \"lakecolor\": \"white\", \"landcolor\": \"#E5ECF6\", \"showlakes\": true, \"showland\": true, \"subunitcolor\": \"white\"}, \"hoverlabel\": {\"align\": \"left\"}, \"hovermode\": \"closest\", \"mapbox\": {\"style\": \"light\"}, \"paper_bgcolor\": \"white\", \"plot_bgcolor\": \"#E5ECF6\", \"polar\": {\"angularaxis\": {\"gridcolor\": \"white\", \"linecolor\": \"white\", \"ticks\": \"\"}, \"bgcolor\": \"#E5ECF6\", \"radialaxis\": {\"gridcolor\": \"white\", \"linecolor\": \"white\", \"ticks\": \"\"}}, \"scene\": {\"xaxis\": {\"backgroundcolor\": \"#E5ECF6\", \"gridcolor\": \"white\", \"gridwidth\": 2, \"linecolor\": \"white\", \"showbackground\": true, \"ticks\": \"\", \"zerolinecolor\": \"white\"}, \"yaxis\": {\"backgroundcolor\": \"#E5ECF6\", \"gridcolor\": \"white\", \"gridwidth\": 2, \"linecolor\": \"white\", \"showbackground\": true, \"ticks\": \"\", \"zerolinecolor\": \"white\"}, \"zaxis\": {\"backgroundcolor\": \"#E5ECF6\", \"gridcolor\": \"white\", \"gridwidth\": 2, \"linecolor\": \"white\", \"showbackground\": true, \"ticks\": \"\", \"zerolinecolor\": \"white\"}}, \"shapedefaults\": {\"line\": {\"color\": \"#2a3f5f\"}}, \"ternary\": {\"aaxis\": {\"gridcolor\": \"white\", \"linecolor\": \"white\", \"ticks\": \"\"}, \"baxis\": {\"gridcolor\": \"white\", \"linecolor\": \"white\", \"ticks\": \"\"}, \"bgcolor\": \"#E5ECF6\", \"caxis\": {\"gridcolor\": \"white\", \"linecolor\": \"white\", \"ticks\": \"\"}}, \"title\": {\"x\": 0.05}, \"xaxis\": {\"automargin\": true, \"gridcolor\": \"white\", \"linecolor\": \"white\", \"ticks\": \"\", \"title\": {\"standoff\": 15}, \"zerolinecolor\": \"white\", \"zerolinewidth\": 2}, \"yaxis\": {\"automargin\": true, \"gridcolor\": \"white\", \"linecolor\": \"white\", \"ticks\": \"\", \"title\": {\"standoff\": 15}, \"zerolinecolor\": \"white\", \"zerolinewidth\": 2}}}, \"title\": {\"text\": \"Quantos benef\\u00edcios solicitados e concedidos comparativamente entre as doen\\u00e7as?\"}, \"xaxis\": {\"anchor\": \"y\", \"domain\": [0.0, 1.0], \"title\": {\"text\": \"ANO\"}}, \"yaxis\": {\"anchor\": \"x\", \"domain\": [0.0, 1.0], \"title\": {\"text\": \"NUM_BENEFICIOS\"}}},\n",
              "                        {\"responsive\": true}\n",
              "                    ).then(function(){\n",
              "                            \n",
              "var gd = document.getElementById('405cd492-8ff2-4843-b053-6389f6a9228f');\n",
              "var x = new MutationObserver(function (mutations, observer) {{\n",
              "        var display = window.getComputedStyle(gd).display;\n",
              "        if (!display || display === 'none') {{\n",
              "            console.log([gd, 'removed!']);\n",
              "            Plotly.purge(gd);\n",
              "            observer.disconnect();\n",
              "        }}\n",
              "}});\n",
              "\n",
              "// Listen for the removal of the full notebook cells\n",
              "var notebookContainer = gd.closest('#notebook-container');\n",
              "if (notebookContainer) {{\n",
              "    x.observe(notebookContainer, {childList: true});\n",
              "}}\n",
              "\n",
              "// Listen for the clearing of the current output cell\n",
              "var outputEl = gd.closest('.output');\n",
              "if (outputEl) {{\n",
              "    x.observe(outputEl, {childList: true});\n",
              "}}\n",
              "\n",
              "                        })\n",
              "                };\n",
              "                \n",
              "            </script>\n",
              "        </div>\n",
              "</body>\n",
              "</html>"
            ]
          },
          "metadata": {}
        }
      ]
    },
    {
      "cell_type": "markdown",
      "metadata": {
        "id": "QZYWeR9jXpA3"
      },
      "source": [
        "![newplot (13).png](data:image/png;base64,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)"
      ]
    },
    {
      "cell_type": "markdown",
      "metadata": {
        "id": "ij9z7cZz0I5p"
      },
      "source": [
        "**3.2 Qual a faixa etária que mais solicita em cada uma das doenças?**\n"
      ]
    },
    {
      "cell_type": "code",
      "metadata": {
        "colab": {
          "base_uri": "https://localhost:8080/",
          "height": 645
        },
        "id": "I0kVLEgaxQ4l",
        "outputId": "05df2e53-c0d5-419b-90eb-704bb69d308d"
      },
      "source": [
        "age_groups = df[df.ANO != 2021].groupby(['CID_SHORT', 'FAIXA_ETARIA']).agg(\n",
        "    NUM_BENEFICIOS=pd.NamedAgg('FAIXA_ETARIA', 'count')\n",
        ").sort_values(['CID_SHORT', 'NUM_BENEFICIOS'], ascending=[True, False])\n",
        "\n",
        "age_groups['PORCENTAGEM'] = np.NaN\n",
        "\n",
        "for cid in age_groups.reset_index().CID_SHORT.unique():\n",
        "  total = age_groups.loc[cid].NUM_BENEFICIOS.sum()\n",
        "  age_groups.loc[cid, 'PORCENTAGEM'] = round(age_groups.NUM_BENEFICIOS / total * 100, 1)\n",
        "\n",
        "age_groups"
      ],
      "execution_count": null,
      "outputs": [
        {
          "output_type": "execute_result",
          "data": {
            "text/html": [
              "<div>\n",
              "<style scoped>\n",
              "    .dataframe tbody tr th:only-of-type {\n",
              "        vertical-align: middle;\n",
              "    }\n",
              "\n",
              "    .dataframe tbody tr th {\n",
              "        vertical-align: top;\n",
              "    }\n",
              "\n",
              "    .dataframe thead th {\n",
              "        text-align: right;\n",
              "    }\n",
              "</style>\n",
              "<table border=\"1\" class=\"dataframe\">\n",
              "  <thead>\n",
              "    <tr style=\"text-align: right;\">\n",
              "      <th></th>\n",
              "      <th></th>\n",
              "      <th>NUM_BENEFICIOS</th>\n",
              "      <th>PORCENTAGEM</th>\n",
              "    </tr>\n",
              "    <tr>\n",
              "      <th>CID_SHORT</th>\n",
              "      <th>FAIXA_ETARIA</th>\n",
              "      <th></th>\n",
              "      <th></th>\n",
              "    </tr>\n",
              "  </thead>\n",
              "  <tbody>\n",
              "    <tr>\n",
              "      <th rowspan=\"6\" valign=\"top\">L20</th>\n",
              "      <th>30-50</th>\n",
              "      <td>180</td>\n",
              "      <td>45.1</td>\n",
              "    </tr>\n",
              "    <tr>\n",
              "      <th>50+</th>\n",
              "      <td>107</td>\n",
              "      <td>26.8</td>\n",
              "    </tr>\n",
              "    <tr>\n",
              "      <th>18-30</th>\n",
              "      <td>88</td>\n",
              "      <td>22.1</td>\n",
              "    </tr>\n",
              "    <tr>\n",
              "      <th>0-6</th>\n",
              "      <td>13</td>\n",
              "      <td>3.3</td>\n",
              "    </tr>\n",
              "    <tr>\n",
              "      <th>6-12</th>\n",
              "      <td>9</td>\n",
              "      <td>2.3</td>\n",
              "    </tr>\n",
              "    <tr>\n",
              "      <th>12-18</th>\n",
              "      <td>2</td>\n",
              "      <td>0.5</td>\n",
              "    </tr>\n",
              "    <tr>\n",
              "      <th rowspan=\"6\" valign=\"top\">L40</th>\n",
              "      <th>50+</th>\n",
              "      <td>879</td>\n",
              "      <td>47.7</td>\n",
              "    </tr>\n",
              "    <tr>\n",
              "      <th>30-50</th>\n",
              "      <td>853</td>\n",
              "      <td>46.3</td>\n",
              "    </tr>\n",
              "    <tr>\n",
              "      <th>18-30</th>\n",
              "      <td>103</td>\n",
              "      <td>5.6</td>\n",
              "    </tr>\n",
              "    <tr>\n",
              "      <th>6-12</th>\n",
              "      <td>7</td>\n",
              "      <td>0.4</td>\n",
              "    </tr>\n",
              "    <tr>\n",
              "      <th>0-6</th>\n",
              "      <td>1</td>\n",
              "      <td>0.1</td>\n",
              "    </tr>\n",
              "    <tr>\n",
              "      <th>12-18</th>\n",
              "      <td>1</td>\n",
              "      <td>0.1</td>\n",
              "    </tr>\n",
              "    <tr>\n",
              "      <th rowspan=\"6\" valign=\"top\">L73</th>\n",
              "      <th>30-50</th>\n",
              "      <td>251</td>\n",
              "      <td>60.6</td>\n",
              "    </tr>\n",
              "    <tr>\n",
              "      <th>18-30</th>\n",
              "      <td>106</td>\n",
              "      <td>25.6</td>\n",
              "    </tr>\n",
              "    <tr>\n",
              "      <th>50+</th>\n",
              "      <td>57</td>\n",
              "      <td>13.8</td>\n",
              "    </tr>\n",
              "    <tr>\n",
              "      <th>0-6</th>\n",
              "      <td>0</td>\n",
              "      <td>0.0</td>\n",
              "    </tr>\n",
              "    <tr>\n",
              "      <th>6-12</th>\n",
              "      <td>0</td>\n",
              "      <td>0.0</td>\n",
              "    </tr>\n",
              "    <tr>\n",
              "      <th>12-18</th>\n",
              "      <td>0</td>\n",
              "      <td>0.0</td>\n",
              "    </tr>\n",
              "  </tbody>\n",
              "</table>\n",
              "</div>"
            ],
            "text/plain": [
              "                        NUM_BENEFICIOS  PORCENTAGEM\n",
              "CID_SHORT FAIXA_ETARIA                             \n",
              "L20       30-50                    180         45.1\n",
              "          50+                      107         26.8\n",
              "          18-30                     88         22.1\n",
              "          0-6                       13          3.3\n",
              "          6-12                       9          2.3\n",
              "          12-18                      2          0.5\n",
              "L40       50+                      879         47.7\n",
              "          30-50                    853         46.3\n",
              "          18-30                    103          5.6\n",
              "          6-12                       7          0.4\n",
              "          0-6                        1          0.1\n",
              "          12-18                      1          0.1\n",
              "L73       30-50                    251         60.6\n",
              "          18-30                    106         25.6\n",
              "          50+                       57         13.8\n",
              "          0-6                        0          0.0\n",
              "          6-12                       0          0.0\n",
              "          12-18                      0          0.0"
            ]
          },
          "metadata": {},
          "execution_count": 14
        }
      ]
    },
    {
      "cell_type": "code",
      "metadata": {
        "id": "c-VQ62csCK5s"
      },
      "source": [
        "mask=age_groups.reset_index().replace({'CID_SHORT' : { 'L20' : 'Dermatite atópica', 'L40' : 'Psoríase', 'L73' : 'Hidradenite Supurativa' }})"
      ],
      "execution_count": null,
      "outputs": []
    },
    {
      "cell_type": "code",
      "metadata": {
        "colab": {
          "base_uri": "https://localhost:8080/",
          "height": 542
        },
        "id": "btKbUl03AuSv",
        "outputId": "a8c53ee0-9d1e-41a2-e473-25832da8b6f2"
      },
      "source": [
        "fig = px.bar(mask.reset_index(),x='CID_SHORT',y='NUM_BENEFICIOS',color='FAIXA_ETARIA',title='Qual a faixa etária que mais solicita benefícios em cada uma das doenças?',barmode=\"group\",labels={\n",
        "                     'FAIXA_ETARIA': \"Faixa etária\",\n",
        "                     'NUM_BENEFICIOS': \"Número de benefícios\",\n",
        "                     'CID_SHORT': \"CID\"\n",
        "                 })\n",
        "\n",
        "\n",
        "fig.show()"
      ],
      "execution_count": null,
      "outputs": [
        {
          "output_type": "display_data",
          "data": {
            "text/html": [
              "<html>\n",
              "<head><meta charset=\"utf-8\" /></head>\n",
              "<body>\n",
              "    <div>\n",
              "            <script src=\"https://cdnjs.cloudflare.com/ajax/libs/mathjax/2.7.5/MathJax.js?config=TeX-AMS-MML_SVG\"></script><script type=\"text/javascript\">if (window.MathJax) {MathJax.Hub.Config({SVG: {font: \"STIX-Web\"}});}</script>\n",
              "                <script type=\"text/javascript\">window.PlotlyConfig = {MathJaxConfig: 'local'};</script>\n",
              "        <script src=\"https://cdn.plot.ly/plotly-latest.min.js\"></script>    \n",
              "            <div id=\"e5934505-2df1-47af-9068-4a54d4993646\" class=\"plotly-graph-div\" style=\"height:525px; width:100%;\"></div>\n",
              "            <script type=\"text/javascript\">\n",
              "                \n",
              "                    window.PLOTLYENV=window.PLOTLYENV || {};\n",
              "                    \n",
              "                if (document.getElementById(\"e5934505-2df1-47af-9068-4a54d4993646\")) {\n",
              "                    Plotly.newPlot(\n",
              "                        'e5934505-2df1-47af-9068-4a54d4993646',\n",
              "                        [{\"alignmentgroup\": \"True\", \"hoverlabel\": {\"namelength\": 0}, \"hovertemplate\": \"Faixa et\\u00e1ria=30-50<br>CID=%{x}<br>N\\u00famero de benef\\u00edcios=%{y}\", \"legendgroup\": \"Faixa et\\u00e1ria=30-50\", \"marker\": {\"color\": \"#636efa\"}, \"name\": \"Faixa et\\u00e1ria=30-50\", \"offsetgroup\": \"Faixa et\\u00e1ria=30-50\", \"orientation\": \"v\", \"showlegend\": true, \"textposition\": \"auto\", \"type\": \"bar\", \"x\": [\"Dermatite at\\u00f3pica\", \"Psor\\u00edase\", \"Hidradenite Supurativa\"], \"xaxis\": \"x\", \"y\": [180, 853, 251], \"yaxis\": \"y\"}, {\"alignmentgroup\": \"True\", \"hoverlabel\": {\"namelength\": 0}, \"hovertemplate\": \"Faixa et\\u00e1ria=50+<br>CID=%{x}<br>N\\u00famero de benef\\u00edcios=%{y}\", \"legendgroup\": \"Faixa et\\u00e1ria=50+\", \"marker\": {\"color\": \"#EF553B\"}, \"name\": \"Faixa et\\u00e1ria=50+\", \"offsetgroup\": \"Faixa et\\u00e1ria=50+\", \"orientation\": \"v\", \"showlegend\": true, \"textposition\": \"auto\", \"type\": \"bar\", \"x\": [\"Dermatite at\\u00f3pica\", \"Psor\\u00edase\", \"Hidradenite Supurativa\"], \"xaxis\": \"x\", \"y\": [107, 879, 57], \"yaxis\": \"y\"}, {\"alignmentgroup\": \"True\", \"hoverlabel\": {\"namelength\": 0}, \"hovertemplate\": \"Faixa et\\u00e1ria=18-30<br>CID=%{x}<br>N\\u00famero de benef\\u00edcios=%{y}\", \"legendgroup\": \"Faixa et\\u00e1ria=18-30\", \"marker\": {\"color\": \"#00cc96\"}, \"name\": \"Faixa et\\u00e1ria=18-30\", \"offsetgroup\": \"Faixa et\\u00e1ria=18-30\", \"orientation\": \"v\", \"showlegend\": true, \"textposition\": \"auto\", \"type\": \"bar\", \"x\": [\"Dermatite at\\u00f3pica\", \"Psor\\u00edase\", \"Hidradenite Supurativa\"], \"xaxis\": \"x\", \"y\": [88, 103, 106], \"yaxis\": \"y\"}, {\"alignmentgroup\": \"True\", \"hoverlabel\": {\"namelength\": 0}, \"hovertemplate\": \"Faixa et\\u00e1ria=0-6<br>CID=%{x}<br>N\\u00famero de benef\\u00edcios=%{y}\", \"legendgroup\": \"Faixa et\\u00e1ria=0-6\", \"marker\": {\"color\": \"#ab63fa\"}, \"name\": \"Faixa et\\u00e1ria=0-6\", \"offsetgroup\": \"Faixa et\\u00e1ria=0-6\", \"orientation\": \"v\", \"showlegend\": true, \"textposition\": \"auto\", \"type\": \"bar\", \"x\": [\"Dermatite at\\u00f3pica\", \"Psor\\u00edase\", \"Hidradenite Supurativa\"], \"xaxis\": \"x\", \"y\": [13, 1, 0], \"yaxis\": \"y\"}, {\"alignmentgroup\": \"True\", \"hoverlabel\": {\"namelength\": 0}, \"hovertemplate\": \"Faixa et\\u00e1ria=6-12<br>CID=%{x}<br>N\\u00famero de benef\\u00edcios=%{y}\", \"legendgroup\": \"Faixa et\\u00e1ria=6-12\", \"marker\": {\"color\": \"#FFA15A\"}, \"name\": \"Faixa et\\u00e1ria=6-12\", \"offsetgroup\": \"Faixa et\\u00e1ria=6-12\", \"orientation\": \"v\", \"showlegend\": true, \"textposition\": \"auto\", \"type\": \"bar\", \"x\": [\"Dermatite at\\u00f3pica\", \"Psor\\u00edase\", \"Hidradenite Supurativa\"], \"xaxis\": \"x\", \"y\": [9, 7, 0], \"yaxis\": \"y\"}, {\"alignmentgroup\": \"True\", \"hoverlabel\": {\"namelength\": 0}, \"hovertemplate\": \"Faixa et\\u00e1ria=12-18<br>CID=%{x}<br>N\\u00famero de benef\\u00edcios=%{y}\", \"legendgroup\": \"Faixa et\\u00e1ria=12-18\", \"marker\": {\"color\": \"#19d3f3\"}, \"name\": \"Faixa et\\u00e1ria=12-18\", \"offsetgroup\": \"Faixa et\\u00e1ria=12-18\", \"orientation\": \"v\", \"showlegend\": true, \"textposition\": \"auto\", \"type\": \"bar\", \"x\": [\"Dermatite at\\u00f3pica\", \"Psor\\u00edase\", \"Hidradenite Supurativa\"], \"xaxis\": \"x\", \"y\": [2, 1, 0], \"yaxis\": \"y\"}],\n",
              "                        {\"barmode\": \"group\", \"legend\": {\"tracegroupgap\": 0}, \"template\": {\"data\": {\"bar\": [{\"error_x\": {\"color\": \"#2a3f5f\"}, \"error_y\": {\"color\": \"#2a3f5f\"}, \"marker\": {\"line\": {\"color\": \"#E5ECF6\", \"width\": 0.5}}, \"type\": \"bar\"}], \"barpolar\": [{\"marker\": {\"line\": {\"color\": \"#E5ECF6\", \"width\": 0.5}}, \"type\": \"barpolar\"}], \"carpet\": [{\"aaxis\": {\"endlinecolor\": \"#2a3f5f\", \"gridcolor\": \"white\", \"linecolor\": \"white\", \"minorgridcolor\": \"white\", \"startlinecolor\": \"#2a3f5f\"}, \"baxis\": {\"endlinecolor\": \"#2a3f5f\", \"gridcolor\": \"white\", \"linecolor\": \"white\", \"minorgridcolor\": \"white\", \"startlinecolor\": \"#2a3f5f\"}, \"type\": \"carpet\"}], \"choropleth\": [{\"colorbar\": {\"outlinewidth\": 0, \"ticks\": \"\"}, \"type\": \"choropleth\"}], \"contour\": [{\"colorbar\": {\"outlinewidth\": 0, \"ticks\": \"\"}, \"colorscale\": [[0.0, \"#0d0887\"], [0.1111111111111111, \"#46039f\"], [0.2222222222222222, \"#7201a8\"], [0.3333333333333333, \"#9c179e\"], [0.4444444444444444, \"#bd3786\"], [0.5555555555555556, \"#d8576b\"], [0.6666666666666666, \"#ed7953\"], [0.7777777777777778, \"#fb9f3a\"], [0.8888888888888888, \"#fdca26\"], [1.0, \"#f0f921\"]], \"type\": \"contour\"}], \"contourcarpet\": [{\"colorbar\": {\"outlinewidth\": 0, \"ticks\": \"\"}, \"type\": \"contourcarpet\"}], \"heatmap\": [{\"colorbar\": {\"outlinewidth\": 0, \"ticks\": \"\"}, \"colorscale\": [[0.0, \"#0d0887\"], [0.1111111111111111, \"#46039f\"], [0.2222222222222222, \"#7201a8\"], [0.3333333333333333, \"#9c179e\"], [0.4444444444444444, \"#bd3786\"], [0.5555555555555556, \"#d8576b\"], [0.6666666666666666, \"#ed7953\"], [0.7777777777777778, \"#fb9f3a\"], [0.8888888888888888, \"#fdca26\"], [1.0, \"#f0f921\"]], \"type\": \"heatmap\"}], \"heatmapgl\": [{\"colorbar\": {\"outlinewidth\": 0, \"ticks\": \"\"}, \"colorscale\": [[0.0, \"#0d0887\"], [0.1111111111111111, \"#46039f\"], [0.2222222222222222, \"#7201a8\"], [0.3333333333333333, \"#9c179e\"], [0.4444444444444444, \"#bd3786\"], [0.5555555555555556, \"#d8576b\"], [0.6666666666666666, \"#ed7953\"], [0.7777777777777778, \"#fb9f3a\"], [0.8888888888888888, \"#fdca26\"], [1.0, \"#f0f921\"]], \"type\": \"heatmapgl\"}], \"histogram\": [{\"marker\": {\"colorbar\": {\"outlinewidth\": 0, \"ticks\": \"\"}}, \"type\": \"histogram\"}], \"histogram2d\": [{\"colorbar\": {\"outlinewidth\": 0, \"ticks\": \"\"}, \"colorscale\": [[0.0, \"#0d0887\"], [0.1111111111111111, \"#46039f\"], [0.2222222222222222, \"#7201a8\"], [0.3333333333333333, \"#9c179e\"], [0.4444444444444444, \"#bd3786\"], [0.5555555555555556, \"#d8576b\"], [0.6666666666666666, \"#ed7953\"], [0.7777777777777778, \"#fb9f3a\"], [0.8888888888888888, \"#fdca26\"], [1.0, \"#f0f921\"]], \"type\": \"histogram2d\"}], \"histogram2dcontour\": [{\"colorbar\": {\"outlinewidth\": 0, \"ticks\": \"\"}, \"colorscale\": [[0.0, \"#0d0887\"], [0.1111111111111111, \"#46039f\"], [0.2222222222222222, \"#7201a8\"], [0.3333333333333333, \"#9c179e\"], [0.4444444444444444, \"#bd3786\"], [0.5555555555555556, \"#d8576b\"], [0.6666666666666666, \"#ed7953\"], [0.7777777777777778, \"#fb9f3a\"], [0.8888888888888888, \"#fdca26\"], [1.0, \"#f0f921\"]], \"type\": \"histogram2dcontour\"}], \"mesh3d\": [{\"colorbar\": {\"outlinewidth\": 0, \"ticks\": \"\"}, \"type\": \"mesh3d\"}], \"parcoords\": [{\"line\": {\"colorbar\": {\"outlinewidth\": 0, \"ticks\": \"\"}}, \"type\": \"parcoords\"}], \"pie\": [{\"automargin\": true, \"type\": \"pie\"}], \"scatter\": [{\"marker\": {\"colorbar\": {\"outlinewidth\": 0, \"ticks\": \"\"}}, \"type\": \"scatter\"}], \"scatter3d\": [{\"line\": {\"colorbar\": {\"outlinewidth\": 0, \"ticks\": \"\"}}, \"marker\": {\"colorbar\": {\"outlinewidth\": 0, \"ticks\": \"\"}}, \"type\": \"scatter3d\"}], \"scattercarpet\": [{\"marker\": {\"colorbar\": {\"outlinewidth\": 0, \"ticks\": \"\"}}, \"type\": \"scattercarpet\"}], \"scattergeo\": [{\"marker\": {\"colorbar\": {\"outlinewidth\": 0, \"ticks\": \"\"}}, \"type\": \"scattergeo\"}], \"scattergl\": [{\"marker\": {\"colorbar\": {\"outlinewidth\": 0, \"ticks\": \"\"}}, \"type\": \"scattergl\"}], \"scattermapbox\": [{\"marker\": {\"colorbar\": {\"outlinewidth\": 0, \"ticks\": \"\"}}, \"type\": \"scattermapbox\"}], \"scatterpolar\": [{\"marker\": {\"colorbar\": {\"outlinewidth\": 0, \"ticks\": \"\"}}, \"type\": \"scatterpolar\"}], \"scatterpolargl\": [{\"marker\": {\"colorbar\": {\"outlinewidth\": 0, \"ticks\": \"\"}}, \"type\": \"scatterpolargl\"}], \"scatterternary\": [{\"marker\": {\"colorbar\": {\"outlinewidth\": 0, \"ticks\": \"\"}}, \"type\": \"scatterternary\"}], \"surface\": [{\"colorbar\": {\"outlinewidth\": 0, \"ticks\": \"\"}, \"colorscale\": [[0.0, \"#0d0887\"], [0.1111111111111111, \"#46039f\"], [0.2222222222222222, \"#7201a8\"], [0.3333333333333333, \"#9c179e\"], [0.4444444444444444, \"#bd3786\"], [0.5555555555555556, \"#d8576b\"], [0.6666666666666666, \"#ed7953\"], [0.7777777777777778, \"#fb9f3a\"], [0.8888888888888888, \"#fdca26\"], [1.0, \"#f0f921\"]], \"type\": \"surface\"}], \"table\": [{\"cells\": {\"fill\": {\"color\": \"#EBF0F8\"}, \"line\": {\"color\": \"white\"}}, \"header\": {\"fill\": {\"color\": \"#C8D4E3\"}, \"line\": {\"color\": \"white\"}}, \"type\": \"table\"}]}, \"layout\": {\"annotationdefaults\": {\"arrowcolor\": \"#2a3f5f\", \"arrowhead\": 0, \"arrowwidth\": 1}, \"coloraxis\": {\"colorbar\": {\"outlinewidth\": 0, \"ticks\": \"\"}}, \"colorscale\": {\"diverging\": [[0, \"#8e0152\"], [0.1, \"#c51b7d\"], [0.2, \"#de77ae\"], [0.3, \"#f1b6da\"], [0.4, \"#fde0ef\"], [0.5, \"#f7f7f7\"], [0.6, \"#e6f5d0\"], [0.7, \"#b8e186\"], [0.8, \"#7fbc41\"], [0.9, \"#4d9221\"], [1, \"#276419\"]], \"sequential\": [[0.0, \"#0d0887\"], [0.1111111111111111, \"#46039f\"], [0.2222222222222222, \"#7201a8\"], [0.3333333333333333, \"#9c179e\"], [0.4444444444444444, \"#bd3786\"], [0.5555555555555556, \"#d8576b\"], [0.6666666666666666, \"#ed7953\"], [0.7777777777777778, \"#fb9f3a\"], [0.8888888888888888, \"#fdca26\"], [1.0, \"#f0f921\"]], \"sequentialminus\": [[0.0, \"#0d0887\"], [0.1111111111111111, \"#46039f\"], [0.2222222222222222, \"#7201a8\"], [0.3333333333333333, \"#9c179e\"], [0.4444444444444444, \"#bd3786\"], [0.5555555555555556, \"#d8576b\"], [0.6666666666666666, \"#ed7953\"], [0.7777777777777778, \"#fb9f3a\"], [0.8888888888888888, \"#fdca26\"], [1.0, \"#f0f921\"]]}, \"colorway\": [\"#636efa\", \"#EF553B\", \"#00cc96\", \"#ab63fa\", \"#FFA15A\", \"#19d3f3\", \"#FF6692\", \"#B6E880\", \"#FF97FF\", \"#FECB52\"], \"font\": {\"color\": \"#2a3f5f\"}, \"geo\": {\"bgcolor\": \"white\", \"lakecolor\": \"white\", \"landcolor\": \"#E5ECF6\", \"showlakes\": true, \"showland\": true, \"subunitcolor\": \"white\"}, \"hoverlabel\": {\"align\": \"left\"}, \"hovermode\": \"closest\", \"mapbox\": {\"style\": \"light\"}, \"paper_bgcolor\": \"white\", \"plot_bgcolor\": \"#E5ECF6\", \"polar\": {\"angularaxis\": {\"gridcolor\": \"white\", \"linecolor\": \"white\", \"ticks\": \"\"}, \"bgcolor\": \"#E5ECF6\", \"radialaxis\": {\"gridcolor\": \"white\", \"linecolor\": \"white\", \"ticks\": \"\"}}, \"scene\": {\"xaxis\": {\"backgroundcolor\": \"#E5ECF6\", \"gridcolor\": \"white\", \"gridwidth\": 2, \"linecolor\": \"white\", \"showbackground\": true, \"ticks\": \"\", \"zerolinecolor\": \"white\"}, \"yaxis\": {\"backgroundcolor\": \"#E5ECF6\", \"gridcolor\": \"white\", \"gridwidth\": 2, \"linecolor\": \"white\", \"showbackground\": true, \"ticks\": \"\", \"zerolinecolor\": \"white\"}, \"zaxis\": {\"backgroundcolor\": \"#E5ECF6\", \"gridcolor\": \"white\", \"gridwidth\": 2, \"linecolor\": \"white\", \"showbackground\": true, \"ticks\": \"\", \"zerolinecolor\": \"white\"}}, \"shapedefaults\": {\"line\": {\"color\": \"#2a3f5f\"}}, \"ternary\": {\"aaxis\": {\"gridcolor\": \"white\", \"linecolor\": \"white\", \"ticks\": \"\"}, \"baxis\": {\"gridcolor\": \"white\", \"linecolor\": \"white\", \"ticks\": \"\"}, \"bgcolor\": \"#E5ECF6\", \"caxis\": {\"gridcolor\": \"white\", \"linecolor\": \"white\", \"ticks\": \"\"}}, \"title\": {\"x\": 0.05}, \"xaxis\": {\"automargin\": true, \"gridcolor\": \"white\", \"linecolor\": \"white\", \"ticks\": \"\", \"title\": {\"standoff\": 15}, \"zerolinecolor\": \"white\", \"zerolinewidth\": 2}, \"yaxis\": {\"automargin\": true, \"gridcolor\": \"white\", \"linecolor\": \"white\", \"ticks\": \"\", \"title\": {\"standoff\": 15}, \"zerolinecolor\": \"white\", \"zerolinewidth\": 2}}}, \"title\": {\"text\": \"Qual a faixa et\\u00e1ria que mais solicita benef\\u00edcios em cada uma das doen\\u00e7as?\"}, \"xaxis\": {\"anchor\": \"y\", \"domain\": [0.0, 1.0], \"title\": {\"text\": \"CID\"}}, \"yaxis\": {\"anchor\": \"x\", \"domain\": [0.0, 1.0], \"title\": {\"text\": \"N\\u00famero de benef\\u00edcios\"}}},\n",
              "                        {\"responsive\": true}\n",
              "                    ).then(function(){\n",
              "                            \n",
              "var gd = document.getElementById('e5934505-2df1-47af-9068-4a54d4993646');\n",
              "var x = new MutationObserver(function (mutations, observer) {{\n",
              "        var display = window.getComputedStyle(gd).display;\n",
              "        if (!display || display === 'none') {{\n",
              "            console.log([gd, 'removed!']);\n",
              "            Plotly.purge(gd);\n",
              "            observer.disconnect();\n",
              "        }}\n",
              "}});\n",
              "\n",
              "// Listen for the removal of the full notebook cells\n",
              "var notebookContainer = gd.closest('#notebook-container');\n",
              "if (notebookContainer) {{\n",
              "    x.observe(notebookContainer, {childList: true});\n",
              "}}\n",
              "\n",
              "// Listen for the clearing of the current output cell\n",
              "var outputEl = gd.closest('.output');\n",
              "if (outputEl) {{\n",
              "    x.observe(outputEl, {childList: true});\n",
              "}}\n",
              "\n",
              "                        })\n",
              "                };\n",
              "                \n",
              "            </script>\n",
              "        </div>\n",
              "</body>\n",
              "</html>"
            ]
          },
          "metadata": {}
        }
      ]
    },
    {
      "cell_type": "markdown",
      "metadata": {
        "id": "a8yW2QAQYmq3"
      },
      "source": [
        "![newplot (14).png](data:image/png;base64,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)"
      ]
    },
    {
      "cell_type": "markdown",
      "metadata": {
        "id": "ol3CLt2BxpOj"
      },
      "source": [
        "**3.3 Quais tipos de benefícios mais solicitados e mais concedidos?**"
      ]
    },
    {
      "cell_type": "code",
      "metadata": {
        "colab": {
          "base_uri": "https://localhost:8080/",
          "height": 488
        },
        "id": "UtGG956T0Wka",
        "outputId": "8f59a467-0b3b-40ba-de90-be01a4e79d35"
      },
      "source": [
        "benefits = df[df.ANO != 2021].groupby(['CID_SHORT', 'Espécie']).agg(\n",
        "    NUM_BENEFICIOS=pd.NamedAgg('CID_SHORT', 'count')\n",
        ").sort_values(['CID_SHORT', 'NUM_BENEFICIOS'], ascending=[True, False])\n",
        "\n",
        "benefits['PORCENTAGEM'] = np.NaN\n",
        "\n",
        "for cid in benefits.reset_index().CID_SHORT.unique():\n",
        "  total = benefits.loc[cid].NUM_BENEFICIOS.sum()\n",
        "  benefits.loc[cid, 'PORCENTAGEM'] = round(benefits.NUM_BENEFICIOS / total * 100, 1)\n",
        "\n",
        "benefits"
      ],
      "execution_count": null,
      "outputs": [
        {
          "output_type": "execute_result",
          "data": {
            "text/html": [
              "<div>\n",
              "<style scoped>\n",
              "    .dataframe tbody tr th:only-of-type {\n",
              "        vertical-align: middle;\n",
              "    }\n",
              "\n",
              "    .dataframe tbody tr th {\n",
              "        vertical-align: top;\n",
              "    }\n",
              "\n",
              "    .dataframe thead th {\n",
              "        text-align: right;\n",
              "    }\n",
              "</style>\n",
              "<table border=\"1\" class=\"dataframe\">\n",
              "  <thead>\n",
              "    <tr style=\"text-align: right;\">\n",
              "      <th></th>\n",
              "      <th></th>\n",
              "      <th>NUM_BENEFICIOS</th>\n",
              "      <th>PORCENTAGEM</th>\n",
              "    </tr>\n",
              "    <tr>\n",
              "      <th>CID_SHORT</th>\n",
              "      <th>Espécie</th>\n",
              "      <th></th>\n",
              "      <th></th>\n",
              "    </tr>\n",
              "  </thead>\n",
              "  <tbody>\n",
              "    <tr>\n",
              "      <th rowspan=\"5\" valign=\"top\">L20</th>\n",
              "      <th>Auxílio Doenca Previdenciário</th>\n",
              "      <td>350</td>\n",
              "      <td>87.7</td>\n",
              "    </tr>\n",
              "    <tr>\n",
              "      <th>Amp. Social Pessoa Portadora Deficiencia</th>\n",
              "      <td>30</td>\n",
              "      <td>7.5</td>\n",
              "    </tr>\n",
              "    <tr>\n",
              "      <th>Aposentadoria Invalidez Previdenciária</th>\n",
              "      <td>9</td>\n",
              "      <td>2.3</td>\n",
              "    </tr>\n",
              "    <tr>\n",
              "      <th>Auxílio Doenca por Acidente do Trabalho</th>\n",
              "      <td>9</td>\n",
              "      <td>2.3</td>\n",
              "    </tr>\n",
              "    <tr>\n",
              "      <th>Aposent. Invalidez Acidente Trabalho</th>\n",
              "      <td>1</td>\n",
              "      <td>0.3</td>\n",
              "    </tr>\n",
              "    <tr>\n",
              "      <th rowspan=\"5\" valign=\"top\">L40</th>\n",
              "      <th>Auxílio Doenca Previdenciário</th>\n",
              "      <td>1559</td>\n",
              "      <td>84.5</td>\n",
              "    </tr>\n",
              "    <tr>\n",
              "      <th>Aposentadoria Invalidez Previdenciária</th>\n",
              "      <td>208</td>\n",
              "      <td>11.3</td>\n",
              "    </tr>\n",
              "    <tr>\n",
              "      <th>Amp. Social Pessoa Portadora Deficiencia</th>\n",
              "      <td>71</td>\n",
              "      <td>3.9</td>\n",
              "    </tr>\n",
              "    <tr>\n",
              "      <th>Auxílio Doenca por Acidente do Trabalho</th>\n",
              "      <td>5</td>\n",
              "      <td>0.3</td>\n",
              "    </tr>\n",
              "    <tr>\n",
              "      <th>Aposent. Invalidez Acidente Trabalho</th>\n",
              "      <td>1</td>\n",
              "      <td>0.1</td>\n",
              "    </tr>\n",
              "    <tr>\n",
              "      <th rowspan=\"3\" valign=\"top\">L73</th>\n",
              "      <th>Auxílio Doenca Previdenciário</th>\n",
              "      <td>383</td>\n",
              "      <td>92.5</td>\n",
              "    </tr>\n",
              "    <tr>\n",
              "      <th>Aposentadoria Invalidez Previdenciária</th>\n",
              "      <td>28</td>\n",
              "      <td>6.8</td>\n",
              "    </tr>\n",
              "    <tr>\n",
              "      <th>Amp. Social Pessoa Portadora Deficiencia</th>\n",
              "      <td>3</td>\n",
              "      <td>0.7</td>\n",
              "    </tr>\n",
              "  </tbody>\n",
              "</table>\n",
              "</div>"
            ],
            "text/plain": [
              "                                                    NUM_BENEFICIOS  PORCENTAGEM\n",
              "CID_SHORT Espécie                                                              \n",
              "L20       Auxílio Doenca Previdenciário                        350         87.7\n",
              "          Amp. Social Pessoa Portadora Deficiencia              30          7.5\n",
              "          Aposentadoria Invalidez Previdenciária                 9          2.3\n",
              "          Auxílio Doenca por Acidente do Trabalho                9          2.3\n",
              "          Aposent. Invalidez Acidente Trabalho                   1          0.3\n",
              "L40       Auxílio Doenca Previdenciário                       1559         84.5\n",
              "          Aposentadoria Invalidez Previdenciária               208         11.3\n",
              "          Amp. Social Pessoa Portadora Deficiencia              71          3.9\n",
              "          Auxílio Doenca por Acidente do Trabalho                5          0.3\n",
              "          Aposent. Invalidez Acidente Trabalho                   1          0.1\n",
              "L73       Auxílio Doenca Previdenciário                        383         92.5\n",
              "          Aposentadoria Invalidez Previdenciária                28          6.8\n",
              "          Amp. Social Pessoa Portadora Deficiencia               3          0.7"
            ]
          },
          "metadata": {},
          "execution_count": 17
        }
      ]
    },
    {
      "cell_type": "code",
      "metadata": {
        "id": "dxoS7fx8OijF"
      },
      "source": [
        "mask_benefits=benefits.reset_index().replace({'CID_SHORT' : { 'L20' : 'Dermatite atópica', 'L40' : 'Psoríase', 'L73' : 'Hidradenite Supurativa' }})"
      ],
      "execution_count": null,
      "outputs": []
    },
    {
      "cell_type": "code",
      "metadata": {
        "colab": {
          "base_uri": "https://localhost:8080/",
          "height": 542
        },
        "id": "ISzKBdyBJtdd",
        "outputId": "441dc869-0ed6-4257-aca5-7cbeead33b04"
      },
      "source": [
        "px.bar(mask_benefits.reset_index(),x='CID_SHORT',y='NUM_BENEFICIOS',color='Espécie',barmode='group',title='Quais tipos de benefícios mais solicitados e mais concedidos?')"
      ],
      "execution_count": null,
      "outputs": [
        {
          "output_type": "display_data",
          "data": {
            "text/html": [
              "<html>\n",
              "<head><meta charset=\"utf-8\" /></head>\n",
              "<body>\n",
              "    <div>\n",
              "            <script src=\"https://cdnjs.cloudflare.com/ajax/libs/mathjax/2.7.5/MathJax.js?config=TeX-AMS-MML_SVG\"></script><script type=\"text/javascript\">if (window.MathJax) {MathJax.Hub.Config({SVG: {font: \"STIX-Web\"}});}</script>\n",
              "                <script type=\"text/javascript\">window.PlotlyConfig = {MathJaxConfig: 'local'};</script>\n",
              "        <script src=\"https://cdn.plot.ly/plotly-latest.min.js\"></script>    \n",
              "            <div id=\"70b50fc5-3239-48c2-8ee3-6a9894b875ca\" class=\"plotly-graph-div\" style=\"height:525px; width:100%;\"></div>\n",
              "            <script type=\"text/javascript\">\n",
              "                \n",
              "                    window.PLOTLYENV=window.PLOTLYENV || {};\n",
              "                    \n",
              "                if (document.getElementById(\"70b50fc5-3239-48c2-8ee3-6a9894b875ca\")) {\n",
              "                    Plotly.newPlot(\n",
              "                        '70b50fc5-3239-48c2-8ee3-6a9894b875ca',\n",
              "                        [{\"alignmentgroup\": \"True\", \"hoverlabel\": {\"namelength\": 0}, \"hovertemplate\": \"Esp\\u00e9cie=Aux\\u00edlio Doenca Previdenci\\u00e1rio<br>CID_SHORT=%{x}<br>NUM_BENEFICIOS=%{y}\", \"legendgroup\": \"Esp\\u00e9cie=Aux\\u00edlio Doenca Previdenci\\u00e1rio\", \"marker\": {\"color\": \"#636efa\"}, \"name\": \"Esp\\u00e9cie=Aux\\u00edlio Doenca Previdenci\\u00e1rio\", \"offsetgroup\": \"Esp\\u00e9cie=Aux\\u00edlio Doenca Previdenci\\u00e1rio\", \"orientation\": \"v\", \"showlegend\": true, \"textposition\": \"auto\", \"type\": \"bar\", \"x\": [\"Dermatite at\\u00f3pica\", \"Psor\\u00edase\", \"Hidradenite Supurativa\"], \"xaxis\": \"x\", \"y\": [350, 1559, 383], \"yaxis\": \"y\"}, {\"alignmentgroup\": \"True\", \"hoverlabel\": {\"namelength\": 0}, \"hovertemplate\": \"Esp\\u00e9cie=Amp. Social Pessoa Portadora Deficiencia<br>CID_SHORT=%{x}<br>NUM_BENEFICIOS=%{y}\", \"legendgroup\": \"Esp\\u00e9cie=Amp. Social Pessoa Portadora Deficiencia\", \"marker\": {\"color\": \"#EF553B\"}, \"name\": \"Esp\\u00e9cie=Amp. Social Pessoa Portadora Deficiencia\", \"offsetgroup\": \"Esp\\u00e9cie=Amp. Social Pessoa Portadora Deficiencia\", \"orientation\": \"v\", \"showlegend\": true, \"textposition\": \"auto\", \"type\": \"bar\", \"x\": [\"Dermatite at\\u00f3pica\", \"Psor\\u00edase\", \"Hidradenite Supurativa\"], \"xaxis\": \"x\", \"y\": [30, 71, 3], \"yaxis\": \"y\"}, {\"alignmentgroup\": \"True\", \"hoverlabel\": {\"namelength\": 0}, \"hovertemplate\": \"Esp\\u00e9cie=Aposentadoria Invalidez Previdenci\\u00e1ria<br>CID_SHORT=%{x}<br>NUM_BENEFICIOS=%{y}\", \"legendgroup\": \"Esp\\u00e9cie=Aposentadoria Invalidez Previdenci\\u00e1ria\", \"marker\": {\"color\": \"#00cc96\"}, \"name\": \"Esp\\u00e9cie=Aposentadoria Invalidez Previdenci\\u00e1ria\", \"offsetgroup\": \"Esp\\u00e9cie=Aposentadoria Invalidez Previdenci\\u00e1ria\", \"orientation\": \"v\", \"showlegend\": true, \"textposition\": \"auto\", \"type\": \"bar\", \"x\": [\"Dermatite at\\u00f3pica\", \"Psor\\u00edase\", \"Hidradenite Supurativa\"], \"xaxis\": \"x\", \"y\": [9, 208, 28], \"yaxis\": \"y\"}, {\"alignmentgroup\": \"True\", \"hoverlabel\": {\"namelength\": 0}, \"hovertemplate\": \"Esp\\u00e9cie=Aux\\u00edlio Doenca por Acidente do Trabalho<br>CID_SHORT=%{x}<br>NUM_BENEFICIOS=%{y}\", \"legendgroup\": \"Esp\\u00e9cie=Aux\\u00edlio Doenca por Acidente do Trabalho\", \"marker\": {\"color\": \"#ab63fa\"}, \"name\": \"Esp\\u00e9cie=Aux\\u00edlio Doenca por Acidente do Trabalho\", \"offsetgroup\": \"Esp\\u00e9cie=Aux\\u00edlio Doenca por Acidente do Trabalho\", \"orientation\": \"v\", \"showlegend\": true, \"textposition\": \"auto\", \"type\": \"bar\", \"x\": [\"Dermatite at\\u00f3pica\", \"Psor\\u00edase\"], \"xaxis\": \"x\", \"y\": [9, 5], \"yaxis\": \"y\"}, {\"alignmentgroup\": \"True\", \"hoverlabel\": {\"namelength\": 0}, \"hovertemplate\": \"Esp\\u00e9cie=Aposent. Invalidez Acidente Trabalho<br>CID_SHORT=%{x}<br>NUM_BENEFICIOS=%{y}\", \"legendgroup\": \"Esp\\u00e9cie=Aposent. Invalidez Acidente Trabalho\", \"marker\": {\"color\": \"#FFA15A\"}, \"name\": \"Esp\\u00e9cie=Aposent. Invalidez Acidente Trabalho\", \"offsetgroup\": \"Esp\\u00e9cie=Aposent. Invalidez Acidente Trabalho\", \"orientation\": \"v\", \"showlegend\": true, \"textposition\": \"auto\", \"type\": \"bar\", \"x\": [\"Dermatite at\\u00f3pica\", \"Psor\\u00edase\"], \"xaxis\": \"x\", \"y\": [1, 1], \"yaxis\": \"y\"}],\n",
              "                        {\"barmode\": \"group\", \"legend\": {\"tracegroupgap\": 0}, \"template\": {\"data\": {\"bar\": [{\"error_x\": {\"color\": \"#2a3f5f\"}, \"error_y\": {\"color\": \"#2a3f5f\"}, \"marker\": {\"line\": {\"color\": \"#E5ECF6\", \"width\": 0.5}}, \"type\": \"bar\"}], \"barpolar\": [{\"marker\": {\"line\": {\"color\": \"#E5ECF6\", \"width\": 0.5}}, \"type\": \"barpolar\"}], \"carpet\": [{\"aaxis\": {\"endlinecolor\": \"#2a3f5f\", \"gridcolor\": \"white\", \"linecolor\": \"white\", \"minorgridcolor\": \"white\", \"startlinecolor\": \"#2a3f5f\"}, \"baxis\": {\"endlinecolor\": \"#2a3f5f\", \"gridcolor\": \"white\", \"linecolor\": \"white\", \"minorgridcolor\": \"white\", \"startlinecolor\": \"#2a3f5f\"}, \"type\": \"carpet\"}], \"choropleth\": [{\"colorbar\": {\"outlinewidth\": 0, \"ticks\": \"\"}, \"type\": \"choropleth\"}], \"contour\": [{\"colorbar\": {\"outlinewidth\": 0, \"ticks\": \"\"}, \"colorscale\": [[0.0, \"#0d0887\"], [0.1111111111111111, \"#46039f\"], [0.2222222222222222, \"#7201a8\"], [0.3333333333333333, \"#9c179e\"], [0.4444444444444444, \"#bd3786\"], [0.5555555555555556, \"#d8576b\"], [0.6666666666666666, \"#ed7953\"], [0.7777777777777778, \"#fb9f3a\"], [0.8888888888888888, \"#fdca26\"], [1.0, \"#f0f921\"]], \"type\": \"contour\"}], \"contourcarpet\": [{\"colorbar\": {\"outlinewidth\": 0, \"ticks\": \"\"}, \"type\": \"contourcarpet\"}], \"heatmap\": [{\"colorbar\": {\"outlinewidth\": 0, \"ticks\": \"\"}, \"colorscale\": [[0.0, \"#0d0887\"], [0.1111111111111111, \"#46039f\"], [0.2222222222222222, \"#7201a8\"], [0.3333333333333333, \"#9c179e\"], [0.4444444444444444, \"#bd3786\"], [0.5555555555555556, \"#d8576b\"], [0.6666666666666666, \"#ed7953\"], [0.7777777777777778, \"#fb9f3a\"], [0.8888888888888888, \"#fdca26\"], [1.0, \"#f0f921\"]], \"type\": \"heatmap\"}], \"heatmapgl\": [{\"colorbar\": {\"outlinewidth\": 0, \"ticks\": \"\"}, \"colorscale\": [[0.0, \"#0d0887\"], [0.1111111111111111, \"#46039f\"], [0.2222222222222222, \"#7201a8\"], [0.3333333333333333, \"#9c179e\"], [0.4444444444444444, \"#bd3786\"], [0.5555555555555556, \"#d8576b\"], [0.6666666666666666, \"#ed7953\"], [0.7777777777777778, \"#fb9f3a\"], [0.8888888888888888, \"#fdca26\"], [1.0, \"#f0f921\"]], \"type\": \"heatmapgl\"}], \"histogram\": [{\"marker\": {\"colorbar\": {\"outlinewidth\": 0, \"ticks\": \"\"}}, \"type\": \"histogram\"}], \"histogram2d\": [{\"colorbar\": {\"outlinewidth\": 0, \"ticks\": \"\"}, \"colorscale\": [[0.0, \"#0d0887\"], [0.1111111111111111, \"#46039f\"], [0.2222222222222222, \"#7201a8\"], [0.3333333333333333, \"#9c179e\"], [0.4444444444444444, \"#bd3786\"], [0.5555555555555556, \"#d8576b\"], [0.6666666666666666, \"#ed7953\"], [0.7777777777777778, \"#fb9f3a\"], [0.8888888888888888, \"#fdca26\"], [1.0, \"#f0f921\"]], \"type\": \"histogram2d\"}], \"histogram2dcontour\": [{\"colorbar\": {\"outlinewidth\": 0, \"ticks\": \"\"}, \"colorscale\": [[0.0, \"#0d0887\"], [0.1111111111111111, \"#46039f\"], [0.2222222222222222, \"#7201a8\"], [0.3333333333333333, \"#9c179e\"], [0.4444444444444444, \"#bd3786\"], [0.5555555555555556, \"#d8576b\"], [0.6666666666666666, \"#ed7953\"], [0.7777777777777778, \"#fb9f3a\"], [0.8888888888888888, \"#fdca26\"], [1.0, \"#f0f921\"]], \"type\": \"histogram2dcontour\"}], \"mesh3d\": [{\"colorbar\": {\"outlinewidth\": 0, \"ticks\": \"\"}, \"type\": \"mesh3d\"}], \"parcoords\": [{\"line\": {\"colorbar\": {\"outlinewidth\": 0, \"ticks\": \"\"}}, \"type\": \"parcoords\"}], \"pie\": [{\"automargin\": true, \"type\": \"pie\"}], \"scatter\": [{\"marker\": {\"colorbar\": {\"outlinewidth\": 0, \"ticks\": \"\"}}, \"type\": \"scatter\"}], \"scatter3d\": [{\"line\": {\"colorbar\": {\"outlinewidth\": 0, \"ticks\": \"\"}}, \"marker\": {\"colorbar\": {\"outlinewidth\": 0, \"ticks\": \"\"}}, \"type\": \"scatter3d\"}], \"scattercarpet\": [{\"marker\": {\"colorbar\": {\"outlinewidth\": 0, \"ticks\": \"\"}}, \"type\": \"scattercarpet\"}], \"scattergeo\": [{\"marker\": {\"colorbar\": {\"outlinewidth\": 0, \"ticks\": \"\"}}, \"type\": \"scattergeo\"}], \"scattergl\": [{\"marker\": {\"colorbar\": {\"outlinewidth\": 0, \"ticks\": \"\"}}, \"type\": \"scattergl\"}], \"scattermapbox\": [{\"marker\": {\"colorbar\": {\"outlinewidth\": 0, \"ticks\": \"\"}}, \"type\": \"scattermapbox\"}], \"scatterpolar\": [{\"marker\": {\"colorbar\": {\"outlinewidth\": 0, \"ticks\": \"\"}}, \"type\": \"scatterpolar\"}], \"scatterpolargl\": [{\"marker\": {\"colorbar\": {\"outlinewidth\": 0, \"ticks\": \"\"}}, \"type\": \"scatterpolargl\"}], \"scatterternary\": [{\"marker\": {\"colorbar\": {\"outlinewidth\": 0, \"ticks\": \"\"}}, \"type\": \"scatterternary\"}], \"surface\": [{\"colorbar\": {\"outlinewidth\": 0, \"ticks\": \"\"}, \"colorscale\": [[0.0, \"#0d0887\"], [0.1111111111111111, \"#46039f\"], [0.2222222222222222, \"#7201a8\"], [0.3333333333333333, \"#9c179e\"], [0.4444444444444444, \"#bd3786\"], [0.5555555555555556, \"#d8576b\"], [0.6666666666666666, \"#ed7953\"], [0.7777777777777778, \"#fb9f3a\"], [0.8888888888888888, \"#fdca26\"], [1.0, \"#f0f921\"]], \"type\": \"surface\"}], \"table\": [{\"cells\": {\"fill\": {\"color\": \"#EBF0F8\"}, \"line\": {\"color\": \"white\"}}, \"header\": {\"fill\": {\"color\": \"#C8D4E3\"}, \"line\": {\"color\": \"white\"}}, \"type\": \"table\"}]}, \"layout\": {\"annotationdefaults\": {\"arrowcolor\": \"#2a3f5f\", \"arrowhead\": 0, \"arrowwidth\": 1}, \"coloraxis\": {\"colorbar\": {\"outlinewidth\": 0, \"ticks\": \"\"}}, \"colorscale\": {\"diverging\": [[0, \"#8e0152\"], [0.1, \"#c51b7d\"], [0.2, \"#de77ae\"], [0.3, \"#f1b6da\"], [0.4, \"#fde0ef\"], [0.5, \"#f7f7f7\"], [0.6, \"#e6f5d0\"], [0.7, \"#b8e186\"], [0.8, \"#7fbc41\"], [0.9, \"#4d9221\"], [1, \"#276419\"]], \"sequential\": [[0.0, \"#0d0887\"], [0.1111111111111111, \"#46039f\"], [0.2222222222222222, \"#7201a8\"], [0.3333333333333333, \"#9c179e\"], [0.4444444444444444, \"#bd3786\"], [0.5555555555555556, \"#d8576b\"], [0.6666666666666666, \"#ed7953\"], [0.7777777777777778, \"#fb9f3a\"], [0.8888888888888888, \"#fdca26\"], [1.0, \"#f0f921\"]], \"sequentialminus\": [[0.0, \"#0d0887\"], [0.1111111111111111, \"#46039f\"], [0.2222222222222222, \"#7201a8\"], [0.3333333333333333, \"#9c179e\"], [0.4444444444444444, \"#bd3786\"], [0.5555555555555556, \"#d8576b\"], [0.6666666666666666, \"#ed7953\"], [0.7777777777777778, \"#fb9f3a\"], [0.8888888888888888, \"#fdca26\"], [1.0, \"#f0f921\"]]}, \"colorway\": [\"#636efa\", \"#EF553B\", \"#00cc96\", \"#ab63fa\", \"#FFA15A\", \"#19d3f3\", \"#FF6692\", \"#B6E880\", \"#FF97FF\", \"#FECB52\"], \"font\": {\"color\": \"#2a3f5f\"}, \"geo\": {\"bgcolor\": \"white\", \"lakecolor\": \"white\", \"landcolor\": \"#E5ECF6\", \"showlakes\": true, \"showland\": true, \"subunitcolor\": \"white\"}, \"hoverlabel\": {\"align\": \"left\"}, \"hovermode\": \"closest\", \"mapbox\": {\"style\": \"light\"}, \"paper_bgcolor\": \"white\", \"plot_bgcolor\": \"#E5ECF6\", \"polar\": {\"angularaxis\": {\"gridcolor\": \"white\", \"linecolor\": \"white\", \"ticks\": \"\"}, \"bgcolor\": \"#E5ECF6\", \"radialaxis\": {\"gridcolor\": \"white\", \"linecolor\": \"white\", \"ticks\": \"\"}}, \"scene\": {\"xaxis\": {\"backgroundcolor\": \"#E5ECF6\", \"gridcolor\": \"white\", \"gridwidth\": 2, \"linecolor\": \"white\", \"showbackground\": true, \"ticks\": \"\", \"zerolinecolor\": \"white\"}, \"yaxis\": {\"backgroundcolor\": \"#E5ECF6\", \"gridcolor\": \"white\", \"gridwidth\": 2, \"linecolor\": \"white\", \"showbackground\": true, \"ticks\": \"\", \"zerolinecolor\": \"white\"}, \"zaxis\": {\"backgroundcolor\": \"#E5ECF6\", \"gridcolor\": \"white\", \"gridwidth\": 2, \"linecolor\": \"white\", \"showbackground\": true, \"ticks\": \"\", \"zerolinecolor\": \"white\"}}, \"shapedefaults\": {\"line\": {\"color\": \"#2a3f5f\"}}, \"ternary\": {\"aaxis\": {\"gridcolor\": \"white\", \"linecolor\": \"white\", \"ticks\": \"\"}, \"baxis\": {\"gridcolor\": \"white\", \"linecolor\": \"white\", \"ticks\": \"\"}, \"bgcolor\": \"#E5ECF6\", \"caxis\": {\"gridcolor\": \"white\", \"linecolor\": \"white\", \"ticks\": \"\"}}, \"title\": {\"x\": 0.05}, \"xaxis\": {\"automargin\": true, \"gridcolor\": \"white\", \"linecolor\": \"white\", \"ticks\": \"\", \"title\": {\"standoff\": 15}, \"zerolinecolor\": \"white\", \"zerolinewidth\": 2}, \"yaxis\": {\"automargin\": true, \"gridcolor\": \"white\", \"linecolor\": \"white\", \"ticks\": \"\", \"title\": {\"standoff\": 15}, \"zerolinecolor\": \"white\", \"zerolinewidth\": 2}}}, \"title\": {\"text\": \"Quais tipos de benef\\u00edcios mais solicitados e mais concedidos?\"}, \"xaxis\": {\"anchor\": \"y\", \"domain\": [0.0, 1.0], \"title\": {\"text\": \"CID_SHORT\"}}, \"yaxis\": {\"anchor\": \"x\", \"domain\": [0.0, 1.0], \"title\": {\"text\": \"NUM_BENEFICIOS\"}}},\n",
              "                        {\"responsive\": true}\n",
              "                    ).then(function(){\n",
              "                            \n",
              "var gd = document.getElementById('70b50fc5-3239-48c2-8ee3-6a9894b875ca');\n",
              "var x = new MutationObserver(function (mutations, observer) {{\n",
              "        var display = window.getComputedStyle(gd).display;\n",
              "        if (!display || display === 'none') {{\n",
              "            console.log([gd, 'removed!']);\n",
              "            Plotly.purge(gd);\n",
              "            observer.disconnect();\n",
              "        }}\n",
              "}});\n",
              "\n",
              "// Listen for the removal of the full notebook cells\n",
              "var notebookContainer = gd.closest('#notebook-container');\n",
              "if (notebookContainer) {{\n",
              "    x.observe(notebookContainer, {childList: true});\n",
              "}}\n",
              "\n",
              "// Listen for the clearing of the current output cell\n",
              "var outputEl = gd.closest('.output');\n",
              "if (outputEl) {{\n",
              "    x.observe(outputEl, {childList: true});\n",
              "}}\n",
              "\n",
              "                        })\n",
              "                };\n",
              "                \n",
              "            </script>\n",
              "        </div>\n",
              "</body>\n",
              "</html>"
            ]
          },
          "metadata": {}
        }
      ]
    },
    {
      "cell_type": "markdown",
      "metadata": {
        "id": "108Z5DylZVVE"
      },
      "source": [
        "![newplot (15).png](data:image/png;base64,iVBORw0KGgoAAAANSUhEUgAABNwAAAINCAYAAADlfmKgAAAAAXNSR0IArs4c6QAAIABJREFUeF7s3X+wVcWd7/1WDByThyAhCveggwETZSw1+hRKakJCIlNOYCynfAbHaCpxRFCZWDKo3MOp0qnSqsN5UCktE1ARY+aOjhnmcZLrhdF6jDHFtR681DX+KAqtCGoSGEkkSEgUMOJT35Xpnd5Nr7XX6t7rrN5rvc8/yeHsXqv79e19cH/o7nXUhx9++KHiCwEEEEAAAQQQQAABBBBAAAEEEEAAAQS6InAUgVtXHLkIAggggAACCCCAAAIIIIAAAggggAACiQCBGxMBAQQQQAABBBBAAAEEEEAAAQQQQACBLgoQuHURk0shgAACCCCAAAIIIIAAAggggAACCCBA4MYcQAABBBBAAAEEEEAAAQQQQAABBBBAoIsCBG5dxORSCCCAAAIIIIAAAggggAACCCCAAAIIELgxBxBAAAEEEEAAAQQQQAABBBBAAAEEEOiiAIFbFzG5FAIIIIAAAggggAACCCCAAAIIIIAAAgRuzAEEEEAAAQQQQAABBBBAAAEEEEAAAQS6KEDg1kVMLoUAAggggAACCCCAAAIIIIAAAggggACBG3MAAQQQQAABBBBAAAEEEEAAAQQQQACBLgoQuHURk0shgAACCCCAAAIIIIAAAggggAACCCBA4MYcQAABBBBAAAEEEEAAAQQQQAABBBBAoIsCBG5dxORSCCCAAAIIIIAAAggggAACCCCAAAIIELgxBxBAAAEEEEAAAQQQQAABBBBAAAEEEOiiAIFbFzG5FAIIIIAAAggggAACCCCAAAIIIIAAAgRuzAEEEEAAAQQQQAABBBBAAAEEEEAAAQS6KEDg1kVMLoUAAggggAACCCCAAAIIIIAAAggggACBG3MAAQQQQAABBBBAAAEEEEAAAQQQQACBLgoQuHURk0shgAACCCCAAAIIIIAAAggggAACCCBA4MYcQAABBBBAAAEEEEAAAQQQQAABBBBAoIsCBG5dxORSCCCAAAIIIIAAAggggAACCCCAAAIIELgxBxBAAAEEEEAAAQQQQAABBBBAAAEEEOiiAIFbFzG5FAIIIIAAAggggAACCCCAAAIIIIAAAgRuzAEEEEAAAQQQQAABBBBAAAEEEEAAAQS6KEDg1kVMLoUAAggggAACCCCAAAIIIIAAAggggACBG3MAAQQQQAABBBBAAAEEEEAAAQQQQACBLgoQuHURk0shgAACCCCAAAIIIIAAAggggAACCCBA4MYcQAABBBBAAAEEEEAAAQQQQAABBBBAoIsCBG5dxORSCCCAAAIIIIAAAggggAACCCCAAAIIELgxBxBAAAEEEEAAAQQQQAABBBBAAAEEEOiiAIFbFzG5FAIIIIAAAggggAACCCCAAAIIIIAAAgRuzAEEEEAAAQQQQAABBBBAAAEEEEAAAQS6KEDg1kVMLoUAAggggAACCCCAAAIIIIAAAggggACBG3MAAQQQQAABBBBAAAEEEEAAAQQQQACBLgoQuHURk0shgAACCCCAAAIIIIAAAggggAACCCBA4MYcQKBHBfbu268WD9yl3v71O+q+lTeoqVP6e3QkdBsBBBBAAAEEEEAAAQQQQACBegkQuNWrnrUdzY43d6mrl92phgYXqhlnndaVca66f73a8pNX1OrhJWr8uLFduWZZF3ls4yZ188p1yeXPnD4t6fOPnn1Brfnu9wnbykLv8nX1HL72G3+lLp47q8tXL+9yMvfWP/5MT7xPylPgyt0QCJlLZfwd0I0xcQ0EEEAAAQQQQAABBNIECNz+U0bCl3WPbGhzWnDZPLV00fzSZ49eqXTS5OPVrTdeqfr6RgfdUz7UpAUxMs5//+Hmngtpyviw1SuBm6uees7Mv3B2ofBGB3cP3T3QteAyaLJ2uXG330vd7J4rcPN5P+rrfOX8ma3fT1nv+dAxhIQkoffuhfYxz7nY/Oy5VMSujL8DTB/XfwPMmzOzK38nx1YH+oMAAggggAACCCAwMgKND9z0f8R/8hPHta3gGMntekU+dOSZFgRueZSU6oXA7cCBQ+qWOx5Uk06Y0JXwl8At39wo41UEbmWoVn/Nbv/+rn5E5fUg9sBt1nlntP4hgrqWNw+4MgIIIIAAAggg0BSBRgduOsz4+c5fObdLdfp5rJOkzNUuVY25jNUNTQzcqqof91WqzC2lZb7nWeHG7O2WQMhcKuPvgE7j2vLiK+qK64dVXVcEdxo/P0cAAQQQQAABBBAIE2h04JbnP6bt16Rt5XOtRNKvfWnb9rYq2VtV9etmnH1a2yomfW+zcaf/8DfP+nK1s0Mm897yr/vy4UJ/3bZswRHbFV1jcvXJp+9mf+3tPWdMn6r2/HrfEWe45e2P622iLYaWX6UGVzygdJ3SthHZY9Jnqenz34paSp/sepn3Tps/Upcv/dlnkwcm2HNGz8MNT21uDdnsZ1owk9WPrLrYBmm/jsT6rV/uUd+Yf4Facsu31K7de5KX6vG+/OqOtrln16CK95Ieiz0XXWPWYYAeV//ECUds205b4eY6R9D1/tHvR/s6nd7zrp+7+ifjdTl//twz1G/2v3vEP0rkmTOu+Vhkm17o+7tX51yn93FarezfxeZckTb6HEj5/67f2926b965lPZ3n7TP+3dAnvee63p5fnfVfUVw2H8+0hoBBBBAAAEEEECgk0CjA7c85yfZ5yUVDdxW3POwWn7d5a1D+V0fMFx/5goD865i6bSl1PyAb36gNYNAVzjg+jPdTzOcC+l72qpC1zVd9y6yikh/oDM/eOn7yxvHPE/PNVds5zRLV9/TxmkHomlbSl1zxnW2lw715HxAediEa26k3dNe+Zn2OtsqLdyUMxLNsMX8oOz6c/PhAjLeKt5LecacNt8l3DBDjbyBm2uuyfi/870n1OKvX6R27X47eYCI6ZP1npefyZf5oAbX69Pmj2slaJ4543ovZQUs9rzp1vu71+Zcnvdx3t/F5nvM/B1dpP7yWv37I29N8s4l13zw+TvAfJ+5QrI872N7/vXqCvdO/9HHzxFAAAEEEEAAAQRGTqDxgVunp1Ta57i8d/BgsrLIPqy+yFlbaefYmKuV0rY7bn31dXVs3xg1dUp/6izxCdzslVJ6RYD2OXbMmOQsMVe4Yt8vpO/ygW5waG3q6iD9lNIs77xbRdNeZwcoaVuZ7A+LaWGCq6+dxqnDlLyBW1pQaE8Su1Zpqzzzjk2u/+QzW9QXZ56V+bAPvcLNfihI0T93jcd8gqarBr7zMSsc0mPWvw86vX9kFWSewC3PqlvXdfKG8drP9Q8HabWwf1/lnTNp4bfM1R9vflFdMHtG6u+wbr2/ZYVbL825PO/jrNfY8yCtBnb9i9zXdZ6k/R7LO5fS/rEpz98BnVbH6b+7ZJK5VgNn/e7S13771+/03AOGRu4/H7kTAggggAACCCCAQCcBArefvOI8v83+YKqfIOoTuLmefmauqnJ9cND/Sl9k+5Xuc7cCN/M6448b6wwa5Z72B/CQvqeFI3bolXWeT1qYZb8ZOt1Lh15Z5w6ZHyzTwhfXh9m0D6R20JA3cEtbedkpcEsbm91nuY4ErrJV1bXVuNMvmqLBWtbr7acJl/VeMrfXpY05ax7mCT/sOZg117SxT+Bmb7vT19Ljygov7D7lnTP6/SBbtTtthbfnT7fe390I3Eby93ee93HWa9L+scBcDSnWaYF61lOP89ZE/13hCqFD/rGpyN8B5nuvf+InC/3uCvn7q9PvQX6OAAIIIIAAAggg0CyBxgdu//7DzZn/gh2ypVS3tZ+AmudDh0xD/R/+5pTME3Z0K3Azgyvpg72NrVMAYJ4XJK/t1PesVRb2hy3XGVemU9oZVeZr0gI3+wOt6wO3eR0diuYN3MzwKu3Xjd7emzdwy7uVNu9qROlX2jYs83y4PM76WiHhR1XvJdeZVuaYs1ak5Qk/XCuDOq26LRq46flrvv/sOZ41f+zfV1krSO2fuc5gy3N2Vrfe37025/K8j7NeY/+s0wo3HYrluW/emmT9XdHp7z6fvwOyzhDVP+v0PjZ/D+cJvZv1n4mMFgEEEEAAAQQQQMBXoNGBW57tWyEPTUj7YNrpQ4ermOYHhk6rRboVuPmucLP7X6TvaSubiqxuyPtm6MYKN/NenbaUymv19ra0cabZ2du4fFao6BB3zXe/3wqZ865W6usbfQRrWgjm8g9d4VbVe8keiz3mve/sT4JovdXZ/uBuWufZUprnw36RwK1T4KJXNGWtmvJd4eaaM/r3aaeVu1mrqYq8v0MCtyrmXK+ucHP9HnStlsvzd183/g7otMU663dXnvdg3jnI6xBAAAEEEEAAAQSaLdDowK3TochFDv1O2wpohix6quX50OE6FyvPKgS5R9aWyrQVKGlnUOkPrHLdvGe4hfQ97YOS/QG8yOHraW/xrDPczDOE8gSzco8igVunD4S6z3lXuHVaGfLegYPq9FM/dcRDE/KexyVje3nb6+oLM89s48w7jpDArdPc63SGm+98zDPmrO1z9vzKE7hlzTU9DtdDE9Le853qq0ORTueCmcadrmmumtLzzpw0WSvk9Ou69f72DdyqmnN53sfTpkzO/bu4U+Cqa5Xnvv2TPpl6FppZ3yJzKe04BTOo1tcu8neAOcekfcjvrmb/JyKjRwABBBBAAAEEEAgRaHTgJnBp/9KtPwjIa1YPL2k9ZVS+z9pqZz7p0xVG6G2inc6dcn0ozRtuZAVzeQM33U/XUxa/cv5MtXTR/GTeuZ5aF9J31wcwc1ua2R99b9NcB1/2Ey1dbxLpp72l2N5CrNvpbXn26kLpw6bnXk48igRu+kPpT17+6RFbmsVevuSpknkDN3Mum/WxP6S65pDt4AqiXWPLc9C66ecbfshKqSreS3nH7HoPZL1/zPO0XO8V17w0A0tX4JY3WNHvDzlEXs5W6/R0YT02extonjnj6lORIK0b7+9em3N538eu31N5nyBqzgHzH1pc10zbyt/pd64rlHXNpazf92bfOv0dYD+B1XxCcN73sfm7qtO27pD/6KItAggggAACCCCAQHMEGh+42YGKWfq0M8fs82DkTKe7bv2m+u76J5W99c8+h02uKV+dVuW4zpzJc/aR7r993o4OivKcsSTXSDuby3Umkx1ChfbdvoeMe+k185Onl9pb91z9kf53Oi9OB6cSuE34xDj18rYdrdKntXWdYWQ6FQnc9M1c5/SZdS4SuNlhir6H/WHUtXrE7odry5/+8L1r956Wlf3BO+1XZ8gKN701sYr3Ut4x269zvX/yrHBLmxfmnEgL19Le867309Dyq9TgigeOeNqyfQ2p78knTmr7fZXWR9eccb1n8rw39T1C398hgZv0oYo5l+d9nPYa+3dxkSA25L6u37l55lLa78wifwcUee/l+d2VZwVmc/4TkZEigAACCCCAAAIIhAgQuDn08m7dDIGPpW2RFSex9Jl+IIAAAggggAACCCCAAAIIIIAAAjELELg5qlNkq1zMxc3TNwK3PEq8BgEEEEAAAQQQQAABBBBAAAEEEMgvQOCWYmVviyyynTM/f/WvJHCrvgb0AAEEEEAAAQQQQAABBBBAAAEE6iVA4FavejIaBBBAAAEEEEAAAQQQQAABBBBAAIGKBQjcKi4At0cAAQQQQAABBBBAAAEEEEAAAQQQqJcAgVu96sloEEAAAQQQQAABBBBAAAEEEEAAAQQqFiBwq7gA3B4BBBBAAAEEEEAAAQQQQAABBBBAoF4CBG71qiejQQABBBBAAAEEEEAAAQQQQAABBBCoWIDAreICcHsEEEAAAQQQQAABBBBAAAEEEEAAgXoJELjVq56MBgEEEEAAAQQQQAABBBBAAAEEEECgYgECt4oLwO0RQAABBBBAAAEEEEAAAQQQQAABBOolQOBWr3oyGgQQQAABBBBAAAEEEEAAAQQQQACBigUI3CouALdHAAEEEEAAAQQQQAABBBBAAAEEEKiXAIFbverJaBBAAAEEEEAAAQQQQAABBBBAAAEEKhYgcKu4ANweAQQQQAABBBBAAAEEEEAAAQQQQKBeAgRu9aono0EAAQQQQAABBBBAAAEEEEAAAQQQqFiAwK3iAnB7BBBAAAEEEEAAAQQQQAABBBBAAIF6CRC41auejAYBBBBAAAEEEEAAAQQQQAABBBBAoGIBAreKC8DtEUAAAQQQQAABBBBAAAEEEEAAAQTqJUDgVq96MhoEEEAAAQQQQAABBBBAAAEEEEAAgYoFCNwqLgC3RwABBBBAAAEEEEAAAQQQQAABBBColwCBW73qyWgQQAABBBBAAAEEEEAAAQQQQAABBCoWIHCruADcHgEEEEAAAQQQQAABBBBAAAEEEECgXgIEbvWqJ6NBAAEEEEAAAQQQQAABBBBAAAEEEKhYgMCt4gJwewQQQAABBBBAAAEEEEAAAQQQQACBegkQuNWrnowGAQQQQAABBBBAAAEEEEAAAQQQQKBiAQK3igvA7RFAAAEEEEAAAQQQQAABBBBAAAEE6iVA4FavejIaBBBAAAEEEEAAAQQQQAABBBBAAIGKBQjcKi4At0cAAQQQQAABBBBAAAEEEEAAAQQQqJcAgVu96sloEEAAAQQQQAABBBBAAAEEEEAAAQQqFiBwq7gA3B4BBBBAAAEEEEAAAQQQQAABBBBAoF4CBG71qiejQQABBBBAAAEEEEAAAQQQQAABBBCoWIDAreICcHsEEEAAAQQQQAABBBBAAAEEEEAAgXoJELjVq56MBgEEEEAAAQQQQAABBBBAAAEEEECgYgECt4oLwO0RQAABBBBAAAEEEEAAAQQQQAABBOolQOBWr3oyGgQQQAABBBBAAAEEEEAAAQQQQACBigUI3CouALdHAAEEEEAAAQQQQAABBBBAAAEEEKiXAIFbverJaBBAAAEEEEAAAQQQQAABBBBAAAEEKhYgcKu4ANweAQQQQAABBBBAAAEEEEAAAQQQQKBeAgRu9aono0EAAQQQQAABBBBAAAEEEEAAAQQQqFiAwK3iAnB7BBBAAAEEEEAAAQQQQAABBBBAAIF6CRC41auejAYBBBBAAAEEEEAAAQQQQAABBBBAoGIBAreKC8DtEUAAAQQQQAABBBBAAAEEEEAAAQTqJUDgVq96MhoEEEAAAQQQQAABBBBAAAEEEEAAgYoFCNwqLgC3RwABBBBAAAEEEEAAAQQQQAABBBColwCBW73qyWgQQAABBBBAAAEEEEAAAQQQQAABBCoWIHCruADcHgEEEEAAAQQQQAABBBBAAAEEEECgXgIEbvWqJ6NBAAEEEEAAAQQQQAABBBBAAAEEEKhYgMCt4gJwewQQQAABBBBAAAEEEEAAAQQQQACBegkQuNWrnowGAQQQQAABBBBAAAEEEEAAAQQQQKBiAQK3wALs2vNe4BVojgACCCCAAAIIIIAAAk0U6J9wbBOHzZgRQACBRggQuAWWmcAtEJDmCCCAAAIIIIAAAgg0VIDAraGFZ9gIINAIAQK3wDITuAUC0hwBBBBAAAEEEEAAgYYKELg1tPAMGwEEGiFA4BZYZgK3QECaI4AAAggggAACCCDQUAECt4YWnmEjgEAjBGoVuO3dt18Nrlirbrr2UjV1Sn9bAXe8uUtdvexOtWv3HtU/cYK6b+UNrddIu8UDd6mXtm1P2jx094CacdZprfaPbdykbl65Lvl+3pyZ6tYbr1R9faOT7wncGvE+YZAIIIAAAggggAACCHRdgMCt66RcEAEEEIhGoBaB24EDh9QtdzyoNjy1+YgwTaQlbBscfkANDVx1RBCn284853R18dxZR7x2y4uvqFX3rlerh5eo8ePGqlX3r0+Kt3TRfAK3aKYxHUEAAQQQQAABBBBAoPcECNx6r2b0GAEEEMgrUIvATQ/WtcJNB2rzL5zdtmpNt5Ew7vY1j6qh5QuTQM0O4CRgO/nESUkYJ192AMcKt7xTjdchgAACCCCAAAIIIICAKUDgxnxAAAEE6itQ+8DN3i4qpTS3hdoBmvxcr2Jb/PWLkpVzevWb/MxeLUfgVt83ByNDAAEEEEAAAQQQQKBMAQK3MnW5NgIIIFCtQO0Dt7QVbJNOmJBsC5XAbf3jz7Sdy2YHbubqODtw++Dwh9VWkLsjgAACCCCAAAIIIIBATwqMOvqoEe/36z9/X7174HCh+546dbQ6ZtTI97VQJ3kxAgggEJlA4wI38TdXtb32xs62M9rk50VWuO3eeyCyktIdBBBAAAEEEEAAAQQQ6AWBieP7RrybErjd/9CH6ldv5wvQLrn4sPry5+MN3OSz21u/3NO2gMKFap/FPeLwBW6ojzmSJhdd8Hn1rQf/LTlT/NgxY47YgVXgsry0gEDWfNG76JZeM995bFWB2zhfah9zZb5IsozBobVtD4G0L5J1hn1o32hfTKD2gZvrXDdzVduu3W9zhluxOcOrEUAAAQQQQAABBBBAoAsCVWwpHcnAzXW8j7CZR/yEMLp2K6Vdr6zATY/xpMnHdwz98o5VxrXpuZdbO7L0Q/xCAjfzQYNmPx66e6CU0CjvWIu8zjWGBZfNaz3QsMi1Or02xsDNlW24xkHg1qm6I/fz2gduQmn+q4d8b57LxlNKR26ycScEEEAAAQQQQAABBBD4o0BTAreyVgLFMJd06Lf/t++qm669VE2d0t/VbrnOHPe5gWvVlAQzVy+7U137jb9qPSTQ59oj1cYeg/5eHxc1Uv0oe4XbSI2D+5QvUIvAzZV0m/9qYv/cTsHtf3mxU/7HNm5SN69cl1TD/tcYHppQ/iTlDggggAACCCCAAAII1FGg6YGbDnx27d6TlFd/TpPPX5uf36rGfuyj6tEfPJ38zPyMZn++u23ZgrbAyPz8dub0acl2zO9874nkOnKOt3x1+gyYd77J4o5Z552RrEg7+cRJrX7Yq4x0n+V88FNOnqwWD9yl5P9fPHdWcitzq+ALW7cnfyY/MwM31wq3rM+q5hjStim6VkPJmNY9sqGtJvpa0p8rrh9OvtW248eNVZ1qJq931UX+XCxe2vaHMWetfnSNQQeeSxddov7+H76dtP/uv/yh1vetvCEJQF1G7x08mNzXDINNi+8/+WzbfLHnqj0n0+rQycWVVdgPb7Tnqmmk+/yXcz6nVtzzcFKTZd+8VP3f3/pnNTRwVSsAzqpp3rnO64oL1CJwKz7s7rUgcOueJVdCAAEEEEAAAQQQQKBJAk0O3MwAasZZpyn5/l83/Fj99bwvqo1PP5cseNAhmyt00qua7G12EnDIQ/EkZJMgaOurr6tj+8YoM0DRAYYOvOwH7ZnhiT0fzeBPriMhx/LrLldyNrj5ML6swE3Ga66SkgBucMXa1go5ub98dQrc7NVvWefZpQVu9p/rgOjWG69M+iC7w8wHDprnh8lr3/jFW0mIqc1cNdOBnKsue975TXIf08QMIk1/1xh0f3XgZm/tteeDGOlg1Oy/3Mf83txSas8Xe4Vbp3vkncvShyef2aLOO3u6Grrnn9TMc05vzYE0Ix0EfuX8ma0w2Z57WTVt0u/bKsZK4BaoTuAWCEhzBBBAAAEEEEAAAQQaKtCUwE2vXtJllhU6OiBxhStmQNDXN7otnJpw3MfV4PADR6zekRBl7pfPS32ogBmg2EGVHf7lnY7mWWt2CNMpcJN76FVtEz4xTt1wzSWts9TyBm72OWNZZ3dlHcSvQyiXn2llrxI0g8ofPftCsipRgjqpmfmzImfPZZ2dZo/BDMK+9GefPWLFWtaKOOmneZ677qPMRwn/suaLWeszTp16xJwzzxaU8DjNZe87+4+YyzIvsmolPzf75qq5+Wf9Ez/p7J8+F1DCUL7KEyBwC7QlcAsEpDkCCCCAAAIIIIAAAg0VaErglnaGm71NT6+OsgM3MxCTwE3OHdPbUPXUkW2lOjDSoYk5rewARW+LNF9j3l8fKWRPTf0aV0iXFYSkhXqugKlI4GZuY806VD/PCjeXnxmcSeCmt5pqF72tNE/g5qqLDpDM66Y9CMF1lJTeTuw6Vy3tQRF6S6bcW1bwSb9kXt2+5lE1tHxhsjLSni/m6kVX4Lbhqc1tU0Xfo1PgZt5TX8BVK3NLqLxOG+UN3Ex7e0VnQ3/9jsiwCdwCmQncAgFpjgACCCCAAAIIIIBAQwWaHriZZTdXUtnhjRlw2MGIeY1Oq7jktbL9scjTTdOmputML3mtDqDs1UuuwE368eA/b0xu8edfmNE6z61I4KbHJP/rs8KtyGooCdzMgM+0sUPSvCvc7G2wRVa4mffPCtzSgj5pr7eRyrjkS5+pV3SFW9o9slzyrnDLMsobuOntqTLGbj2Io6G/tgsNm8CtENeRLyZwCwSkOQIIeAv86ldHqV/s9G4+Yg0nTVTqv/yXD0fsftwIAQQQQACBXhFocuAmAcnGHz6nLr94TlKurMCt0xlUEjr89PWd6oLZM5IAxTwrTM7E+vSnJmee4abvL/8r2wnzfNlBirRxPRhBr+7TDxvQK+TM1WjS1twmmzdwMx+0IA8HKHqGm+sppaaf3maZdoab9Pvhx55Sc88/T2WtcHOd4eaqS6enjmYFqmlPDrXng3lWoN6uLOfnHT78ofqvf/fVtocMyPgkoLWvbdcy6x5ZK9xsX903eQCCeYabGf7ZRp0CN/3QCP2esO+ZZ67zGn8BAjd/u6QlgVsgIM0RQMBbQAK3+9aNUocOeV9iRBpeu/ADArcRkeYmCCCAAAK9JtCUwM11htvgdV9LQgW9Fa9/4gTnUyWlpubTMM1gy9VWfm5uv8v7lFL7HllzKSv4MQ/eN5/oeelFX1b7f/dusn2xyqeU2lsfzYdA6DHnfUqpvN5+sqzrDDd9TpirLrLKS28Rljkg59mde/b01gMAzDr4BG7S3n4Ihv1UW1dQaa+0M2sp20V/vvNXbU84TbtH1go3cbGfQCqe9lNKzdWUtlGewM1+T6Rt2e2135+90F8Ct8AqEbgFAtIcAQS8BQjcvOloiAACCCBssLc4AAAgAElEQVSAQBQCdQ/cfJFdq8d8r0U7BBBAoCoBArdAeQK3QECaI4CAtwCBmzcdDRFAAAEEEIhCoKrA7d0DhwuN/9Spo9Uxo44q1CbkxQRuIXq0RQCBWAQI3AIrQeAWCEhzBBDwFiBw86ajIQIIIIAAAlEIVBG4RTFwOoEAAgg0QIDALbDIBG6BgDRHAAFvAQI3bzoaIoAAAgggEIUAgVsUZaATCCCAQCkCBG6BrARugYA0RwABbwECN286GiKAAAIIIBCFAIFbFGWgEwgggEApAgRugawEboGANEcAAW8BAjdvOhoigAACCCAQhQCBWxRloBMIIIBAKQIEboGsBG6BgDRHAAFvAQI3bzoaIoAAAgggEIUAgVsUZaATCCCAQCkCBG6BrARugYA0RwABbwECN286GiKAAAIIIBCFAIFbFGWgEwgggEApAgRugawEboGANEcAAW8BAjdvOhoigAACCCAQhUAVgdu+N36m3n/vvULjP+4zn1HHjDqqUBtejAACCDRdgMAtcAYQuAUC0hwBBLwFCNy86WiIAAIIIIBAFAJVBW4frBpQR7/1s1wGH1w5oMb9+bxoA7dV969Xb/1yj7r1xitVX9/o1DHJ6+Rr6aL5ucbNi5Q6cOCQuuWOB9XMc05XF8+dlUmy5cVX1Kp716vVw0vU+HFj4euywN59+9XigbvU0mvmqxlnndblq3f/cnrubHhqs5o3Z6Y6/hPHqVHHjMp8/xWZb749HunfAwRuvpX6z3YEboGANEcAAW8BAjdvOhoigAACCCAQhUDdAzcdEry0bXubt3wA7xSQ5SmQhDzrH38m17XK+qCtx3jS5ONz9SPPuHxf89jGTermlevamj9094B3QFMkAOkUuNl9O3P6tOjDORnTFdcPtzz7J05Q9628QU2d0l+4RKGBWWj7Ih02wzKzXZG5JPXe/PzW1nsiz/uvyHwrMh7ztXn64XttVzsCt0BNArdAQJojgIC3AIGbNx0NEUAAAQQQiEKgKYFbr6zK8ZkUOvTb/9t31U3XXuoVxvjc127jCrx2vLlLPbXpf6tFX7uwG7fIvEaewM0MYCSQkbA05hVx9pjk+8GhtV6hW2hgFtq+yARwBV8yl65edqe69ht/1XG1o9xrpIOtIuMbydcSuAVqE7gFAtIcAQS8BQjcvOloiAACCCCAQBQCTQ/c9If4Xbv3JPVYcNm8ZMuZXh0z9mMfVY/+4OnkZ+bqGnsFzm3LFrSFAOZqKr2S6jvfeyK5jt5Saq++K7J6x5w8EizMOu8Mtem5l9XJJ05q9UNff8bZp6l1j2xImsjKvm/Mv0AtueVbSsZsrvTrNOZOEzZPwGF626u1bFOpxeKvX9S2pdQ2M/tfNHCTaw2uWNsKKc2amdfNuqeMWdua48mqbdqcc/naY9JG8y+cnawaTOuz3GNw+AH1l3M+p1bc87CSOXjGn05VD/8//2/rNnrOpo1BXmj31X4fmG31e0e3s++/YvAqtXzoAaVXm2atMk1baabHNTRwVStYdhms/scftOoi/ZGxvvGLt9ref3nmmzQwVxmaqyLzvF/y/B7I8u/0nsvzcwK3PEoZryFwCwSkOQIIeAsQuHnT0RABBBBAAIEoBJocuNnhhXz/rxt+rP563hfVxqefS7ZG6hDMDD6OHTMmCYEmnTAhCc9cwY25cmrrq6+rY/vGqO8/+WzrA78OZCQ4kbPJJEi4fc2jamj5wuT8MdfWTD1hzGBOriOByvLrLlevvbGzbXurGbjpfsoZXHrr6XsHD7adyaXv6RpznjPR7Pb2BLdXSJmrtfonfrLNVNo++cwWdd7Z09XQPf/UOsNN2siXhE22YdHAzQxvXti6vW21m4QgOrw0/7/c++HHnlJzzz/vCG/dtzNOndoWEurQamhwYdJvGdenPzU5CYzsn9lm9phMQ3mteWadeZbgrt1vJ6vBvnL+zCMCXnO1p1xv4w+fU5dfPCe5tXkNPT/0HLXrZ27ZlLbme0KPy7x/Vu3scacFbvaf26sU7brJdXXAbQbC+jr6PZw138wVhXI/Ce50KJ/2O0K/h/P8HkjzzzoPsshfHgRuRbQcryVwCwSkOQIIeAsQuHnT0RABBBBAAIEoBJoSuLnOcFu66BL19//wbaUDBbMg9vlPZtgw4biPJ6uHzFU2+oP+3C+fl3rIv/mBv9PKpbyTQ64jK9vMQE0HKnZAYocVrvDC3HLps4Uw65y0tDHLAxE+e/q0I0zFoNOZWlmmtqHrTC952MXgdV9rC/Wknd6mq39mBjP6umlbUl2rsNJW/3Uan21m3tNeMWneV/poz9E89TTvJwGuGeiZ7e1QUZvp1+99Z7+znmZNslZEZrlkvdfMMxVllVta4OaqkWu+2X00g/EfPftC2xlx5s90KO962EfWuDuFxnl/L5ivI3DzUTPaELgFAtIcAQS8BQjcvOloiAACCCCAQBQCTQnc0s5ws7fM6dVddjhjroaTwE1WD+ltqLqQsm1NB256y19awGAfhq9fZ97ffviA/Rp7hZ783PwwHxq4ua5fZNLq9tJGHlDx8qs7jnjAhA5PJHAzV/jp+7iCF3MLnrxOb2XsFFbYYaDe0ijXkNVZ8jRL80v/XK/00qGtuX3Y7It+vawus8diroxyPRDA3pKs+2HPE3NLo73yzlxpKe3zBm5p90hbMSnvJR24mfPcDJzSAre02tnzKs8KN/1eS6tbp8Atz3yz+yv91DXIE7h1+j0g18uqcZH3W9prCdwCFQncAgFpjgAC3gIEbt50NEQAAQQQQCAKgaYHbmYRzMDG/jBtr3BzfViXa3VamSOvkdVoRZ5umjZRXOdrmYGA/H/ZQqrDxpFY4Wb3NWvFlNmfvCvczC2PsuUuZIWb7muRYDHPyijXWHQ/9Zl0esVc0RVupq9r9ZUO2fIGbvZDGMpc4ZZVu7yBm+mvtyG7Qi25nu1jfp+njrLV2w41zX7aobzPCrcs/zzbuPP8JULglkcp4zUEboGANEcAAW8BAjdvOhoigAACCCAQhUCTAzf7/KqswC3rvCoppHzY/unrO9UFs2ck56+ZZzfpM7uyznCTa5hnXOWZHPYHfjPwkxDilJMnBwVu9vU7PdVTwgl5eIOcU6a/XCvu9BberDPc9Hl6cui/eYZb1jlceVa4mVtm7fDErJl5///x1P+XnOsnAZ8Z1Ei99VlsZnCmV17pUM08p83eimmfQ5cVWNoBjB3W2Ge42SvcXOFe1pZVO7DVK7HMVZjazD7XsNO2WtcZaubYXX11PaXUnpPmOYxZK9zs+6fNN9tY+qjP8Mta4eY6w831eyDLn8Atz2/BEXgNgdsIIHMLBBBwChC4MTEQQAABBBDobYGmBG6uM9z0+Vx6S5r5lMmss8jMYMvVVn5ubkXL+5RSc7tgp1mVtTJKb1/827/5i8KBm7mN1e5Pp8DNtU3WfHKlDib1dlz7KaX2kz1dTym1n3I64RPj1LlnT2+tGjTPHLMNXQGlHbqZ43c9xVNebz5U4orrh1uXMMea9ZRS00kMZAyXXPiltqfc6ovmCRF1n82nfqat4DLvbW6B1vP48+eeoX6z/121enhJ8vAO8/Vy/Z/v/FVrxaQ9z11PKTXPOcyqnV0r17Zb0z5v3eR1rocmyJ/nmW/yOnte208ylu3SOoy1V752+j1gj9P27/R7IM/PWeGWRynjNQRugYA0RwABbwECN286GiKAAAIIIBCFQN0DN1/kTuGM73VjbtfEMcdcD/qGQDcECNwCFQncAgFpjgAC3gIEbt50NEQAAQQQQCAKgaoCt/ffe6/Q+I/7zGfUMaOOKtQm5MVNDJ+aOOaQOUJbBHpBgMAtsEoEboGANEcAAW8BAjdvOhoigAACCCAQhUAVgVsUA6cTCCCAQAMECNwCi0zgFghIcwQQ8BYgcPOmoyECCCCAAAJRCBC4RVEGOoEAAgiUIkDgFshK4BYISHMEEPAWIHDzpqMhAggggAACUQgQuEVRBjqBAAIIlCJA4BbISuAWCEhzBBDwFiBw86ajIQIIIIAAAlEIELhFUQY6gQACCJQiQOAWyErgFghIcwQQ8BYgcPOmoyECCCCAAAJRCBC4RVEGOoEAAgiUIkDgFshK4BYISHMEEPAWIHDzpqMhAggggAACUQgQuEVRBjqBAAIIlCJQq8Bt7779anDFWnXTtZeqqVP6nWCr7l+vtvzkFbV6eIkaP25s8hppt3jgLvXStu3J9w/dPaBmnHVaq708ovnmleuS7+fNmaluvfFK1dc3OvmewK2UeclFEUAghwCBWw4kXoIAAggggEDEAlUEbi+982u1/9D7hVTOm3CCOmbUUYXa8GIEEECg6QK1CNwOHDikbrnjQbXhqc2qf+IEdd/KG5yBm4Rt6x7ZoM6cPq0VuOm2M885XV08d5ba8eYuNTj8gBoauCq5xpYXX1Gr7l3fer1cQ76WLppP4Nb0dw/jR6BiAQK3igvA7RFAAAEEEAgUqCpw+79+9oR67f19uXq/+oQvqIX9fxpt4Cafz9765Z62RRGugdmf43INnhe1BOzPxUVpesHfHOPed/a35QL2eEM9ivp18/V2BjLSY7MzF/P+sthp/ePPtC2QsvvXC3NJ97kWgZseTNYKNyncG794S80674y2AE2KffuaR9XQ8oXJijd78kkxTz5xUhLGyZf9xmKFWzff+lwLAQSKCBC4FdHitQgggAACCMQnUPfAzd5JpCtg7xryrYx8NpMP5+YOpLRrlfUhXY/xpMnH5+qH71hD22WFHHmuHRow+fqbi2uknwsum9da/JKn30VeU3XgJve/4vrhVpezFhMVGZf92lgDNzubGen3cohpWttGBG4Stm1+fmvyC/DlV3e0BW6uXxz6l8Hir1+UrJzTq98E0f5FReBWxrTkmgggkEeAwC2PEq9BAAEEEEAgXoGmBG5Lr5nfdmRPvBUp3jMd+u3/7buZRxsVv3J3W1QduIWMplNAFHJts22RULHIa/P2z76mfD84tDZ1B1/e6xZ9XRljK9qHury+9oGb/a8erkls/6uIHbjNv3B26y8I+xfV+x8crstcYBwIINBjAj99/X31rfuOVocOxd3x6645rKZ/5iOKk1/irhO9QwABBBAYeYGPjDp6xG8qZ7iN1JZSvforLXCTz1ZXL7tT7dq9J3HQq5f0gomxH/uoevQHTyc/M8/Ztlc93bZsQWtHkrzWPINbHyf0ne89kVxHHw3U6RzvvIWRz46yi2rTcy+37YzS15fVfN/9lyeSMdor+7LOCtfHIUk/zJVOaWPPup9cQx/BpMclnqecPLntLPOs/kk782imLD/p++9+957a/7t3k2OfpD6y28z0Txufy90VuNn3MI3s1XRm+y/92WdTx9xphZtZr7we9qo1aZe2wtPOKnS/JY+YcNzHky2ufznnc2rFPQ+3anHsmDFttdXvBXPRkT5/PmthUdbYfOacvqc9T6R/nz19Wtt23bTfA/q9LIun9O8C+R2hv/R7uchcyvu+7tbrah+42RNHw+lfFq+9sbNtxZv8vMgKt1+9c7BbteA6CCCAQCGB/9j9obr3gVHRB26LF32gTppM3FaouLwYAQQQQKARAscfN2bExxlL4GaGCfLAOvn+Xzf8WP31vC+qjU8/lzy0TodsZhChA4ZJJ0xIwjP7WCH7DKitr76uju0bo77/5LOtwEeHABJk6HO8zWOG0j5DygXM4E+uI+HH8usuV/K50lzIYW811aGX3j3lOitcn0Unu7LMa8lr5euMU6cm4Ypr7OOPG5sESXprq30/1wo3fV3xt03s1VWuGpjnoEtwOjS4MFmoIp+n//2Hm9tWZpkhmNxr4w+fU5dfPCcZV6dz+NICN/MeZsC0a/fbbcdGmVsVpU7ylTZmfX67fYZblodcT+zT5pN+k3cKoO05Yb5eAjcx/sr5M1uhsXZJmw/mAyXN90n/xE+27eTLU2ufOWfPKenvjze/qD79qcltgduTz2xJ/kzO0Nfhm55L+r1ovu9C5tJI/8KtfeBmg9qTmDPcRnrKcT8EEOiWAFtKuyXJdRBAAAEEEKhGoClbSl/atr0NWFb4LF10ifr7f/h2K6QwX2CvzrGDB/MhdzqwkXO35375vCOOBNLXNT+kZ60kkiAm75dcR1a26eBPQhe9ms8VrpjjWv2PP0huo1fpmIHYC1u3Ow+Od4Vm+sxxvXLLXE1onkeeZ0upaWSvEuu0+iurra6ROV7TuNMWxrTAzbyeubNN/lyCSb1TTZ/nrq3Ne6fNCztwy/KwF/HYYbLczw7HXHPMdjDDY9dDHLLmgwTJZv1dPjow9am1vN86zbm0umbNRbvWWSv1XPXsNJfyvre79brGB248pbRbU4nrIIDASAsQuI20OPdDAAEEEECguwJNCdzybinVq1jsD9n21jpzG6quiGxV04GbeSRQWuBmHk6vX2PeX1bYub70a1yhir3yxgzg5Fpm6CGBm/lwPnulnrlNTm9BlJVbaWPvFH6khRzmfaSPeltv1sMDJfwxVwRKOzPUcj0gwRXqmDUwt6va7kUDN9nOqPujz2U350TamLNCxSwPCdyy5pP20efK6+2W9jjt7aemiat+9lZM870ggVvafCvyoEipte+cs4/30v2zx2JvWZXX5dkaqwO3LLfu/sYufrVaBG6uAuXdFy1knfbvZ+2t56EJxScdLRBAoDsCBG7dceQqCCCAAAIIVCXQ9MDNdDfDjh89+0LroXcSTtgr3OywR18n63B9eyVT3qebps2NtLBDhyTSzg7c8q5wk611rjHJ2VdpY3etqOu0ws3eyjlSK9yytjCOHzf2CHKfwE3vZLvyq3PVE0//r+SBFjKXssbcKXCTjpkhj95+am8ndgVp+rWu8enXZ63OSgvc0uaDzjlkW6kYyHyXrc9yf1fgljY2V7iq+9tpzuVZ4aa3t+otq0VXuBWdSyP9u74WgdtIo5n3I3CrUp97I9BsAQK3Ztef0SOAAAII9L5AkwM3+xyvrMDNDKqk6uY5ZvK9hBE/fX2numD2jGRlk4QLq4eXJOGCPh8q6ww3uYZ5nlmemeXa6mauetMPJEjbYmoHBWYQpM+5kuDNDCD0Cj4dTphjP/fs044I+MzALS0c0UGLveXRDkvkWlt+8kriap+jZ5+71WmFW9bWyW4FbjIu6cerr/1MXTD73NZDNcy+ZY3ZdYabGZqZHjpc1We4mfPJngdZc6to4Obapmq+F+ReMk+ffOZ/qVNP+ZMjzn7LOk8wrdY+c0676Pf85/7PP22d4WafJ2ef+9ZpS2nRuZTnvd3N1xC4BWoSuAUC0hwBBLwFCNy86WiIAAIIIIBAFAJNCdxcZ7gNXvc1NXTPPyVPsZQv8ymTWU9MlNfaO5zMtjpoWffIhuS6eZ9SmrWl0Z4sWSvp9FbGv/2bv2h7GqZcI+tpquYOLXuLnN7mmTV2/dCEtDPcdPiit8rK1lh9EL88QVUMJ3xinDr37OmtYMbceil90CGMhGKdnlIq9zPP2HIFXbr2nz/3DPWb/e+2QlLT2661ueXVvIdr+6IdauqwSG+RtMec55w6Pa86eej5JKs17e3JRXbjaYu0LcGd3gt2GGrOIR242e8Ze2xp98gz5+yVoK6nlJrzXdfkkgu/lISknQI3u29Zc6mKX/oEboHqBG6BgDRHAAFvAQI3bzoaIoAAAgggEIVA3QM3X2TXh2zfa1XVrtMTKavqF/dFAIGREyBwC7QmcAsEpDkCCHgLELh509EQAQQQQACBKASqCtz2H3q/0PjPm3CCOmbUUYXahLyYwC1Ej7YIIBCLAIFbYCUI3AIBaY4AAt4CBG7edDREAAEEEEAgCoEqArcoBk4nEEAAgQYIELgFFpnALRCQ5ggg4C1A4OZNR0MEEEAAAQSiECBwi6IMdAIBBBAoRYDALZCVwC0QkOYIIOAtQODmTUdDBBBAAAEEohAgcIuiDHQCAQQQKEWAwC2QlcAtEJDmCCDgLUDg5k1HQwQQQAABBKIQIHCLogx0AgEEEChFgMAtkJXALRCQ5ggg4C1A4OZNR0MEEEAAAQSiECBwi6IMdAIBBBAoRYDALZCVwC0QkOYIIOAtQODmTUdDBBBAAAEEohAgcIuiDHQCAQQQKEWAwC2QlcAtEJDmCCDgLUDg5k1HQwQQQAABBKIQqCJwe+tn76uD7x0uNP7Jp4xWx4w6qlAbXowAAgg0XYDALXAGELgFAtIcAQS8BQjcvOloiAACCCCAQBQCVQVu//veD9V7v8wXoE3/6mF16ux4A7dV969Xb/1yj7r1xitVX9/o1LrK6+Rr6aL5UdQ+qxMHDhxSt9zxYPKSiy74vPrWg/+mVg8vUceOGZP8+cxzTlcXz50V/Tia1MGs+bV33361eOAutfSa+WrGWadFw6LnWdXzyfe9uePNXWpw+AE1NHCVmjqlX/lep8yCELgF6hK4BQLSHAEEvAUI3LzpaIgAAggggEAUAnUP3HTQ8NK27W3e8+bM7BiQ5SnQlhdfUesffybXtcr6MK7HeNLk43P1I++4Nj33chIOyhhX3bs+OHDT4cqGpza3deGhuweiCoHy+JT9Gm31852/StzHjxvb8ZYjEbh1O7jzDdzS3tca6bZlCwoFwr7vTQK3jtOy919A4Nb7NWQECPSqAIFbr1aOfiOAAAIIIPAHgaYEbrGt7Onm/NOh3/7fvqtuuvbSZKVNN7/MwC1P8JN2b1e4IoHF1cvuVNd+468KBSTdHF+M1xKXe//bf1dS0yu/Ojc4kOxWUNat62hz38DNrFk3+kTgFuO7IJI+EbhFUgi6gUADBQjcGlh0howAAgggUCuBpgduOvDZtXtPUtcFl81LVnU9tnGT2vz8VjX2Yx9Vj/7g6eRn5kose7WWvaJG2t+8cl3S7szp05JVSt/53hPJ93pLqb1Kx3ell4QFs847Q8mKtJNPnNQKruzVN7rP8y+crU45eXKyxVD+v94aKsHa4NBadd/KG9QLW/+wIlB+1mmFmznWrJWDaeGK3U+5r4xp3SMb2mqi33jSnyuuH26zlSCwU82kgasu8udioVdBZo1B10xe891/eULJvLFfn9Z3Pc6/nPM5teKeh1vzwhViSj/11xu/eOuIbch55pc9t+05nFY36f/vfvee2v+7d5WsRuyfOCGZE3rLpK6LXE/P+yJz2bU6zXz/5J1P2scVuNljkOt/9vRpSbhrv9f1fJNt4bKiUOaBOWZ7Ppo/c61wS7OT6xRx6tZfNGwpDZQkcAsEpDkCCHgLELh509EQAQQQQACBKASaHLiZAZScayXf/+uGH6u/nvdFtfHp55LATIdgrtBp0gkTkiBEPkQPrljbWl0mgYFsM9VbAbe++ro6tm+M+v6TzyY1123MwEs+uN++5lE1tHxhsn3QDB3siWIGc3JvCW+WX3e5eu2NnW3bW7MCNxmvGVRIAGePQe7bKXCzV79lnWeXFrjZf66DMzkTT77kzDhtbYaCEgDJa3Ugpc1cNdOmrrrseec3yX1MEzOINP3t7bu6f/oMsqy+6wDsK+fPzDzHTzxkLlx+8Zzk1ua8kO995pcdStnXkLrpsFb+/7//cHMrZDPH9N7Bg0ecBaevrc3suWz66Vrretq1LzKf9HXTAjdzDPLaJ5/Zoj79qclJcKhrMTS4MKm7jHnLT15pvWftMW/84XOtephzfNfut484wy3Nzp4rdh/K+guBwC1QlsAtEJDmCCDgLUDg5k1HQwQQQAABBKIQaErg5jrDbemiS9Tf/8O321Z56aKYH7jlQQjmh/oJx3287UO2tNGBxdwvn5f6UAFz25odLNjhX97JIdfRZ63ZwUOnwE3uoQOsCZ8Yp2645pLW1kW9wqpT4GZvxXOtVtNjydo+mOVnWtmrBM1w50fPvpCsStQPrzB/VuRhD0XPQtNzZfC6r6mhe/6p7YESZt/3vrP/iHnjqrP0++HHnkoCXDuk6WQor7fP3ZOw0ZwbZ5w69Yg5ap5FuPoff5DcV6/ENH/mCtyKzOW0OakDyyLzqVPgZo7BdrYdi9w3q6b2dUw7O5zTvzey+pn390DW6wjcAhUJ3AIBaY4AAt4CBG7edDREAAEEEEAgCoGmBG5pZ7jZ2+706ig7cDMDMQnczK1pupCybU0HbrLax34apB246W2R5kQw76+3pNoTRb/GFdKZ98gTuKV96C8SuJnbWO3Vfmbf86xwc/mZwZkEbuaWRrm+3rKbJ3Bz1UUbmNfVW4tte9dqKh2q6MDNvIfZ97yBm7naTO7vWjWXZ36ZD/NwBW72wyv01lifwC1rLpuG9uo3V/CVdz4VDdxcD+3QW1ntoMyex+Y2ZnPO2TXtFLi5Viu6tgx38y8HArdATQK3QECaI4CAtwCBmzcdDRFAAAEEEIhCoOmBm1kEc+WKHd7YK9zsD876OkVWIOV9umnaRHGd0ZUVBrgCOhnzg/+8MbnFn39hRus8tyKBm7TVq6F8VriZbfonftK5+ko/JVUCNzOQMW3skDTvCjd7G2yVK9zSnr6pzw1z+WiDrBWUrsAtK3w0a5pnhVveuVzVCrdOW1mzVrjJlmN9tqFsR2WFWxR/dY1cJwjcRs6aOyGAQLsAgRszAgEEEEAAgd4WaHLgJiGEeTZTVuCWdTaXzAAJEn76+k51wewZR5yxpc+OyjrDTa4h95cve2Vc2gyzAyZ5nevBCHp1n16lo1fImat4pO3g8ANqaOCq5IyrvIGbfaZa0TPcXE8pNc8X01tB085wk37L9su555+nsla4uc5wc9XFDmZse3uFW9bZaHbfs8JIfZ+0J8Kaq97s89ey5lda7e1rmOcXZq1wk37KmXp6C6h8b5/hljWX7UDarn+R+aTN0s5wM0ND+752n+3ALSu8NO2KrHDTdnouc4Zbj/zdSeDWI4WimwjUUIDArYZFZUgIIIAAAo0SaErg5jrDTW8B1FvrzKcP2g8t0NsW9RMl7e1pWU81zLBY/6MAACAASURBVPuUUvseWRMxayWd+SABcyvcpRd9OXnyZNVPKbW3Mrqezpr3KaViZD9Z1nWGm66beV3tLaGJ3iIsdZTz7M49e7rzwQadnrAp/en0lFIdarrqm7a6zlxlJmcKusZhn29n1l62i8oTOM2t1fYcT9tead/bvG7aU0qz5rK5MvMLM89MGOzVlXo7ddYTY4sEbjoE1FtfdZ0vufBLyapO01Nea97Xfq9//twz1G/2v5s8YKFI4GaeBal/H/k+mbjIX1JsKS2i5XgtgVsgIM0RQMBbgMDNm46GCCCAAAIIRCFQ98DNF9m1esz3WrSrj4BrNVV9RsdI6ihA4BZYVQK3QECaI4CAtwCBmzcdDRFAAAEEEIhCoKrA7eB7hwuNf/Ipo9Uxo44q1CbkxQRuIXr1bUvgVt/a1nVkBG6BlSVwCwSkOQIIeAsQuHnT0RABBBBAAIEoBKoI3KIYOJ1AAAEEGiBA4BZYZAK3QECaI4CAtwCBmzcdDRFAAAEEEIhCgMAtijLQCQQQQKAUAQK3QFYCt0BAmiOAgLcAgZs3HQ0RQAABBBCIQoDALYoy0AkEEECgFAECt0BWArdAQJojgIC3AIGbNx0NEUAAAQQQiEKAwC2KMtAJBBBAoBQBArdAVgK3QECaI4CAtwCBmzcdDRFAAAEEEIhCgMAtijLQCQQQQKAUAQK3QFYCt0BAmiOAgLcAgZs3HQ0RQAABBBCIQoDALYoy0AkEEECgFAECt0BWArdAQJojgIC3AIGbNx0NEUAAAQQQiEKgisBt/y93qd8fPFBo/GP7P6WOGXVUoTa8GAEEEGi6AIFb4AwgcAsEpDkCCHgLELh509EQAQQQQACBKASqCtyO/Z+r1DG//Y9cBvvPuUodO312tIHbqvvXq7d+uUfdeuOVqq9vdOqY5HXytXTR/Fzj5kUjK2DWZ8ebu9Tg8ANqaOAqNXVK/xEdeWzjJrX5+a0daz4SI9jy4itq1b3r1erhJWr8uLFttzxw4JC65Y4H1cxzTlcXz501Et0p/R6dapPVgSI1Ln0gI3QDArdAaAK3QECaI4CAtwCBmzcdDRFAAAEEEIhCoO6B2959+9XigbvUS9u2t3nPmzOzK2GJhB3rH38m17XKCtz0GE+afHyuflQ18XyCEmlz9bI71a7de5JuP3T3gJpx1mmlDKFIGFNm4CbXvnnlutxjHanALWT+6jG5Cnfm9GnOsDCtyD7zSF+rSI1LmWQVXJTALRCdwC0QkOYIIOAtQODmTUdDBBBAAAEEohBoSuC29Jr5pQU1VRdSh377f/uuuunaS50rsqruo9zfNyjxbVd0zEUCpbICN1mRdvuaR5Ouf+xjxwavhuzmCrciPln2oXYh84HArei7IrLXy78uDK5Ye8QvOinsukc2tHp727IFbUs67X95sZN7MxG2/zWGwC2ySUB3EGiQAIFbg4rNUBFAAAEEainQ9MDNXkG14LJ5ScihQ4GxH/uoevQHTye1Nz+j6SBjw1Obk5/Zn+/Mz296Bc93vvdE8lq9pbTTZ8C8E04+a8467wy16bmX1cknTmp9ztTXl8+P3/2XJ5JVYvZnyazPmeZn2P6JE9R9K29Iwry0sWfdT8YiWxu1l+2ZNVY7YMm6z3sHDyYrGs2A1Ww//rixbSseTY9OYYz9md5sm1ZL18ouPcdcY5a+PvzYU0kNv/Wdf1NDyxe2bROVcPWK64eTprome975TduWUteqTnN+mtcwV5dpp7+c8zm14p6Hk3vovppt5M/12O262u8D1xjtwM1+r8k9//Zv/iK1Trqfp3/m5NZ70zRNe09LX1w1do1X99useVbd8r5Xq3hdLVa4mb90zF9GAio/W/2PP0gmjeyp1hNgaHBh8q8sdups/0Kxl4jayTKBWxXTlnsigIAIELgxDxBAAAEEEOhtgSYHbvpz2PwLZ7c+l/3rhh+rv573RbXx6efatvWZn8mOHTMmCY8mnTAhCc/sRRcSIMg2U32m1tZXX1fH9o1R33/y2VbgpkMRubeEK/IZUFY26YAlawueGfzJdSQcWX7d5eq1N3a2bW+1t5rqcESf5+X6nKnPonv51R1t15LXytcZp05NHbsOs/TWVvt+viuT0gK3tPuI3Ru/eKsVbJrf63HI53C7BlmBm11TMzTSIV9aLfVviDzjl+vK19wvn5c467kpfyZ9Hxxa2wo+5XrvHTio3j1wsBW42XPTzhrsa5g2Oqf4yvkzW/PaDC/tHEJfO+19kPab0RW42Vtos+qk+3ntN/4qee/oOuqQ9clntqhPf2pyEg7b2YtdY9munDZes596Luux9tJv/VoEbho8bYWbWRBXwGb+crV/LpPC/JcK+xcjgVsvTXf6ikC9BAjc6lVPRoMAAggg0DyBpgRurjPcli66RP39P3w7CTXsA+XtUMD8UD/huI8fcaC+/symgxLXIfXmh337M50d/uWdiXIdWdmmgz8zILGDCLmmOS5ZFCJfesWdGQi9sHV7W2iYFRrpsX/pzz57xOoy87NsnsDJNe60wM1cxWbfR3++1gGUGVyZ9zBrkha49U/85BEPHjAdJZw0H1rgqqUd7rnGqbeTXn7xnCQssudg2pZOcy7tfWd/29x0ZQt2zbVVWlttZ9/fVU87u3CNM22FW9ZDR/KsPjTHpe+bNX67/2bddLBsvo+zzsrL+36t4nWNC9zsX3yuwukJtfjrFx3x5rYnBoFbFdOWeyKAgAgQuDEPEEAAAQQQ6G2BpgRuaWe4pR3Kb4cC5odxCdzMg/z1DJDtdK6VSfrnduCmtwaaM0ivXsuzws0V7Jj3cAVu5kMeJHCzt6CaxyOZ2+n0FsJdu99OHXssgZtdK3Nxi1jbW0P1VsFOgZsZ2tmBW1Yt9T1dgZBZe/sBHPbn/rQwyw7cOi3mMY+6kvvrbaU+gVva+yDriah5A7e0OrmCPnOlnr3lWcaot7pmBXeuwM2sub0KtVd+8zcucLOTYdeTbezAzS60+YjiQ78/3Cu1pp8IIFAzgddef1996/6j1aFDcQ/sm9ccVtM//RF1VNzdpHcIIIAAAgiMuMDoY44e8Xvu/+Uudez/XKWO+e1/5Lr3/nOuUsdOn62OGVX8b3JX6JR2UzO4+NGzL6jNz29tPfXTXuFmhzj6mlmH1NuBW96nm6b11w4L9et0gCLf2+eZ5V3hJiusXGP67OnT2ra+mn1zWVexwk36pAMYCRTlSwdA0h+9bbavb3TbmV6dAjdztZMduGXVMu9DAuyASdu6wiI7qNMr7PKscDNDVvM6WSu+ZAuua4Vb2vsg642dJ3DLqlPayrpkvv/ngiW99ZMVbko1KnCzJ45MitAVbm/vO5jrLypehAACCHRb4D/e+lCteWBU9IHb4kUfqD85sfh/pHfbi+shgAACCCAQm8Anx40Z8S7FErhJQLTxh88p2cJnfy6zA7dO5zlJCPDT13eqC2bPSMIe8ww3faZU1hlu+v7yvxJu5PlyBTnmKp1TTp7cFri5dlqZZ4KZn1V/vPnF1jlYZmihV/CZZ1npsZ979mmZW0pdgVyerZZFt5SKnT7q6fDhD9V//buvtp7caoZG9hlkWaufXPWX+8g2SPsMN7OWru3HrtqmBcPm4hzZumrWS59zJtfTgZveQqvDQfu8M/sMN2krD2mYe/55qtMKt7RVn665IO+DtK+8gZu0l+3Odp3s+WB+b2//LXJOn71i1Hwf22fj5Xl/xvKaxgRurrBNimAvTeQMt1imJv1AAIFOAmwp7STEzxFAAAEEEIhboClbSl1nuA1e9zU1dM8/tZ6caT78zt7SaT7NUSpqb1uzH5xnrlbK+5RS+x5ZMydrJZ1e3WU/6VGul/U0VfOpm/ZTKc0nNKaNXT80Ie1sNbm/6SrbZ3Uo6DpHT39WNrctmm2y7pOEUNZqNvt6UrMJnxinzj17ehLs5NluKE9ZlXZfmHmW2v+7d49YAannmVlzewun62mXaeeDuR7IIQ8YkK+0p5SaKx+/MPPM5LV//oUZrVV+abXttMLNfPpp2lNK7feBaw7nCdzMMdh1cq3sNB8kYj/JVWp8yYVfSsafp8bm7kLzfcxTSiP4uyztoQlpBxyav6zNFNrcMspTSiMoLF1AAAGnAIEbEwMBBBBAAIHeFqh74OZbnbzbAH2vPxLtimynHYn+cA8EEBh5gVqscHMdzKdTX73E1PWvKvpJHGZaLCUwE1r7XwLMf3mQn/HQhJGftNwRAQT+IEDgxkxAAAEEEECgtwWqCtx+f/BAIbix/Z/yOsOt0E2MFxO4+crRDgEEYhKoReBWJSiBW5X63BuBZgsQuDW7/oweAQQQQKD3BaoI3HpfjREggAACvSFA4BZYJwK3QECaI4CAtwCBmzcdDRFAAAEEEIhCgMAtijLQCQQQQKAUAQK3QFYCt0BAmiOAgLcAgZs3HQ0RQAABBBCIQoDALYoy0AkEEECgFAECt0BWArdAQJojgIC3AIGbNx0NEUAAAQQQiEKAwC2KMtAJBBBAoBQBArdAVgK3QECaI4CAtwCBmzcdDRFAAAEEEIhCgMAtijLQCQQQQKAUAQK3QFYCt0BAmiOAgLcAgZs3HQ0RQAABBBCIQoDALYoy0AkEEECgFAECt0BWArdAQJojgIC3AIGbNx0NEUAAAQQQiEKAwC2KMtAJBBBAoBQBArdAVgK3QECaI4CAtwCBmzcdDRFAAAEEEIhCgMAtijLQCQQQQKAUAQK3QFYCt0BAmiOAgLcAgZs3HQ0RQAABBBCIQoDALYoy0AkEEECgFAECt0BWArdAQJojgIC3AIGbNx0NEUAAAQQQiEKAwC2KMtAJBBBAoBQBArdAVgK3QECaI4CAtwCBmzcdDRFAAAEEEIhCgMAtijLQCQQQQKAUAe/A7bGNm9Sa735f3bfyBjV1Sn/SuS0vvqKuuH44+f+3LVugLp47q5ROx3RRAreYqkFfEGiWAIFbs+rNaBFAAAEE6idA4Fa/mjIiBBBAQAt4B26r7l+fXGPpovnJ/+7dt18Nrlirbrr2UtU/8ZPqljseVPMvnK1mnHVarbUJ3GpdXgaHQNQCBG5Rl4fOIYAAAggg0FGAwK0jES9AAAEEelbAK3CTcG3xwF1q6TXzW4GarG5b//gz6tYbr1R9faOT1W7m9z0r1KHjBG51rSzjQiB+AQK3+GtEDxFAAAEEEMgSIHBjfiCAAAL1FfAO3PRqNr2d1F7xtuPNXer2NY+qoeUL1fhxY2srSOBW29IyMASiFyBwi75EdBABBBBAAIFMAQI3JggCCCBQX4GuBm4nnzipdW4bgVt9Jw0jQwCBOAQI3OKoA71AAAEEEEDAV4DAzVeOdggggED8Al6B24EDh9rOaLO/l2HLltJV965Xq4eXsMIt/nlADxFAoAcFCNx6sGh0GQEEEEAAAUOAwI3pgAACCNRXwCtwEw55Sunm57cmZ7a9/OqOI8I1e4tpXQnZUlrXyjIuBOIXIHCLv0b0EAEEEEAAgSwBAjfmBwIIIFBfAe/ATUgkVFv3yIZE56G7B9oeoHDF9cNtf1ZXQgK3ulaWcSEQvwCBW/w1oocIIIAAAggQuDEHEEAAgWYKBAVuzSRrHzWBG7MAAQSqEiBwq0qe+yKAAAIIINAdAVa4dceRqyCAAAIxChC4BVaFwC0QkOYIIOAtQODmTUdDBBBAAAEEohAgcIuiDHQCAQQQKEWAwC2QlcAtEJDmCCDgLUDg5k1HQwQQQAABBKIQIHCLogx0AgEEEChFIDhwM89x0z1ccNk8tXTR/FI6HNtFCdxiqwj9QaA5AgRuzak1I0UAAQQQqKcAgVs968qoEEAAARHwDtz27tuvFg/cpU6afHzypNK+vtGJ6IEDh9Qtdzyofr7zV2r18BI1ftzYWksTuNW6vAwOgagFCNyiLg+dQwABBBBAoKMAgVtHIl6AAAII9KyAd+AmK9vkK20lW6ef96yY1XECt7pUknEg0HsCBG69VzN6jAACCCCAgClA4MZ8QAABBOor4BW46VVs8y+crWacdZpTZ8uLr6j1jz/TtvqtjowEbnWsKmNCoDcECNx6o070EgEEEEAAgTQBAjfmBgIIIFBfAa/ATbaTDq5Yq2669lI1dUq/U2fHm7vU7WseVUPLF9Z6WymBW33fHIwMgdgFCNxirxD9QwABBBBAIFuAwI0ZggACCNRXwCtwY4XbHycEgVt93xyMDIHYBQjcYq8Q/UMAAQQQQIDAjTmAAAIINFXAK3ATrE5ntHX6eV3ACdzqUknGgUDvCRC49V7N6DECCCCAAAKmACvcmA8IIIBAfQW8AzeeUvqHSUHgVt83ByNDIHYBArfYK0T/EEAAAQQQyBYgcGOGIIAAAvUV8A7cNMljGzepm1euaxNacNm81KeX1o2SwK1uFWU8CPSOAIFb79SKniKAAAIIIOASIHBjXiCAAAL1FQgO3OpLk29kBG75nHgVAgh0X4DArfumXBEBBBBAAIGRFCBwG0lt7oUAAgiMrACBW6A3gVsgIM0RQMBbgMDNm46GCCCAAAIIRCFA4BZFGegEAgggUIqAV+Am57etuOdhtfy6y9X4cWOdHcvzmm6PSO45uGKtuunaS9XUKf2ty+unqm54anPyZ7ctW6Aunjur9XN9Ht1L27Ynf/bQ3QNqxlmntX5ubpudN2emuvXGK1Vf3+jk5wRu3a4i10MAgbwCBG55pXgdAggggAACcQoQuMVZF3qFAAIIdEPAO3BbPHCX0gFVWkfOnD5NrR5ekhrKdWMAcg0zUOufOEHdt/KGtsDNfGKqDteWXjM/CdV025nnnJ6EcDve3KUGhx9QQwNXJdfY8uIratW961vjsJ++SuDWrSpyHQQQKCpA4FZUjNcjgAACCCAQlwCBW1z1oDcIIIBANwW8A7deWeHmWvVmhmYSsN2+5lE1tHxhEgzaAZy89uQTJ7VWxNkBHIFbN6cj10IAgSICBG5FtHgtAggggAAC8QkQuMVXE3qEAAIIdEvAK3Dr1s27fR1XuGavWJN7yhbRzc9vTbaGvvzqjrYVbPJzHcgt/vpF6pY7HlR69Zv8zL4egVu3q8j1EEAgrwCBW14pXocAAggggECcAgRucdaFXiGAAALdEGhE4GauYHMFbusff6btXDY7cJt/4ezWmW524Hbw/cPdqAPXQAABBAoLvPbG++rb9x+tDh0q3HREG3zzmsNq+ikfGdF7cjMEEEAAAQR6QWDMR47uhW7SRwQQQAABDwHvwE22Vl5x/fARDxiQPmT9zKOPuZtUscJtz28O5u4fL0QAAQS6KbDrPz5Uax4YFX3gtnjRB2rKSUd1c+hcCwEEEEAAgVoITPj4mFqMg0EggAACCBwp4B242Q8PsC/d6edlFMMVuHGGWxnSXBMBBGIQYEtpDFWgDwgggAACCPgLsKXU346WCCCAQOwCXoGb/aRP1yDthwuMBIQrXJP78pTSkdDnHgggMNICBG4jLc79EEAAAQQQ6K4AgVt3PbkaAgggEJOAd+A2uGKtuunaS9XUKf3O8dhP/yxz0PrJohue2ty6zbw5M1vnstk/v23ZgtZTR6WBDhBf2rY9af/Q3QOtM9vke3nIws0r1yU/M68r3/PQhDIry7URQCBLgMCN+YEAAggggEBvCxC49Xb96D0CCCCQJeAVuOkAy3yYgH0TWeFmP4ygjqUgcKtjVRkTAr0hQODWG3WilwgggAACCKQJELgxNxBAAIH6CngFbsIhq77e+MVbaumi+U4d2cZ58omT2laS1ZGRwK2OVWVMCPSGAIFbb9SJXiKAAAIIIEDgxhxAAAEEmifgHbjpVW5CduuNV6q+vtGJnv7zn+/8lVo9vESNHze21qoEbrUuL4NDIGoBAreoy0PnEEAAAQQQ6CjACreORLwAAQQQ6FkB78BNj9g830z/mX1GWs/q5Og4gVsOJF6CAAKlCBC4lcLKRRFAAAEEEBgxAQK3EaPmRggggMCICwQHbiPe48huSOAWWUHoDgINEiBwa1CxGSoCCCCAQC0FCNxqWVYGhQACCCQCBG6BE4HALRCQ5ggg4C1A4OZNR0MEEEAAAQSiECBwi6IMdAIBBBAoRYDALZCVwC0QkOYIIOAtQODmTUdDBBBAAAEEohAgcIuiDHQCAQQQKEXAK3Dbu2+/WnHPw2r5dZenPhQhz2tKGdEIX5TAbYTBuR0CCLQECNyYDAgggAACCPS2AIFbb9eP3iOAAAJZAt6B2+KBu9RL27Zn6p45fVrtn1RK4MYbDAEEqhIgcKtKnvsigAACCCDQHQECt+44chUEEEAgRgHvwI0Vbn8oJ4FbjNOaPiHQDAECt2bUmVEigAACCNRXgMCtvrVlZAgggIBX4AbbHwUI3JgNCCBQlQCBW1Xy3BcBBBBAAIHuCBC4dceRqyCAAAIxCngFbnI+2+CKteqmay9VU6f0xziuEesTgduIUXMjBBCwBAjcmBIIIIAAAgj0tgCBW2/Xj94jgAACWQJdCdyaHMARuPEGQwCBqgQI3KqS574IIIAAAgh0R4DArTuOXAUBBBCIUYDALbAqBG6BgDRHAAFvAQI3bzoaIoAAAgggEIUAgVsUZaATCCCAQCkCBG6BrARugYA0RwABbwECN286GiKAAAIIIBCFAIFbFGWgEwgggEApAgRugawEboGANEcAAW8BAjdvOhoigAACCCAQhQCBWxRloBMIIIBAKQIEboGsBG6BgDRHAAFvAQI3bzoaIoAAAgggEIUAgVsUZaATCCCAQCkC3oHb4oG71Evbtmd26szp09Tq4SVq/LixpXQ+hosSuMVQBfqAQDMFCNyaWXdGjQACCCBQHwECt/rUkpEggAACtoBX4AbjHwUI3JgNCCBQlQCBW1Xy3BcBBBBAAIHuCBC4dceRqyCAAAIxChC4BVaFwC0QkOYIIOAtQODmTUdDBBBAAAEEohAgcIuiDHQCAQQQKEXAK3Dbu2+/GlyxVt107aVq6pR+ZX8vPd3x5i51+5pH1dDyhWwpLaV0XBQBBJouQODW9BnA+BFAAAEEel2AwK3XK0j/EUAAgXQBArfA2cEKt0BAmiOAgLcAgZs3HQ0RQAABBBCIQoDALYoy0AkEEECgFAECt0BWArdAQJojgIC3AIGbNx0NEUAAAQQQiEKAwC2KMtAJBBBAoBQBArdAVgK3QECaI4CAtwCBmzcdDRFAAAEEEIhCgMAtijLQCQQQQKAUAQK3QFYCt0BAmiOAgLcAgZs3HQ0RQAABBBCIQoDALYoy0AkEEECgFAECt0BWArdAQJojgIC3AIGbNx0NEUAAAQQQiEKAwC2KMtAJBBBAoBQB78Bt8cBd6qVt2zM7deb0aWr18BKeUlpK6bgoAgg0XYDArekzgPEjgAACCPS6AIFbr1eQ/iOAAALpAl6BG6B/FGCFG7MBAQSqEiBwq0qe+yKAAAIIINAdAQK37jhyFQQQQCBGAQK3wKoQuAUC0hwBBLwFCNy86WiIAAIIIIBAFAIEblGUgU4ggAACpQh4BW579+1XbCn9Qz0I3EqZl1wUAQRyCBC45UDiJQgggAACCEQsQOAWcXHoGgIIIBAo4BW4dbrnqvvXq3WPbFCc4dZJip8jgAAC/gIEbv52tEQAAQQQQCAGAQK3GKpAHxBAAIFyBLoauG158RV1xfXDSU8funtAzTjrtHJ6HdFVWeEWUTHoCgINEyBwa1jBGS4CCCCAQO0ECNxqV1IGhAACCLQEuhK4HThwSN1yx4Nqw1Ob1YLL5qmli+Y3hpjArTGlZqAIRCdA4BZdSegQAggggAAChQQI3Apx8WIEEECgpwSCA7fHNm5SN69cp/onTlD3rbxBTZ3SHx2AfeacHQraP7dX5+kxysDmzZmpbr3xStXXNzoZJ4FbdOWmQwg0RoDArTGlZqAIIIAAAjUVIHCraWEZFgIIIKCU8g7cdry5S1297E61a/cedduyBeriubOiBNWr72aec3rSx07fy7gGhx9QQwNXJeGhbJNdde96tXp4iRo/bqyS8+nkS6/iI3CLsux0CoFGCBC4NaLMDBIBBBBAoMYCBG41Li5DQwCBxgt4BW56RdhJk49vW+0Vo6bu69Jr5rfOlDNDMwnYbl/zqBpavjAJ1OxATl578omTWoGiHcARuMVYdfqEQDMECNyaUWdGiQACCCBQXwECt/rWlpEhgAACQYHbS9u2ZwrG8pRSvSVUtoqecvJkNbhirbrp2kudK9hkQDqQW/z1i5Kz6fTqOPmZvQKOwI03EQIIVCVA4FaVPPdFAAEEEECgOwIEbt1x5CoIIIBAjAJegVuMA8nqkw7J5DUvb9vR9mAHWbG2/vFn2lbq2YHb/Atnt1bH2YHbgUMf9BoH/UUAgZoIbH/z9+rb9x+tDh2Ke0DfvPqwOu2UY+LuJL1DAAEEEECgAoG+0aMquCu3RAABBBAYCYHaB26ypdRc0aa3jE46YUJyDpu9RVTQi6xw+/X+yD/pjsQs4h4IIFCJwM5dh9WaB0ZFH7j93aIP1JQ/OboSI26KAAIIIIBAzAKfGPuHB7HxhQACCCBQPwGvwM0Osezvhck+G60qOlc/ZIvp5ue3Jqvadu1+mzPcqioO90UAgSABtpQG8dEYAQQQQACBygXYUlp5CegAAgggUJpA7QM3/dAE2RZqPqVUr3CzH5LAU0pLm2tcGAEEuixA4NZlUC6HAAIIIIDACAsQuI0wOLdDAAEERlCg9oGbWEqIdvWyO9Wu3XsS2gWXzUu2k+ovHcrph0DIwxVmnHVa6+f6oQvyB/PmzGw7742HJozgbOVWCCDQJkDgxoRAAAEEEECgtwUI3Hq7fvQeAQQQyBJoROBW5hQgcCtTl2sjgECWAIEb8wMBBBBAAIHeFiBw6+360XsEEECAwK3EOUDgViIul0YAgUwBAjcmCAIIIIAAAr0tQODW2/Wj9wgggACBW4lzgMCtRFwujQACBG7MAQQQQAABBGosQOBW4+IySsN7BAAAIABJREFUNAQQaLyA95bSxQN3KX3mWZrimdOnqdXDS9T4cWNrC03gVtvSMjAEohdghVv0JaKDCCCAAAIIZAoQuDFBEEAAgfoKeAVu9eUoPjICt+JmtEAAge4IELh1x5GrIIAAAgggUJUAgVtV8twXAQQQKF+AwC3QmMAtEJDmCCDgLUDg5k1HQwQQQAABBKIQIHCLogx0AgEEEChFoKuB26r716t1j2xIOnrbsgXq4rmzSul0TBclcIupGvQFgWYJELg1q96MFgEEEECgfgIEbvWrKSNCAAEEtIB34LbjzV3q6mV3ql279yTh2kmTj1ebnntZLV00Xx04cEjdcseDauY5p9c+dCNw482EAAJVCRC4VSXPfRFAAAEEEOiOAIFbdxy5CgIIIBCjgFfgZgdqj23cpG5euU49dPeAmnHWack4t7z4ilr/+DPq1huvVH19o2Mce1f6RODWFUYuggACHgIEbh5oNEEAAQQQQCAiAQK3iIpBVxBAAIEuC3gFbnv37VeDK9aqm669VE2d0q/s76WPsgLu9jWPqqHlC3lKaZeLxuUQQAABESBwYx4ggAACCCDQ2wIEbr1dP3qPAAIIZAkQuAXOD1a4BQLSHAEEvAUI3LzpaIgAAggggEAUAgRuUZSBTiCAAAKlCBC4BbISuAUC0hwBBLwFCNy86WiIAAIIIIBAFAIEblGUgU4ggAACpQgQuAWyErgFAtIcAQS8BQjcvOloiAACCCCAQBQCBG5RlIFOIIAAAqUIeAduiwfuUi9t257ZqTOnT1Orh5dwhlsppeOiCCDQdAECt6bPAMaPAAIIINDrAgRuvV5B+o8AAgikC3gFboD+UYAVbswGBBCoSoDArSp57osAAggggEB3BAjcuuPIVRBAAIEYBUoP3A4cOKRW/+MP1N/+zV/UcqUbgVuM05o+IdAMAQK3ZtSZUSKAAAII1FeAwK2+tWVkCCCAAIFb4BwgcAsEpDkCCHgLELh509EQAQQQQACBKAQI3KIoA51AAAEEShEgcAtkJXALBKQ5Agh4CxC4edPREAEEEEAAgSgECNyiKAOdQAABBEoRIHALZCVwCwSkOQIIeAsQuHnT0RABBBBAAIEoBAjcoigDnUAAAQRKESBwC2QlcAsEpDkCCHgLELh509EQAQQQQACBKAQI3KIoA51AAAEEShEgcAtkJXALBKQ5Agh4CxC4edPREAEEEEAAgSgECNyiKAOdQAABBEoRIHALZCVwCwSkOQIIeAsQuHnT0RABBBBAAIEoBAjcoigDnUAAAQRKESBwC2QlcAsEpDkCCHgLELh509EQAQQQQACBKAQI3KIoA51AAAEEShEgcAtkJXALBKQ5Agh4CxC4edPREAEEEEAAgSgECNyiKAOdQAABBEoRKD1wK6XXEV2UwC2iYtAVBBomQODWsIIzXAQQQACB2gkQuNWupAwIAQQQaAl4BW579+1XiwfuUi9t255Jeeb0aWr18BI1ftzY2pITuNW2tAwMgegFCNyiLxEdRAABBBBAIFOAwI0JggACCNRXIChwe/vX76j7Vt6gpk7pr69Qh5ERuDW29AwcgcoFCNwqLwEdQAABBBBAIEiAwC2Ij8YIIIBA1AJegZse0WMbN6mbV65T8+bMVLfeeKXq6xsd9WDL6ByBWxmqXBMBBPIIELjlUeI1CCCAAAIIxCtA4BZvbegZAgggECoQFLjJzQ8cOKRuueNBteGpzeq2ZQvUxXNnhfapp9oTuPVUuegsArUSIHCrVTkZDAIIIIBAAwUI3BpYdIaMAAKNEQgO3LTUjjd3qauX3Zl826RtpgRujXmvMFAEohMgcIuuJHQIAQQQQACBQgIEboW4eDECCCDQUwJdC9y2vPiKuuL64WTwD909oGacdVpPQfh2lsDNV452CCAQKkDgFipIewQQQAABBKoVIHCr1p+7I4AAAmUKBAdu5hNLF1w2Ty1dNL/M/kZ3bQK36EpChxBojACBW2NKzUARQAABBGoqQOBW08IyLAQQQEApFRS4rbp/vVr3yAYemsBUQgABBCoQIHCrAJ1bIoAAAggg0EUBArcuYnIpBBBAIDIBr8BNr2p7+9fv9Mx5bfqMuV2796j+iRPa+m2u0pP62Fti9dNY5Wf2E1lZ4RbZjKY7CDRIgMCtQcVmqAgggAACtRQgcKtlWRkUAgggkAgEBW4vbdueyXjm9Glq9fASNX7c2Eq5JWwbHH5ADQ1cpaZO6W/ri37K6sxzTk+esGq/Vs6mW3Xv+tY4ZFWffOmtswRulZaWmyPQaAECt0aXn8EjgAACCNRAgMCtBkVkCAgggECKgFfg1kuaOlCbf+Fs54McJGC7fc2jamj5wiQYtAM4CdhOPnFSEsbJlx3AEbj10mygrwjUS4DArV71ZDQIIIAAAs0TIHBrXs0ZMQIINEeg9oGbvV1USmtuC7UDNPm5XsW2+OsXqVvueFDp1W/yM3sFHIFbc94sjBSB2AQI3GKrCP1BAAEEEECgmACBWzEvXo0AAgj0koBX4OYKsexB2+egVYWStoJt0gkTkm2hEritf/wZdeuNV6q+vtFJN+3AzVwdZwdu7x38oKqhcV8EEGi4wI6f/V59+/6j1aFDcUN88+rD6tRpx8TdSXqHAAIIIIBABQLHjhlVwV25JQIIIIDASAh4BW6dOqYfUDA0uNC5jbNT+27+3A7c5NrmqrbX3tjZdkabK3DLWuG297eRf9LtJibXQgCBqAR+seuwWrN2VPSB298t+kCdPOXoqOzoDAIIIIAAAjEIjP8//vAP/nwhgAACCNRPoJTATYda9sqxKvhkNd7girXqpmsvbT0wwVzVtmv325zhVkVhuCcCCAQLsKU0mJALIIAAAgggUKkAW0or5efmCCCAQKkCpQVurpVlpY4k4+KyRfStX+5Jto3Kl3kuG08praoq3BcBBEIFCNxCBWmPAAIIIIBAtQIEbtX6c3cEEECgTIFGBG46VNvw1ObEcsFl85Lz2/SXfSadff7cYxs3qZtXrktebj5wQb7noQllTk+ujQACWQIEbswPBBBAAAEEeluAwK2360fvEUAAgSyB0gI3Cak2P7+17WEEdSwFgVsdq8qYEOgNAQK33qgTvUQAAQQQQCBNgMCNuYEAAgjUV6CUwC2mhyaUXToCt7KFuT4CCKQJELgxNxBAAAEEEOhtAQK33q4fvUcAAQSyBLwCN3sLpusG9rbMupaBwK2ulWVcCMQvQOAWf43oIQIIIIAAAlkCBG7MDwQQQKC+Al6BW305io+MwK24GS0QQKA7AgRu3XHkKggggAACCFQlQOBWlTz3RQABBMoXIHALNCZwCwSkOQIIeAsQuHnT0RABBBBAAIEoBAjcoigDnUAAAQRKEfAK3PJsKZXenjl9mlo9vESNHze2lM7HcFECtxiqQB8QaKYAgVsz686oEUAAAQTqI0DgVp9aMhIEEEDAFvAK3Doxrrp/vVr3yAYCt05Q/BwBBBAIECBwC8CjKQIIIIAAAhEIELhFUAS6gAACCJQk0NXAbcuLr6grrh9OuspDE0qqGJdFAAEE/lOAwI2pgAACCCCAQG8LELj1dv3oPQIIIJAl0JXA7cCBQ+qWOx5UG57arBZcNk8tXTS/MepsKW1MqRkoAtEJELhFVxI6hAACCCCAQCEBArdCXLwYAQQQ6CmB4MDtsY2b1M0r16n+iRPUfStvUFOn9PcUQGhnCdxCBWmPAAK+AgRuvnK0QwABBBBAIA4BArc46kAvEEAAgTIEvAO3HW/uUlcvu1Pt2r1H3bZsgbp47qwy+hf9NQncoi8RHUSgtgIEbrUtLQNDAAEEEGiIAIFbQwrNMBFAoJECXoGbfkrpSZOPV7feeKXq6xvdSDwZNIFbY0vPwBGoXIDArfIS0AEEEEAAAQSCBAjcgvhojAACCEQtEBS4vbRte+bgzpw+Ta0eXqLGjxsbNUJI5wjcQvRoiwACIQIEbiF6tEUAAQQQQKB6AQK36mtADxBAAIGyBLwCt7I604vXJXDrxarRZwTqIUDgVo86MgoEEEAAgeYKELg1t/aMHAEE6i9A4BZYYwK3QECaI4CAtwCBmzcdDRFAAAEEEIhCgMAtijLQCQQQQKAUAQK3QFYCt0BAmiOAgLcAgZs3HQ0RQAABBBCIQoDALYoy0AkEEECgFAECt0BWArdAQJojgIC3AIGbNx0NEUAAAQQQiEKAwC2KMtAJBBBAoBQBArdAVgK3QECaI4CAtwCBmzcdDRFAAAEEEIhCgMAtijLQCQQQQKAUAQK3QFYCt0BAmiOAgLcAgZs3HQ0RQAABBBCIQoDALYoy0AkEEECgFAECt0BWArdAQJojgIC3AIGbNx0NEUAAAQQQiEKAwC2KMtAJBBBAoBQBArdAVgK3QECaI4CAtwCBmzcdDRFAAAEEEIhCgMAtijLQCQQQQKAUAQK3QFYCt0BAmiOAgLcAgZs3HQ0RQAABBBCIQoDALYoy0AkEEECgFAECt0BWArdAQJojgIC3AIGbNx0NEUAAAQQQiEKAwC2KMtAJBBBAoBQBArdAVgK3QECaI4CAtwCBmzcdDRFAAAEEEIhCgMAtijLQCQQQQKAUAQK3QFYCt0BAmiOAgLcAgZs3HQ0RQAABBBCIQoDALYoy0AkEEECgFAECt0BWArdAQJojgIC3AIGbNx0NEUAAAQQQiEKAwC2KMtAJBBBAoBQBArdAVgK3QECaI4CAtwCBmzcdDRFAAAEEEIhCgMAtijLQCQQQQKAUAQK3QFYCt0BAmiOAgLcAgZs3HQ0RQAABBBCIQoDALYoy0AkEEECgFAECt0BWArdAQJojgIC3AIGbNx0NEUAAAQQQiEKAwC2KMtAJBBBAoBQBArdAVgK3QECaI4CAtwCBmzcdDRFAAAEEEIhCgMAtijLQCQQQQKAUAQK3QFYCt0BAmiOAgLcAgZs3HQ0RQAABBBCIQoDALYoy0AkEEECgFAECt0BWArdAQJojgIC3AIGbNx0NEUAAAQQQiEKAwC2KMtAJBBBAoBQBArdAVgK3QECaI4CAtwCBmzcdDRFAAAEEEIhCgMAtijLQCQQQQKAUgcYFbqvuX6+2/OQVtXp4iRo/bmyCunfffrV44C710rbtyfcP3T2gZpx1Wgv8sY2b1M0r1yXfz5szU91645Wqr2908j2BWynzkosigEAOAQK3HEi8BAEEEEAAgYgFCNwiLg5dQwABBAIFGhW4Sdi27pEN6szp01qB24EDh9QtdzyoZp5zurp47iy1481danD4ATU0cJWaOqVfbXnxFbXq3vWt18s15GvpovkEboGTj+YIIBAmQOAW5kdrBBBAAAEEqhYgcKu6AtwfAQQQKE+gMYGbrFJ74xdvqVnnndEWoEnAdvuaR9XQ8oXJijc7gJOA7eQTJyVhnHzZARwr3MqbnFwZAQSyBQjcmCEIIIAAAgj0tgCBW2/Xj94jgAACWQKNCNwkbNv8/NZkK+jLr+5oC9zsAE2w9Cq2xV+/qG31m/zMXgFH4MYbDAEEqhIgcKtKnvsigAACCCDQHQECt+44chUEEEAgRoHaB24SqK1//JnWuWt2wGb/3BW4zb9wdutMNztw+92B38dYV/qEAAINEHj9Zx+o1WuPVocOxT3Yb179gfr01GPi7iS9QwABBBBAoAKBj/Xx92MF7NwSAQQQGBGB2gdu5gMPTFF9jttrb+xsW/HmCtz0+W7yMztw2/e790ekUNwEAQQQsAV+tvOwWtMDgdvfXf2BmjplFAVEAAEEEEAAAUtg3Mc+ggkCCCCAQE0Fah+42XWzV7hxhltNZzbDQqABAmwpbUCRGSICCCCAQK0F2FJa6/IyOAQQaLhA4wM3nlLa8HcAw0eghwUI3Hq4eHQdAQQQQAABpRSBG9MAAQQQqK9A4wM3Ke3effvV4oG71EvbtieVfujugdaZbfK9uS113pyZrfPg5Gc8NKG+bw5GhkDsAgRusVeI/iEw8gIHDii1b99RI39jjztOnPihRyuaIFAvAQK3etWT0SCAAAKmQOMCt26Xn8Ct26JcDwEE8goQuOWV4nUINEdAArfvrR+ltr8ed+j2pS8cVl+afbg5hWGkCKQIELgxNRBAAIH6ChC4BdaWwC0QkOYIIOAtQODmTUdDBGorQOBW29IysJoKELjVtLAMCwEEEFBKEbgFTgMCt0BAmiOAgLcAgZs3HQ0RqK0AgVttS8vA/v/27j/osrKwD/jD8msX3V1gFclKK2Ki2A1RySDrWBTCTom7YWBo11LJRMNPpe2EQUrXnYG2OLPZIlJtZ0DRNWorY9wOI0NBnUqCpZmsoTFoYjGJEK24gwSCsgGXBd7tPHfnvJz37L33Pe95zr333Od+9h/lved5zvN8nufce+73PuecTAUEbpkOrG4RIEBA4JY+BwRu6YZqIECgmYDArZmbUgRyFhC45Ty6+pajgMAtx1HVJwIECBwQsMItcSYI3BIBFSdAoLGAwK0xnYIEshUQuGU7tDqWqYDALdOB1S0CBAgI3NLngMAt3VANBAg0ExC4NXNTikDOAgK3nEdX33IUELjlOKr6RIAAgQMCVrglzoRxBW4/erTbTxsrGFevCmHVqv2JqooTIFBHQOBWR8k2BGZLQOA2W+Ott9MvIHCb/jHUAwIECAwSELglzo1xBW5/+q1l4c7/sSyxtaMt/gvH7w8XXTgncBsts9oJzAsI3EwGAgSqAgI3c4LAdAkI3KZrvLSWAAECSxEQuC1Fq8+2AreXUARuiZNJcQJLFBC4LRHM5gRmQEDgNgODrItZCQjcshpOnSFAgMACAYFb4oQQuAncEqeQ4gQaCwjcGtMpSCBbAYFbtkOrY5kKCNwyHVjdIkCAgHu4pc8BgZvALX0WqYFAMwGBWzM3pQjkLCBwy3l09S1HAYFbjqOqTwQIEDggYIVb4kwQuAncEqeQ4gQaCwjcGtMpSCBbAYFbtkOrY5kKCNwyHVjdIkCAgMAtfQ4I3ARu6bNIDQSaCQjcmrkpRSBnAYFbzqOrbzkKCNxyHFV9IkCAwAEBK9wSZ4LATeCWOIUUJ9BYQODWmE5BAtkKCNyyHVody1RA4JbpwOoWAQIEBG7pc0DgJnBLn0VqINBMQODWzE0pAjkLCNxyHl19y1FA4JbjqOoTAQIEDghY4ZY4EwRuArfEKaQ4gcYCArfGdAoSyFZA4Jbt0OpYpgICt0wHVrcIECAgcEufAwI3gVv6LFIDgWYCArdmbkoRyFlA4Jbz6OpbjgICtxxHVZ8IECBwQMAKt8SZIHATuCVOIcUJNBYQuDWmU5BAtgICt2yHVscyFRC4ZTqwukWAAAGBW/ocELgJ3NJnkRoINBMQuDVzU4pAzgICt5xHV99yFBC45Tiq+kSAAIEDAla4Jc4EgZvALXEKKU6gsYDArTGdggSyFRC4ZTu0OpapgMAt04HVLQIECAjc0ueAwE3glj6L1ECgmYDArZmbUgRyFhC45Ty6+pajgMAtx1HVJwIECBwQsMItcSYI3ARuiVNIcQKNBQRujekUJJCtgMAt26HVsUwFBG6ZDqxuESBAQOCWPgcEbgK39FmkBgLNBARuzdyUIpCzgMAt59HVtxwFBG45jqo+ESBA4ICAFW6JM0HgJnBLnEKKE2gsIHBrTKcggWwFBG7ZDq2OZSogcMt0YHWLAAECArf0OSBwE7ilzyI1EGgmIHBr5qYUgZwFBG45j66+5SggcMtxVPWJAAECBwSscEucCQI3gVviFFKcQGMBgVtjOgUJZCsgcMt2aHUsUwGBW6YDq1sECBAQuKXPAYGbwC19FqmBQDMBgVszN6UI5CwgcMt5dPUtRwGBW46jqk8ECBA4IGCFW+JMELgJ3BKnkOIEGgsI3BrTKUggWwGBW7ZDq2OZCgjcMh1Y3SJAgIDALX0OCNwEbumzSA0EmgkI3Jq5KUUgZwGBW86jq285CgjcchxVfSJAgMABASvcEmeCwE3gljiFFCfQWEDg1phOQQLZCgjcsh1aHctUQOCW6cDqFgECBARu6XNA4CZwS59FaiDQTEDg1sxNKQI5Cwjcch5dfctRQOCW46jqEwECBA4IWOGWOBMEbgK3xCmkOIHGAgK3xnQKEshWQOCW7dDqWKYCArdMB1a3CBAgIHBLnwMCN4Fb+ixSA4FmAgK3Zm5KEchZQOCW8+jqW44CArccR1WfCBAgcEBgJla43XzbzrDj9rvnx/zD114SLth4xvx/P/WzPeHKLR8L33no4d7fPvvxLeG0N508//od99wfrrtxR++/N21YH2645uKwfPkRvf8WuAncvJkQmJSAwG1S8vZLoLsCArfujo2WEegnIHAzLwgQIJCvQPaB2969+8Itn78z/PY///VwzOqV4ZEf7g5XXPvRsG3rZb1QLb5+/U2fCetPXdcL4eLrW7d/Omzbcmk46TVrwwPf/l64+RM7wy3br+qVj+Fd/Hf15ZsFbpXj4heO3x8uunAurFq1P98jRs8IdEhA4NahwdAUAh0RELh1ZCA0g0BNAYFbTSibESBAYAoFsg/cqmPSL2D7yK1fDNs+dFkvUKu+HgO2E084fn5FXDWAs8LtJWGB2xS+A2jyVAsI3KZ6+DSewEgEBG4jYVUpgZEJCNxGRqtiAgQITFxg5gK34vLRq9+/ubfCrRqgxREpVrFd+VvnLVj9Fl+rroATuAncJn4Ua8DMCgjc2h36v9r30/Dd5/+u3UpHUNu6w48Nrz/i6BHUrMocBARuOYyiPsySgMBtlkZbXwkQmDWBmQvcqpeExsBt5133LbgvWzVw23zumfP3dKsGbn//8xdGPmfm5vaH//XHc+HLdy0b+b5SdhBXuP32b4Zw3Cu63c6UPipLoEsCP/jRi+GWTy0L+/Z1qVUHt+VfXvFi+KXXHtbtRoYQ/uzpJ8KZj345zIXuXha/LBwS7jvh/PCWVa/ovKcGTkbg6T1z4XO3h/Dw3xwymQbU3OuvvXMubPony8Khh3a7nTW7YzMCjQVevqL7n4+NO6cgAQIEZlxgpgK3GKQ99viTC8K11BVuTz/7/MinUAzc/veu/VMRuL3vN/eHV64RuI18UtgBgRDC/3t0bmoCt9edeGjnx+zBPU+Gs6YgcPvDE84Pb165pvOeGjgZgT1/Pxc+f/shnQ/cznrHXNh4ziHh0GUCt8nMFHvtisCqow7vSlO0gwABAgRaFpiZwK1f2BYt44o193BrZ1a5h1s7jmohUFfAJaV1peptFy8pPXv3nZ1f4Xbv2vNcUlpvSGdyK5eUzuSw6/QUC7ikdIoHT9MJECCwiMBMBG7Vy0jLJp5S2t4xInBrz1JNBOoICNzqKNXfRuBW38qW3RUQuHV3bLSMQD8BgZt5QYAAgXwFsg/ciockfOehhxeM4qYN6+cvLa1u89mPb5m/Z1ssdMc994frbtzRK18uF//bQxNeYhW45ftGoWfdFBC4tTsuArd2PdU2GQGB22Tc7ZVAUwGBW1M55QgQINB9gewDt1EPgcBN4DbqOaZ+AoMEBG7tzg2BW7ueapuMgMBtMu72SqCpgMCtqZxyBAgQ6L6AwC1xjARuArfEKaQ4gcYCArfGdH0LCtza9VTbZAQEbpNxt1cCTQUEbk3llCNAgED3BQRuiWMkcBO4JU4hxQk0FhC4NaYTuLVLp7YOCQjcOjQYmkKghoDArQaSTQgQIDClAgK3xIETuAncEqeQ4gQaCwjcGtMJ3NqlU1uHBARuHRoMTSFQQ0DgVgPJJgQIEJhSAYFb4sAJ3ARuiVNIcQKNBQRujekEbu3Sqa1DAgK3Dg2GphCoISBwq4FkEwIECEypgMAtceAEbgK3xCmkOIHGAgK3xnQCt3bp1NYhAYFbhwZDUwjUEBC41UCyCQECBKZUQOCWOHACN4Fb4hRSnEBjAYFbYzqBW7t0auuQgMCtQ4OhKQRqCAjcaiDZhAABAlMqIHBLHDiBm8AtcQopTqCxgMCtMZ3ArV06tXVIQODWocHQFAI1BARuNZBsQoAAgSkVELglDpzATeCWOIUUJ9BYQODWmE7g1i6d2jokIHDr0GBoCoEaAgK3Gkg2IUCAwJQKCNwSB07gJnBLnEKKE2gsIHBrTCdwa5dObR0SELh1aDA0hUANAYFbDSSbECBAYEoFBG6JAydwE7glTiHFCTQWELg1phO4tUuntg4JCNw6NBiaQqCGgMCtBpJNCBAgMKUCArfEgRO4CdwSp5DiBBoLCNwa0wnc2qVTW4cEBG4dGgxNIVBDQOBWA8kmBAgQmFIBgVviwAncBG6JU0hxAo0FBG6N6QRu7dKprUMCArcODYamEKghIHCrgWQTAgQITKmAwC1x4ARuArfEKaQ4gcYCArfGdAK3dunU1iEBgVuHBkNTCNQQELjVQLIJAQIEplRA4JY4cAI3gVviFFKcQGMBgVtjOoFbu3Rq65CAwK1Dg6EpBGoICNxqINmEAAECUyogcEscOIGbwC1xCilOoLGAwK0xncCtXTq1dUhA4NahwdAUAjUEBG41kGxCgACBKRUQuCUOnMBN4JY4hRQn0FhA4NaYTuDWLp3aOiQgcOvQYGgKgRoCArcaSDYhQIDAlAoI3BIHTuAmcEucQooTaCwgcGtMJ3Brl05tHRIQuHVoMDSFQA0BgVsNJJsQIEBgSgUEbokDJ3ATuCVOIcUJNBYQuDWmE7i1S6e2DgkI3Do0GJpCoIaAwK0Gkk0IECAwpQICt8SBE7gJ3BKnkOIEGgsI3BrTCdzapVNbhwQEbh0aDE0hUENA4FYDySYECBCYUgGBW+LACdwEbolTSHECjQUEbo3pBG7t0qmtQwICtw4NhqYQqCEgcKuBZBMCBAhMqYDALXHgBG4Ct8QppDiBxgICt8Z0Ard26dTWIQGBW4cGQ1MI1BAQuNVAsgkBAgSmVEDgljhwAjeBW+IUUpxAY4FpCdyu+lcvhmOP3d+4n+Mq+Ff7fhrO3n1nmAvdbeuycEi4d+23hLnrAAAYe0lEQVR54fVHHD0uFvuZMgGB25QNmObOvIDAbeanAAACBDIWELglDq7ATeCWOIUUJ9BYYFoCt3/3vofDij++q3E/x1XwL859dzj78a8I3MYFbj8jERC4jYRVpQRGJiBwGxmtigkQIDBxAYFb4hAI3ARuiVNIcQKNBaYpcFv5kQ+E8MLzjfs6joIPfvQLArdxQNvHSAUEbiPlVTmB1gUEbq2TqpAAAQKdERC4JQ6FwE3gljiFFCfQWEDg1piub0GBW7ueapuMgMBtMu72SqCpgMCtqZxyBAgQ6L6AwC1xjARuArfEKaQ4gcYCArfGdAK3dunU1iEBgVuHBkNTCNQQELjVQLIJAQIEplRA4JY4cAI3gVviFFKcQGMBgVtjOoFbu3Rq65CAwK1Dg6EpBGoICNxqINmEAAECUyogcEscOIGbwC1xCilOoLGAwK0xncCtXTq1dUhA4NahwdAUAjUEBG41kGxCgACBKRUQuCUOnMBN4JY4hRQn0FhA4NaYTuDWLp3aOiQgcOvQYGgKgRoCArcaSDYhQIDAlAoI3BIHTuAmcEucQooTaCwgcGtMJ3Brl05tHRIQuHVoMDSFQA0BgVsNJJsQIEBgSgUEbokDJ3B7CfCUX54LF6x/NBx+2P5E1dEX33/k8rB/9ZrR78geCIxQQODWLq6nlLbrqbbJCAjcJuNurwSaCgjcmsopR4AAge4LCNwSx0jgtjBwu/DYO8MRX/9Soupoi+9feXR47v3/XuA2Wma1j0FA4NYussCtXU+1TUZA4Nau+5Mv7g23Pf1/2610BLUde+iR4YpV60ZQsypHLSBwG7Ww+gkQIDA5AYFbDfs77rk/XHfjjt6WmzasDzdcc3FYvvyI3n8L3A4O3I78/f9cQ3Vym8ydeLLAbXL89tyigMCtRcwQgsCtXU+1TUZA4NauewzcLn38D8KfPPd4uxW3XNv1x54mcGvZdFzVCdzGJW0/BAgQGL+AwG0R8we+/b1w8yd2hlu2XxWOWb0y3Hzbzl6Jqy/fLHCr2MVLSuMKN4Hb+A9ke5xNAYFbu+MucGvXU22TERC4tesucGvXU20HCwjczAoCBAjkKyBwW2RsY8B24gnHhws2ntHbshrAWeH2EuC0BG4vvO2c8Pw/vTzsf9mqfI9sPZsJAYFbu8MscGvXU22TERC4tesucGvXU20CN3OAAAECsyQgcBsy2nv37gvX3/SZsP7UdfOB2yM/3B22bv902Lbl0nDSa9a6pLTkN02B2y3nvSs8Mfdcp4/1Ew57eTjzT98Q5vYu63Q7Y+PWnjEXDntZ9x+W0XnIJTZQ4LZEsEU2n4bA7bCwLHzz+M3huENXtNv5EdW27PARVazagQLTEridc/ZcePvb5zo/kgK3zg/R1DfQCrepH0IdIECAwEABgVuNwG3zuWeG0950cm/LauA2jrn1/Atz4X9+44Xwl98fx96a7+OYo/eHjYfdGQ796webVzKGkvtf+epw61mnh/+z74kx7K35Ln7x8NXhwgdPDc/sPqR5JWMoedRx+8NJ73g2LF/R/WBw2ZErwlErDtx/MYd/D31/X/jqvd3vyebTHwkrvvr5zjf0Ly56f7jpme92up3x3eA/vviO8HcPHNbtdi4L4cR3PBtWHd3994Ww7NDw8lUv77TnUhr3xFMvhP/6pe4HWW/95WfD61fvDsu6/REXfnLUUeHfPvfQUoZgItuetvy48KET3hIOP2wKjrmJCNkpAQIECBAYv4DAbYh5nRVu4x8yeyRAgAABAgQIECBAgAABAgQIEOiygMBtkdFZ7B5uXR5cbSNAgAABAgQIECBAgAABAgQIEBi/gMBtEfPFnlI6/iGzRwIECBAgQIAAAQIECBAgQIAAgS4LCNxqjM4d99wfrrtxR2/LTRvWhxuuuTgsX57PfaBqEMz8Jv0uL54USryP4BXXfjRs23rZ/L0Fh7UlrtKM/66+fPOkmmy/BGZeoHgPiRA+Q2Z+OgDoIzDss+qpn+0JV275WLj6/Ztrfe4tBlz9MXWx7Qe93lY9TfffpXIsujQa2kKAAAECXREQuHVlJGasHeUQs+j6Je/Z1JlQKLZv17e+O//FuBq4VV9vc/iGfbGI7fjIrV8MF12wofeU3Dr/BG51lGwzqwLxS+L7fmf7fPfXvmpN+OSNH6x9fNV1i/u5/5t/3pn3uLrtth2BNgT6hTHVz7ppD9yiU2ooWJh856GH59m7+ENvv/MUgVsbR4o6CBAgQCA3AYFbbiM6Jf0ZFGjF5ndh9cdigdpir6cMQ9u/5Ke0RVkCuQtUvyTG/9667VMjCd1yt9Q/AoME6gRuw/Ta/lwcRTiU2sZBK+lv+293hQ1n/GrrPwKkzNbUvqbsW1kCBAgQIDBNAgK3aRqtjNraL7Dqd7JZXn3yK298Xbhl+1XhmNUrQ1F+5cuOCl+88w9CXB13/jlvD1u3fzqse/2Jvb/Ff/HvZ5x+yvwKlvIquuLSzN0/eXJ+23jZZfXvcb83/4crw3+6bWdYf+q68OZ1r+td0lmUq7ar7uXH8df8Hbff3dt3eVVN+e/xtQ9fe0m4YOMZC9pV3r448Y2/gn/uS1/ttav8i3h11UD1F/Si/uqqw89+fEsrl+5kNG11JUOB6hfv4n1o87ln9ub/oOO0ehyVj5d+708nnnB8Ty8ey/HfoHrja8OORbc4yHASzkCX6gRu1c+q6mdxZCqOs7jtM8/8POx55tlw99d39T4nq5/N1VXz1eOq/NldHPexrvLn7mKfr+V+/d7vf3X+M71fHcWqtUGfrbG/8Rxm25ZLB4ZrVaO4/5133df7oXL3T57olf+NDW8Lv/tfvrDgvKZ4z4n/W9xeolz2588911udV5xHxO3iSt8vf+2Pap+n/INXvzLc/ImdvfO0P/yjBxdcJVDdv/ONGTjodZEAAQIEegICNxNhIgKDVoiV//7nf/nIgpUm8bUfPPpY72SxOFkrn7gWJ+cfeO/5CwKqd529vlemejL7tfseCL/02lf3Tmyr90VrcklpLBNPfItQsPqE2zJ0PIm/595v9i4NLU5EH3v8yd5Jc3HiW75XTfXX5PIqnGOOXtk7UY4nu7F8/Hf9TZ/phYPxy335BL2oJ4YJ8bX4JeMbu74d3rn+TeG/3/2N8M82vbN3f8JqXyYySeyUwBgEqkFA+ViLuy++zMbjIm4b/53yhpMWHGP93j9i8F4N4WLZeNwNO/7jl+Z42fi2D13W+3Eh1v3Xf/PjcM6Zpx10XA57jxkDnV0QqC2w1MCt+lnV7/LTr9y7a8FK1GGf6dWVq+X2rDjyyN7xfPxxa3rnCnFfW3/3U+HffODCsNjna7meiFG9pLTaj3g8l4/v6nlB+bO8372CFwvc4o+BxTnPYpfs9gvcivOIuO+lnqdULQrDeI5VNl37qlc436h95NiQAAECBKZdQOA27SM4pe0fFLiVTwBv+fydvd4Vv8aWT1T7/XpaDdSqJ5uL3RutHFItNXAbtDqv/GV92FAtdtI+aBVODNXOevubDzrJL7e/7Fj3Mpo6v7RP6dTTbAILBKrHRDlsju8z5RC9KNjv+Ch/Ee73/hb/VgRu1SEot+H7P/hx30taU99jDDuBSQpU75VYbkt51VrxmT8sCC9WnpbPD6p9qx4v/YKqYjXWUz/dc9DKsiLM7vf5Wg66m352Fytoq+3udw+3YhV63HaxwK26Qq68/bCy/X7oG/Y+1S9crI5Z1WnQ+ZDzjUkemfZNgAABAqMWELiNWlj9fQXqrHCLQVFxyWVRSXEJSBuBW/USkriP8uWVS3loQr+6Yn3DbnZc/QJS9G3QiWz1ZHXYF4JBwWX579Vfz6uX74zq5vEOCQJdEhh0HMbVZcUX3OJ9qDieq6vQ4nbVFbjl94/i9fi/xSWlw/ZbvtyqeF8oVuEUl7wVhl28oXqXxldbuiGw1BVu1c+qxVZrxV4O+0yvrgYttycGbuXbRBRi8XygjcCt/FCWou66t2wo3if6hZKxrn6XlJYvSS2/LzUJ3JZ6nlKEmPH9s3oeEi+rL97/nG9047jUCgIECBAYvYDAbfTG9tBHoM493IZdLtWv/FJWuBWXhBWXkCz2FNK6rw/61bpKMOzylkGBW/lEttyeNla4VS+J84uzw3ZWBOqu+iwfc/FeUcNWkiy2wm3Y8V8EfYV/8SX5yt86r3fZW933mFkZP/2cDoEmgVv5M2+xwK04Pgd9pi+2wm2xyzzLt3hY6gq3uivd+41knZV61Xu4lQO3lBVuqecpxWWkF/+Ljb2Vwh/61xfNXyYfA85tWy/r3SfT+cZ0HMNaSYAAAQLNBARuzdyUShSo85TS6sle3OUX7vh62Hj26X1vyNskcCvuc1a9z8qwSzjjL7T9vjxU73sWT5TL90Urkw27jK1YyVK0LZbr177iSYrFPWaKLwTDvpj0uy9OvJfc2371Hy0IEPrZJw654gQ6KTAscCvfE6r8xXfjr52+4J5Pi90DMna8fEnpsOM/XlIa/8UvovFf9VLV8iWuw95jOomtUTMrsNTArd99S+NKsUErvarB1GKf6fG4euDPvte752r1Hm5xkIp7J771LScfdMuGQYFbnc/uWHe0KB/jxaSI+4znOPHeccUK9Op5TfncKZaLIXz8V35oQhG4LaVsv0tKl3qeMui86Gv3/Ul4wy/+wwW3Byn/YOF8Y2bfFnScAAECMyEgcJuJYe5eJ6tPqIotrD5RrDgxLV+OUWyTusItfpktXyoRL59cc+zq8O5zz5p/mEA8kY2Xb1WfUlo8bKD8evnpqcVTSmP7y/deKY9C9dKXf/zWU8LTe56df+BCuW11n1JaPAGtut/FnvxW1F9+auIpbzyp19xhT0vr3qzSIgJLFxgWuFUvpyq/R9V5Smn8Elx8cS4HbsOO/+rlbdVLRqvvnYPeY5YuoQSB0QksNXCrfv7H4+BHP/7bUPywVP1cq25f/UyPr5c/4+KxXARucVVp9ZgsbqlQ/UGrqKe4PLLar36f3dX3ivLTUYedF8TXqrd2KLczvvbed/96iJ/9ReBWvTS2fOnqsLL9ArelnqeUn1JarNSt/hhR9Nf5xuiONTUTIECAQLcEBG7dGg+tIbBkgWEPg1hyZQoQIECAAAECUyfg0sypGzINJkCAAIEZEBC4zcAg62LeAgK3vMdX7wgQIECAwGICArfFhLxOgAABAgTGLyBwG7+5PRIgQIAAAQIECBAgQIAAAQIECGQsIHDLeHB1jQABAgQIECBAgAABAgQIECBAYPwCArfxm9sjAQIECBAgQIAAAQIECBAgQIBAxgICt4wHV9cIECBAgAABAgQIECBAgAABAgTGLyBwG7+5PRIgQIAAAQIECBAgQIAAAQIECGQsIHDLeHB1jQABAgQIECBAgAABAgQIECBAYPwCArfxm9sjAQIECBAgQIAAAQIECBAgQIBAxgICt4wHV9cIECBAgAABAgQIECBAgAABAgTGLyBwG7+5PRIgQIAAAQIECBAgQIAAAQIECGQsIHDLeHB1jQABAgQIECBAgAABAgQIECBAYPwCArfxm9sjAQIECBAgQIAAAQIECBAgQIBAxgICt4wHV9cIECBAgAABAgQIECBAgAABAgTGLyBwG7+5PRIgQIAAAQIECBAgQIAAAQIECGQsIHDLeHB1jQABAgQIECBAgAABAgQIECBAYPwCArfxm9sjAQIECBAgQIAAAQIECBAgQIBAxgICt4wHV9cIECBAgAABAgQIECBAgAABAgTGLyBwG7+5PRIgQIBAiwIPfPt74X2/s31Bjb/yxteFW7Zf1fvblVs+Fr7z0MO9/1/8/ZjVK8PNt+0MO26/e0G5ta9aEz554wfDSa9Z26iF/erctGF9uOGai8Py5UeE2Nat2z510D6e+tmeXjs3n3tmuGDjGfP7Lv5etD++cMl7NoWrL988v83evfvC9Td9Jtz99V0L2lxs16+OaueqdTbqvEIECBAgQIAAAQIECMwLCNxMBgIECBCYWoEYcH3l3l0HBVh33HN/+MGjj/WCqSKQOv64NQuCqlj2scefnA/DIkIR3i01gCr2EesowrX4/+PfP3LrF8NFF2zohXhLCdyKtnz42kvmQ7hiPz/68d/2AsUYHPbrXxGynfaWkxf0uejjzZ/YOV9+agdfwwkQIECAAAECBAh0WEDg1uHB0TQCBAgQGCwwKLyqllhK4BbLPvLD3eGKaz8aPvDe8xesNhs2FkWZbVsvC6e96eSBm9YN3Aa1OVZcXQ03aNsYOu761ncXBIACN0cUAQIECBAgQIAAgfEICNzG42wvBAgQINCyQL8Vav12sdTALdZRt+5if4MuCa22p27gFgO8rds/HbZtubTv5a3lMC3uI15SWmcFn8Ct5UmoOgIECBAgQIAAAQIDBARupgYBAgQITJ3AsBVg1c40CdxioLXzrvuWdNllLHPdjTvmd1++d1vxx373myu3t7h8dLHVe+X2rTjyyIMCt2Er7mLdLimduimvwQQIECBAgAABAlMmIHCbsgHTXAIECBA4cG+0fqu6+tmMK3Ar9l19SEH5QQ11V7g1CdzKD00o77NqInBzBBEgQIAAAQIECBAYvYDAbfTG9kCAAAECIxCoe9lnk8Ctbt2Ldat6qWndwC3lktJiddu7zl5/0AMTYnsFbouNmtcJECBAgAABAgQIpAsI3NIN1UCAAAECExAYtgosBl333PvN3tNBlxq41X0AQrnLsczP9z4X1r3htQskin2vP3Vd7wEMdQO31Icm9HvCadEwgdsEJqtdEiBAgAABAgQIzJyAwG3mhlyHCRAgkI9AXIn2lXt3hU/e+MH5hwtUV3gtJXArgqpL3rOp7+qwQXKDVpXFe63d+rkvz7evbuAW99MvNCv6El+/4ZqLw/LlRwwMFIt7yn3241sWPDlV4JbP/NcTAgQIECBAgACB7goI3Lo7NlpGgAABAjUE+j2IoHj4wLD7qcWwbsftdy/Yw9pXrVkQ3tXY/fwmRei2+ydPzv+tei+1pQRusZJq++PfqmHgsNVwRehWeBRBnocmLGVkbUuAAAECBAgQIEBg6QICt6WbKUGAAAECBAgQIECAAAECBAgQIEBgoIDAzeQgQIAAAQIDBPqtWqtuumnD+vnLO0ESIECAAAECBAgQIEAgCgjczAMCBAgQIECAAAECBAgQIECAAAECLQoI3FrEVBUBAgQIECBAgAABAgQIECBAgAABgZs5QIAAAQIECBAgQIAAAQIECBAgQKBFAYFbi5iqIkCAAAECBAgQIECAAAECBAgQICBwMwcIECBAgAABAgQIECBAgAABAgQItCggcGsRU1UECBAgQIAAAQIECBAgQIAAAQIEBG7mAAECBAgQIECAAAECBAgQIECAAIEWBQRuLWKqigABAgQIECBAgAABAgQIECBAgIDAzRwgQIAAAQIECBAgQIAAAQIECBAg0KKAwK1FTFURIECAAAECBAgQIECAAAECBAgQELiZAwQIECBAgAABAgQIECBAgAABAgRaFBC4tYipKgIECBAgQIAAAQIECBAgQIAAAQICN3OAAAECBAgQIECAAAECBAgQIECAQIsCArcWMVVFgAABAgQIECBAgAABAgQIECBAQOBmDhAgQIAAAQIECBAgQIAAAQIECBBoUUDg1iKmqggQIECAAAECBAgQIECAAAECBAgI3MwBAgQIECBAgAABAgQIECBAgAABAi0KCNxaxFQVAQIECBAgQIAAAQIECBAgQIAAAYGbOUCAAAECBAgQIECAAAECBAgQIECgRQGBW4uYqiJAgAABAgQIECBAgAABAgQIECAgcDMHCBAgQIAAAQIECBAgQIAAAQIECLQoIHBrEVNVBAgQIECAAAECBAgQIECAAAECBARu5gABAgQIECBAgAABAgQIECBAgACBFgUEbi1iqooAAQIECBAgQIAAAQIECBAgQICAwM0cIECAAAECBAgQIECAAAECBAgQINCigMCtRUxVESBAgAABAgQIECBAgAABAgQIEBC4mQMECBAgQIAAAQIECBAgQIAAAQIEWhQQuLWIqSoCBAgQIECAAAECBAgQIECAAAECAjdzgAABAgQIECBAgAABAgQIECBAgECLAgK3FjFVRYAAAQIECBAgQIAAAQIECBAgQEDgZg4QIECAAAECBAgQIECAAAECBAgQaFFA4NYipqoIECBAgAABAgQIECBAgAABAgQICNzMAQIECBAgQIAAAQIECBAgQIAAAQItCgjcWsRUFQECBAgQIECAAAECBAgQIECAAAGBmzlAgAABAgQIECBAgAABAgQIECBAoEUBgVuLmKoiQIAAAQIECBAgQIAAAQIECBAgIHAzBwgQIECAAAECBAgQIECAAAECBAi0KPD/AQCDzQBnM5/lAAAAAElFTkSuQmCC)"
      ]
    },
    {
      "cell_type": "markdown",
      "metadata": {
        "id": "6JTXPVKz2tn2"
      },
      "source": [
        "### INSS - BENEFÍCIOS INDEFERIDOS###\n",
        "**Não há nenhum campo na tabela de benefícios indeferidos que possa relacionar o registro com o tipo/CID de doença. Logo, infelizmente, não é possível gerar conhecimento sobre benefícios indeferidos que foram solicitados devido ao CID de Dermatite Atópica ou outros doenças crônicas de pele**"
      ]
    },
    {
      "cell_type": "code",
      "metadata": {
        "id": "bCUo9dBE2zFA"
      },
      "source": [
        "# Create dataframe\n",
        "file_path = Path('data/inss_beneficios/INSS_beneficios_indeferidos.parquet')\n",
        "df_indeferidos = pd.read_parquet(file_path, engine='pyarrow')"
      ],
      "execution_count": null,
      "outputs": []
    },
    {
      "cell_type": "code",
      "metadata": {
        "id": "Of9TWiLo3CDd",
        "colab": {
          "base_uri": "https://localhost:8080/"
        },
        "outputId": "ff60c081-a2fe-4fa9-c268-f6283f376356"
      },
      "source": [
        "df_indeferidos.info()"
      ],
      "execution_count": null,
      "outputs": [
        {
          "output_type": "stream",
          "name": "stdout",
          "text": [
            "<class 'pandas.core.frame.DataFrame'>\n",
            "Int64Index: 10274832 entries, 0 to 373459\n",
            "Data columns (total 9 columns):\n",
            " #   Column                     Dtype \n",
            "---  ------                     ----- \n",
            " 0   Competência indeferimento  object\n",
            " 1   Espécie                    object\n",
            " 2   Motivo Indeferimento       object\n",
            " 3   Dt Nascimento              object\n",
            " 4   Sexo.                      object\n",
            " 5   Clientela                  object\n",
            " 6   Forma Filiação             object\n",
            " 7   UF                         object\n",
            " 8   Dt Indeferimento           object\n",
            "dtypes: object(9)\n",
            "memory usage: 783.9+ MB\n"
          ]
        }
      ]
    },
    {
      "cell_type": "code",
      "metadata": {
        "id": "NITtUVAw3sw9",
        "colab": {
          "base_uri": "https://localhost:8080/"
        },
        "outputId": "c7b225e5-7fca-4cac-a4bf-cafb593083dd"
      },
      "source": [
        "df_indeferidos.head()"
      ],
      "execution_count": null,
      "outputs": [
        {
          "output_type": "execute_result",
          "data": {
            "text/html": [
              "<div>\n",
              "<style scoped>\n",
              "    .dataframe tbody tr th:only-of-type {\n",
              "        vertical-align: middle;\n",
              "    }\n",
              "\n",
              "    .dataframe tbody tr th {\n",
              "        vertical-align: top;\n",
              "    }\n",
              "\n",
              "    .dataframe thead th {\n",
              "        text-align: right;\n",
              "    }\n",
              "</style>\n",
              "<table border=\"1\" class=\"dataframe\">\n",
              "  <thead>\n",
              "    <tr style=\"text-align: right;\">\n",
              "      <th></th>\n",
              "      <th>Competência indeferimento</th>\n",
              "      <th>Espécie</th>\n",
              "      <th>Motivo Indeferimento</th>\n",
              "      <th>Dt Nascimento</th>\n",
              "      <th>Sexo.</th>\n",
              "      <th>Clientela</th>\n",
              "      <th>Forma Filiação</th>\n",
              "      <th>UF</th>\n",
              "      <th>Dt Indeferimento</th>\n",
              "    </tr>\n",
              "  </thead>\n",
              "  <tbody>\n",
              "    <tr>\n",
              "      <th>0</th>\n",
              "      <td>201901</td>\n",
              "      <td>Aposentadoria por Tempo de Contribuição</td>\n",
              "      <td>Falta Tempo Contrib Ativs nos Dss8030 e Laudos...</td>\n",
              "      <td>02/05/1963</td>\n",
              "      <td>Feminino</td>\n",
              "      <td>Urbano</td>\n",
              "      <td>Desempregado</td>\n",
              "      <td>Alagoas</td>\n",
              "      <td>02/01/2019</td>\n",
              "    </tr>\n",
              "    <tr>\n",
              "      <th>1</th>\n",
              "      <td>201901</td>\n",
              "      <td>Aposentadoria por Tempo de Contribuição</td>\n",
              "      <td>Falta Tempo Contrib Ativs nos Dss8030 e Laudos...</td>\n",
              "      <td>12/07/1967</td>\n",
              "      <td>Masculino</td>\n",
              "      <td>Urbano</td>\n",
              "      <td>Desempregado</td>\n",
              "      <td>Alagoas</td>\n",
              "      <td>02/01/2019</td>\n",
              "    </tr>\n",
              "    <tr>\n",
              "      <th>2</th>\n",
              "      <td>201901</td>\n",
              "      <td>Aposentadoria por Tempo de Contribuição</td>\n",
              "      <td>Falta Tempo Contrib Ativs nos Dss8030 e Laudos...</td>\n",
              "      <td>01/01/1966</td>\n",
              "      <td>Masculino</td>\n",
              "      <td>Urbano</td>\n",
              "      <td>Desempregado</td>\n",
              "      <td>Alagoas</td>\n",
              "      <td>02/01/2019</td>\n",
              "    </tr>\n",
              "    <tr>\n",
              "      <th>3</th>\n",
              "      <td>201901</td>\n",
              "      <td>Auxílio Salario Maternidade</td>\n",
              "      <td>Parto/Guarda para Fins Adocao sem Qualidade de...</td>\n",
              "      <td>03/03/1978</td>\n",
              "      <td>Feminino</td>\n",
              "      <td>Urbano</td>\n",
              "      <td>Doméstico</td>\n",
              "      <td>Alagoas</td>\n",
              "      <td>04/01/2019</td>\n",
              "    </tr>\n",
              "    <tr>\n",
              "      <th>4</th>\n",
              "      <td>201901</td>\n",
              "      <td>Aposentadoria por Tempo de Contribuição</td>\n",
              "      <td>Falta Tempo Contrib Ativs nos Dss8030 e Laudos...</td>\n",
              "      <td>04/02/1966</td>\n",
              "      <td>Masculino</td>\n",
              "      <td>Urbano</td>\n",
              "      <td>Desempregado</td>\n",
              "      <td>Alagoas</td>\n",
              "      <td>04/01/2019</td>\n",
              "    </tr>\n",
              "  </tbody>\n",
              "</table>\n",
              "</div>"
            ],
            "text/plain": [
              "  Competência indeferimento  ... Dt Indeferimento\n",
              "0                    201901  ...       02/01/2019\n",
              "1                    201901  ...       02/01/2019\n",
              "2                    201901  ...       02/01/2019\n",
              "3                    201901  ...       04/01/2019\n",
              "4                    201901  ...       04/01/2019\n",
              "\n",
              "[5 rows x 9 columns]"
            ]
          },
          "metadata": {},
          "execution_count": 22
        }
      ]
    }
  ]
}